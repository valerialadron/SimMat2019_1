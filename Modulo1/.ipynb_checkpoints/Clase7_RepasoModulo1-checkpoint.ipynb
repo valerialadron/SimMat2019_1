{
 "cells": [
  {
   "cell_type": "markdown",
   "metadata": {},
   "source": [
    "# Repaso Módulo 1 - Optimización. <font color=blue>Tipo de examen 1</font>."
   ]
  },
  {
   "cell_type": "markdown",
   "metadata": {},
   "source": [
    "## Primer punto. Optimización de funciones escalares usando `sympy'.\n",
    "\n",
    "**Enunciado**: Un depósito abierto de latón con base cuadrada y capacidad para 4 000 litros, ¿qué dimensiones debe\n",
    "tener para que su fabricación sea lo más económica posible?\n",
    "\n",
    "Punto 1: Escriba la función a minimizar junto con las restricciones, explicando detalladamente cada paso (usando fórmulas en LaTeX, en celdas Markdown). \n",
    "\n",
    "Punto 2: Resuelva el problema utilizando sympy\n"
   ]
  },
  {
   "cell_type": "markdown",
   "metadata": {},
   "source": [
    "## Solución"
   ]
  },
  {
   "cell_type": "markdown",
   "metadata": {},
   "source": [
    "### Planteamiento del problema\n",
    "\n",
    "Llamamos $x$ al lado de la base e $y$ a la altura del depósito. Así, el volumen es:\n",
    "\n",
    "$$V=x^2y=4000$$\n",
    "\n",
    "$$ y= \\frac{4000}{x^2}$$\n",
    "\n",
    "La superficie total del depósito  será: \n",
    "\n",
    "$$A=x^2 + 4xy = x^2 + \\frac{16000}{x}, \\quad x>0$$\n",
    "\n",
    "Buscamos x para que A sea mínima:\n",
    "\n"
   ]
  },
  {
   "cell_type": "markdown",
   "metadata": {},
   "source": [
    "Usando `sympy` "
   ]
  },
  {
   "cell_type": "code",
   "execution_count": 208,
   "metadata": {},
   "outputs": [],
   "source": [
    "import numpy as np\n",
    "import matplotlib.pyplot as plt\n",
    "import sympy as sym\n",
    "sym.init_printing(use_latex='mathjax')"
   ]
  },
  {
   "cell_type": "code",
   "execution_count": 209,
   "metadata": {},
   "outputs": [
    {
     "data": {
      "text/latex": [
       "$$x$$"
      ],
      "text/plain": [
       "x"
      ]
     },
     "execution_count": 209,
     "metadata": {},
     "output_type": "execute_result"
    }
   ],
   "source": [
    "# Declaramos la variable simbolica x\n",
    "sym.var('x',real='true')"
   ]
  },
  {
   "cell_type": "code",
   "execution_count": 210,
   "metadata": {},
   "outputs": [],
   "source": [
    "# Definimos funcion area del rectangulo\n",
    "def A(x):\n",
    "    return x**2 + 16000/x"
   ]
  },
  {
   "cell_type": "code",
   "execution_count": 211,
   "metadata": {},
   "outputs": [
    {
     "data": {
      "text/latex": [
       "$$2 x - \\frac{16000}{x^{2}}$$"
      ],
      "text/plain": [
       "      16000\n",
       "2⋅x - ─────\n",
       "         2 \n",
       "        x  "
      ]
     },
     "execution_count": 211,
     "metadata": {},
     "output_type": "execute_result"
    }
   ],
   "source": [
    "# Derivamos funcion AR(x)\n",
    "dA = sym.diff(A(x), x)\n",
    "dA"
   ]
  },
  {
   "cell_type": "code",
   "execution_count": 212,
   "metadata": {},
   "outputs": [
    {
     "data": {
      "text/latex": [
       "$$\\left [ 20\\right ]$$"
      ],
      "text/plain": [
       "[20]"
      ]
     },
     "execution_count": 212,
     "metadata": {},
     "output_type": "execute_result"
    }
   ],
   "source": [
    "# Hallamos puntos criticos\n",
    "xc = sym.solve(dA, x)\n",
    "xc"
   ]
  },
  {
   "cell_type": "code",
   "execution_count": 213,
   "metadata": {},
   "outputs": [
    {
     "data": {
      "text/latex": [
       "$$1200$$"
      ],
      "text/plain": [
       "1200"
      ]
     },
     "execution_count": 213,
     "metadata": {},
     "output_type": "execute_result"
    }
   ],
   "source": [
    "# Evaluamos en puntos criticos\n",
    "A(xc[0])"
   ]
  },
  {
   "cell_type": "markdown",
   "metadata": {},
   "source": [
    "Veamos que es un mínimo: "
   ]
  },
  {
   "cell_type": "code",
   "execution_count": 214,
   "metadata": {},
   "outputs": [
    {
     "data": {
      "text/latex": [
       "$$2 \\left(1 + \\frac{16000}{x^{3}}\\right)$$"
      ],
      "text/plain": [
       "  ⎛    16000⎞\n",
       "2⋅⎜1 + ─────⎟\n",
       "  ⎜       3 ⎟\n",
       "  ⎝      x  ⎠"
      ]
     },
     "execution_count": 214,
     "metadata": {},
     "output_type": "execute_result"
    }
   ],
   "source": [
    "# Derivamos funcion AR(x)\n",
    "d2A = sym.diff(A(x), x,2)\n",
    "d2A"
   ]
  },
  {
   "cell_type": "markdown",
   "metadata": {},
   "source": [
    "Si $x=20$, d2A>0, por tanto, hay un mínimo."
   ]
  },
  {
   "cell_type": "code",
   "execution_count": 215,
   "metadata": {},
   "outputs": [
    {
     "data": {
      "text/plain": [
       "True"
      ]
     },
     "execution_count": 215,
     "metadata": {},
     "output_type": "execute_result"
    }
   ],
   "source": [
    "2*(1 + 16000/(20**3))>0"
   ]
  },
  {
   "cell_type": "markdown",
   "metadata": {},
   "source": [
    "**Conclusión:**\n",
    "\n",
    "Por tanto, el lado de la base debe medir, $x = 20 dm$ y la altura, $y = 10 dm$. "
   ]
  },
  {
   "cell_type": "markdown",
   "metadata": {},
   "source": [
    "## Segundo punto. Programación lineal."
   ]
  },
  {
   "cell_type": "markdown",
   "metadata": {},
   "source": [
    "**Enunciado.** \n",
    "\n",
    "Una compañía tiene dos minas: la mina $A$ produce diariamente 1 tonelada de carbón de antracita de alta calidad, 2 toneladas de carbón de calidad media y 4 toneladas de carbón de baja calidad; la mina $B$ produce 2 toneladas de cada una de las tres clases. Esta compañía necesita 70 toneladas de carbón de alta calidad, 130 de calidad media y 150 de baja calidad. \n",
    "\n",
    "Los gastos diarios de la mina $A$ ascienden a 500 u.m. y los de la mina $B$ a 750 u.m. ¿Cuántos días deberán trabajar en cada mina para que los costos sean mínimos? \n",
    "\n",
    "**Punto 1 (20 puntos).** Escriba la función a minimizar junto con las restricciones, explicando detalladamente cada paso (usando fórmulas en LaTeX, en celdas Markdown). Además escriba el problema en la forma \n",
    "\\begin{equation}\n",
    "\\begin{array}{ll}\n",
    "\\min_{\\boldsymbol{x}} & \\boldsymbol{c}^T\\boldsymbol{x} \\\\\n",
    "\\text{s. a. }        & \\boldsymbol{A}_{eq}\\boldsymbol{x}=\\boldsymbol{b}_{eq} \\\\\n",
    "                     & \\boldsymbol{A}\\boldsymbol{x}\\leq\\boldsymbol{b},\n",
    "\\end{array}\n",
    "\\end{equation}\n",
    "\n",
    "proporcionando $\\boldsymbol{c}$, $\\boldsymbol{A}$ y $\\boldsymbol{b}$ ($\\boldsymbol{A}_{eq}$ y $\\boldsymbol{b}_{eq}$, de ser necesario) como arreglos de `NumPy` (no es necesario escribir en LaTeX el problema en la forma indicada, solo proporcionar las matrices como arreglos de `NumPy`).\n",
    "\n",
    "**Punto 2**: Resuelva el problema utilizando la función linprog. ¿Cuántos días deberán trabajar en cada mina para que los costos sean mínimos?\n",
    "\n"
   ]
  },
  {
   "cell_type": "markdown",
   "metadata": {},
   "source": [
    "## Solución"
   ]
  },
  {
   "cell_type": "markdown",
   "metadata": {},
   "source": [
    "Como se quiere minimizar el costo total, entonces el problema es\n",
    "\n",
    "\n",
    "$$\\min_{x_1,x_2} 500x_1 + 750x_2,$$\n",
    "\n",
    "donde \n",
    "\n",
    "$x_1=$Número de días a explotar la mina $A$, \n",
    "\n",
    "$x_2=$Número de días a explotar la mina $B$. \n",
    "\n",
    "\n",
    "Además, las restricciones son:\n",
    "\n",
    "$$   x_1 + 2 x_2 \\geq 70$$\n",
    "$$ 2 x_1 + 2 x_2 \\geq 130$$\n",
    "$$ 4 x_1 + 2 x_2 \\geq 150$$\n",
    "\n",
    "$$x_1\\geq0, \\quad x_2 \\geq0$$"
   ]
  },
  {
   "cell_type": "code",
   "execution_count": 216,
   "metadata": {},
   "outputs": [],
   "source": [
    "# Escriba acá las matrices como arreglos de Numpy\n",
    "c = np.array([500, 750])\n",
    "A = -np.array([[1, 2],\n",
    "               [2, 2],\n",
    "               [4, 2],\n",
    "               [1, 0],\n",
    "               [0, 1]])\n",
    "b = -np.array([70,130,150,0,0])"
   ]
  },
  {
   "cell_type": "markdown",
   "metadata": {},
   "source": [
    "**Punto 2 (15 puntos).** Resuelva el problema utilizando la función `linprog`. ¿Cuántos trabajadores son necesarios en total?"
   ]
  },
  {
   "cell_type": "code",
   "execution_count": 217,
   "metadata": {},
   "outputs": [],
   "source": [
    "import scipy.optimize as opt"
   ]
  },
  {
   "cell_type": "code",
   "execution_count": 218,
   "metadata": {},
   "outputs": [
    {
     "data": {
      "text/plain": [
       "     fun: 33750.0\n",
       " message: 'Optimization terminated successfully.'\n",
       "     nit: 4\n",
       "   slack: array([ 60.,   5., 100.,   0.,   0.])\n",
       "  status: 0\n",
       " success: True\n",
       "       x: array([60.,  5.])"
      ]
     },
     "execution_count": 218,
     "metadata": {},
     "output_type": "execute_result"
    }
   ],
   "source": [
    "trabajadores = opt.linprog(c, A_ub=A, b_ub=b)\n",
    "trabajadores"
   ]
  },
  {
   "cell_type": "markdown",
   "metadata": {},
   "source": [
    "- La mina $A$ se debe explotar 60 días\n",
    "- La mina $B$ se debe explotar 5 días\n",
    "- Los costos mínimos son de 33750 u.m. "
   ]
  },
  {
   "cell_type": "markdown",
   "metadata": {},
   "source": [
    "## Tercer punto. Ajuste de curvas (35 puntos).\n",
    "\n",
    "**Enunciado**. El archivo `population_data.csv` contiene información histórica anual de México relativa a la población, nacimientos y muertes desde el año 1950 hasta el año 2015. La primer columna corresponde a los años, la segunda a la población, la tercera a los nacimientos y la última a los decesos.\n",
    "\n",
    "Tomado de: https://en.wikipedia.org/wiki/Demographics_of_Mexico.\n",
    "\n",
    "**Punto 1.** Importar los datos en un DataFrame de pandas."
   ]
  },
  {
   "cell_type": "markdown",
   "metadata": {},
   "source": [
    "**Solución punto 1.**"
   ]
  },
  {
   "cell_type": "code",
   "execution_count": 236,
   "metadata": {},
   "outputs": [],
   "source": [
    "# Importar libreria pandas\n",
    "import pandas as pd"
   ]
  },
  {
   "cell_type": "code",
   "execution_count": 237,
   "metadata": {},
   "outputs": [
    {
     "data": {
      "text/html": [
       "<div>\n",
       "<style scoped>\n",
       "    .dataframe tbody tr th:only-of-type {\n",
       "        vertical-align: middle;\n",
       "    }\n",
       "\n",
       "    .dataframe tbody tr th {\n",
       "        vertical-align: top;\n",
       "    }\n",
       "\n",
       "    .dataframe thead th {\n",
       "        text-align: right;\n",
       "    }\n",
       "</style>\n",
       "<table border=\"1\" class=\"dataframe\">\n",
       "  <thead>\n",
       "    <tr style=\"text-align: right;\">\n",
       "      <th></th>\n",
       "      <th>0</th>\n",
       "      <th>1</th>\n",
       "      <th>2</th>\n",
       "      <th>3</th>\n",
       "    </tr>\n",
       "  </thead>\n",
       "  <tbody>\n",
       "    <tr>\n",
       "      <th>0</th>\n",
       "      <td>1950</td>\n",
       "      <td>28296</td>\n",
       "      <td>1174947</td>\n",
       "      <td>418430</td>\n",
       "    </tr>\n",
       "    <tr>\n",
       "      <th>1</th>\n",
       "      <td>1951</td>\n",
       "      <td>29110</td>\n",
       "      <td>1183788</td>\n",
       "      <td>458238</td>\n",
       "    </tr>\n",
       "    <tr>\n",
       "      <th>2</th>\n",
       "      <td>1952</td>\n",
       "      <td>29980</td>\n",
       "      <td>1195209</td>\n",
       "      <td>408823</td>\n",
       "    </tr>\n",
       "    <tr>\n",
       "      <th>3</th>\n",
       "      <td>1953</td>\n",
       "      <td>30904</td>\n",
       "      <td>1261775</td>\n",
       "      <td>446127</td>\n",
       "    </tr>\n",
       "    <tr>\n",
       "      <th>4</th>\n",
       "      <td>1954</td>\n",
       "      <td>31880</td>\n",
       "      <td>1339837</td>\n",
       "      <td>378752</td>\n",
       "    </tr>\n",
       "    <tr>\n",
       "      <th>5</th>\n",
       "      <td>1955</td>\n",
       "      <td>32906</td>\n",
       "      <td>1377917</td>\n",
       "      <td>407522</td>\n",
       "    </tr>\n",
       "    <tr>\n",
       "      <th>6</th>\n",
       "      <td>1956</td>\n",
       "      <td>33978</td>\n",
       "      <td>1427722</td>\n",
       "      <td>368740</td>\n",
       "    </tr>\n",
       "    <tr>\n",
       "      <th>7</th>\n",
       "      <td>1957</td>\n",
       "      <td>35095</td>\n",
       "      <td>1485202</td>\n",
       "      <td>414545</td>\n",
       "    </tr>\n",
       "    <tr>\n",
       "      <th>8</th>\n",
       "      <td>1958</td>\n",
       "      <td>36253</td>\n",
       "      <td>1447578</td>\n",
       "      <td>404529</td>\n",
       "    </tr>\n",
       "    <tr>\n",
       "      <th>9</th>\n",
       "      <td>1959</td>\n",
       "      <td>37448</td>\n",
       "      <td>1589606</td>\n",
       "      <td>396924</td>\n",
       "    </tr>\n",
       "    <tr>\n",
       "      <th>10</th>\n",
       "      <td>1960</td>\n",
       "      <td>38677</td>\n",
       "      <td>1608174</td>\n",
       "      <td>402545</td>\n",
       "    </tr>\n",
       "    <tr>\n",
       "      <th>11</th>\n",
       "      <td>1961</td>\n",
       "      <td>39939</td>\n",
       "      <td>1647006</td>\n",
       "      <td>388857</td>\n",
       "    </tr>\n",
       "    <tr>\n",
       "      <th>12</th>\n",
       "      <td>1962</td>\n",
       "      <td>41234</td>\n",
       "      <td>1705481</td>\n",
       "      <td>403046</td>\n",
       "    </tr>\n",
       "    <tr>\n",
       "      <th>13</th>\n",
       "      <td>1963</td>\n",
       "      <td>42564</td>\n",
       "      <td>1756624</td>\n",
       "      <td>412834</td>\n",
       "    </tr>\n",
       "    <tr>\n",
       "      <th>14</th>\n",
       "      <td>1964</td>\n",
       "      <td>43931</td>\n",
       "      <td>1849408</td>\n",
       "      <td>408275</td>\n",
       "    </tr>\n",
       "    <tr>\n",
       "      <th>15</th>\n",
       "      <td>1965</td>\n",
       "      <td>45339</td>\n",
       "      <td>1888171</td>\n",
       "      <td>404163</td>\n",
       "    </tr>\n",
       "    <tr>\n",
       "      <th>16</th>\n",
       "      <td>1966</td>\n",
       "      <td>46784</td>\n",
       "      <td>1954340</td>\n",
       "      <td>424141</td>\n",
       "    </tr>\n",
       "    <tr>\n",
       "      <th>17</th>\n",
       "      <td>1967</td>\n",
       "      <td>48264</td>\n",
       "      <td>1981363</td>\n",
       "      <td>420298</td>\n",
       "    </tr>\n",
       "    <tr>\n",
       "      <th>18</th>\n",
       "      <td>1968</td>\n",
       "      <td>49788</td>\n",
       "      <td>2058251</td>\n",
       "      <td>452910</td>\n",
       "    </tr>\n",
       "    <tr>\n",
       "      <th>19</th>\n",
       "      <td>1969</td>\n",
       "      <td>51361</td>\n",
       "      <td>2037561</td>\n",
       "      <td>458886</td>\n",
       "    </tr>\n",
       "    <tr>\n",
       "      <th>20</th>\n",
       "      <td>1970</td>\n",
       "      <td>52988</td>\n",
       "      <td>2132630</td>\n",
       "      <td>485656</td>\n",
       "    </tr>\n",
       "    <tr>\n",
       "      <th>21</th>\n",
       "      <td>1971</td>\n",
       "      <td>54669</td>\n",
       "      <td>2231399</td>\n",
       "      <td>458323</td>\n",
       "    </tr>\n",
       "    <tr>\n",
       "      <th>22</th>\n",
       "      <td>1972</td>\n",
       "      <td>56396</td>\n",
       "      <td>2346002</td>\n",
       "      <td>476206</td>\n",
       "    </tr>\n",
       "    <tr>\n",
       "      <th>23</th>\n",
       "      <td>1973</td>\n",
       "      <td>58156</td>\n",
       "      <td>2572287</td>\n",
       "      <td>458915</td>\n",
       "    </tr>\n",
       "    <tr>\n",
       "      <th>24</th>\n",
       "      <td>1974</td>\n",
       "      <td>59931</td>\n",
       "      <td>2522580</td>\n",
       "      <td>433104</td>\n",
       "    </tr>\n",
       "    <tr>\n",
       "      <th>25</th>\n",
       "      <td>1975</td>\n",
       "      <td>61708</td>\n",
       "      <td>2254497</td>\n",
       "      <td>435888</td>\n",
       "    </tr>\n",
       "    <tr>\n",
       "      <th>26</th>\n",
       "      <td>1976</td>\n",
       "      <td>63486</td>\n",
       "      <td>2366305</td>\n",
       "      <td>455660</td>\n",
       "    </tr>\n",
       "    <tr>\n",
       "      <th>27</th>\n",
       "      <td>1977</td>\n",
       "      <td>65261</td>\n",
       "      <td>2379327</td>\n",
       "      <td>450454</td>\n",
       "    </tr>\n",
       "    <tr>\n",
       "      <th>28</th>\n",
       "      <td>1978</td>\n",
       "      <td>67013</td>\n",
       "      <td>2346862</td>\n",
       "      <td>418381</td>\n",
       "    </tr>\n",
       "    <tr>\n",
       "      <th>29</th>\n",
       "      <td>1979</td>\n",
       "      <td>68715</td>\n",
       "      <td>2274267</td>\n",
       "      <td>428217</td>\n",
       "    </tr>\n",
       "    <tr>\n",
       "      <th>...</th>\n",
       "      <td>...</td>\n",
       "      <td>...</td>\n",
       "      <td>...</td>\n",
       "      <td>...</td>\n",
       "    </tr>\n",
       "    <tr>\n",
       "      <th>36</th>\n",
       "      <td>1986</td>\n",
       "      <td>79410</td>\n",
       "      <td>2577045</td>\n",
       "      <td>400079</td>\n",
       "    </tr>\n",
       "    <tr>\n",
       "      <th>37</th>\n",
       "      <td>1987</td>\n",
       "      <td>80999</td>\n",
       "      <td>2794390</td>\n",
       "      <td>400280</td>\n",
       "    </tr>\n",
       "    <tr>\n",
       "      <th>38</th>\n",
       "      <td>1988</td>\n",
       "      <td>82635</td>\n",
       "      <td>2622031</td>\n",
       "      <td>412987</td>\n",
       "    </tr>\n",
       "    <tr>\n",
       "      <th>39</th>\n",
       "      <td>1989</td>\n",
       "      <td>84327</td>\n",
       "      <td>2620262</td>\n",
       "      <td>423304</td>\n",
       "    </tr>\n",
       "    <tr>\n",
       "      <th>40</th>\n",
       "      <td>1990</td>\n",
       "      <td>86077</td>\n",
       "      <td>2735312</td>\n",
       "      <td>422803</td>\n",
       "    </tr>\n",
       "    <tr>\n",
       "      <th>41</th>\n",
       "      <td>1991</td>\n",
       "      <td>87890</td>\n",
       "      <td>2756447</td>\n",
       "      <td>411131</td>\n",
       "    </tr>\n",
       "    <tr>\n",
       "      <th>42</th>\n",
       "      <td>1992</td>\n",
       "      <td>89758</td>\n",
       "      <td>2797397</td>\n",
       "      <td>409814</td>\n",
       "    </tr>\n",
       "    <tr>\n",
       "      <th>43</th>\n",
       "      <td>1993</td>\n",
       "      <td>91654</td>\n",
       "      <td>2839686</td>\n",
       "      <td>416335</td>\n",
       "    </tr>\n",
       "    <tr>\n",
       "      <th>44</th>\n",
       "      <td>1994</td>\n",
       "      <td>93542</td>\n",
       "      <td>2904389</td>\n",
       "      <td>419074</td>\n",
       "    </tr>\n",
       "    <tr>\n",
       "      <th>45</th>\n",
       "      <td>1995</td>\n",
       "      <td>95393</td>\n",
       "      <td>2750444</td>\n",
       "      <td>430278</td>\n",
       "    </tr>\n",
       "    <tr>\n",
       "      <th>46</th>\n",
       "      <td>1996</td>\n",
       "      <td>97202</td>\n",
       "      <td>2707718</td>\n",
       "      <td>436321</td>\n",
       "    </tr>\n",
       "    <tr>\n",
       "      <th>47</th>\n",
       "      <td>1997</td>\n",
       "      <td>98969</td>\n",
       "      <td>2698425</td>\n",
       "      <td>440437</td>\n",
       "    </tr>\n",
       "    <tr>\n",
       "      <th>48</th>\n",
       "      <td>1998</td>\n",
       "      <td>100679</td>\n",
       "      <td>2668429</td>\n",
       "      <td>444665</td>\n",
       "    </tr>\n",
       "    <tr>\n",
       "      <th>49</th>\n",
       "      <td>1999</td>\n",
       "      <td>102317</td>\n",
       "      <td>2769089</td>\n",
       "      <td>443950</td>\n",
       "    </tr>\n",
       "    <tr>\n",
       "      <th>50</th>\n",
       "      <td>2000</td>\n",
       "      <td>103874</td>\n",
       "      <td>2798339</td>\n",
       "      <td>437667</td>\n",
       "    </tr>\n",
       "    <tr>\n",
       "      <th>51</th>\n",
       "      <td>2001</td>\n",
       "      <td>105340</td>\n",
       "      <td>2767610</td>\n",
       "      <td>443127</td>\n",
       "    </tr>\n",
       "    <tr>\n",
       "      <th>52</th>\n",
       "      <td>2002</td>\n",
       "      <td>106724</td>\n",
       "      <td>2699084</td>\n",
       "      <td>459687</td>\n",
       "    </tr>\n",
       "    <tr>\n",
       "      <th>53</th>\n",
       "      <td>2003</td>\n",
       "      <td>108056</td>\n",
       "      <td>2655894</td>\n",
       "      <td>472140</td>\n",
       "    </tr>\n",
       "    <tr>\n",
       "      <th>54</th>\n",
       "      <td>2004</td>\n",
       "      <td>109382</td>\n",
       "      <td>2625056</td>\n",
       "      <td>473417</td>\n",
       "    </tr>\n",
       "    <tr>\n",
       "      <th>55</th>\n",
       "      <td>2005</td>\n",
       "      <td>110732</td>\n",
       "      <td>2567906</td>\n",
       "      <td>495240</td>\n",
       "    </tr>\n",
       "    <tr>\n",
       "      <th>56</th>\n",
       "      <td>2006</td>\n",
       "      <td>112117</td>\n",
       "      <td>2505939</td>\n",
       "      <td>494471</td>\n",
       "    </tr>\n",
       "    <tr>\n",
       "      <th>57</th>\n",
       "      <td>2007</td>\n",
       "      <td>113530</td>\n",
       "      <td>2655083</td>\n",
       "      <td>514420</td>\n",
       "    </tr>\n",
       "    <tr>\n",
       "      <th>58</th>\n",
       "      <td>2008</td>\n",
       "      <td>114968</td>\n",
       "      <td>2636110</td>\n",
       "      <td>539530</td>\n",
       "    </tr>\n",
       "    <tr>\n",
       "      <th>59</th>\n",
       "      <td>2009</td>\n",
       "      <td>116423</td>\n",
       "      <td>2577214</td>\n",
       "      <td>564673</td>\n",
       "    </tr>\n",
       "    <tr>\n",
       "      <th>60</th>\n",
       "      <td>2010</td>\n",
       "      <td>114255</td>\n",
       "      <td>2643908</td>\n",
       "      <td>592018</td>\n",
       "    </tr>\n",
       "    <tr>\n",
       "      <th>61</th>\n",
       "      <td>2011</td>\n",
       "      <td>115683</td>\n",
       "      <td>2586287</td>\n",
       "      <td>590693</td>\n",
       "    </tr>\n",
       "    <tr>\n",
       "      <th>62</th>\n",
       "      <td>2012</td>\n",
       "      <td>117054</td>\n",
       "      <td>2498880</td>\n",
       "      <td>602354</td>\n",
       "    </tr>\n",
       "    <tr>\n",
       "      <th>63</th>\n",
       "      <td>2013</td>\n",
       "      <td>118395</td>\n",
       "      <td>2478889</td>\n",
       "      <td>623599</td>\n",
       "    </tr>\n",
       "    <tr>\n",
       "      <th>64</th>\n",
       "      <td>2014</td>\n",
       "      <td>119713</td>\n",
       "      <td>2463420</td>\n",
       "      <td>633641</td>\n",
       "    </tr>\n",
       "    <tr>\n",
       "      <th>65</th>\n",
       "      <td>2015</td>\n",
       "      <td>121005</td>\n",
       "      <td>2353596</td>\n",
       "      <td>655694</td>\n",
       "    </tr>\n",
       "  </tbody>\n",
       "</table>\n",
       "<p>66 rows × 4 columns</p>\n",
       "</div>"
      ],
      "text/plain": [
       "       0       1        2       3\n",
       "0   1950   28296  1174947  418430\n",
       "1   1951   29110  1183788  458238\n",
       "2   1952   29980  1195209  408823\n",
       "3   1953   30904  1261775  446127\n",
       "4   1954   31880  1339837  378752\n",
       "5   1955   32906  1377917  407522\n",
       "6   1956   33978  1427722  368740\n",
       "7   1957   35095  1485202  414545\n",
       "8   1958   36253  1447578  404529\n",
       "9   1959   37448  1589606  396924\n",
       "10  1960   38677  1608174  402545\n",
       "11  1961   39939  1647006  388857\n",
       "12  1962   41234  1705481  403046\n",
       "13  1963   42564  1756624  412834\n",
       "14  1964   43931  1849408  408275\n",
       "15  1965   45339  1888171  404163\n",
       "16  1966   46784  1954340  424141\n",
       "17  1967   48264  1981363  420298\n",
       "18  1968   49788  2058251  452910\n",
       "19  1969   51361  2037561  458886\n",
       "20  1970   52988  2132630  485656\n",
       "21  1971   54669  2231399  458323\n",
       "22  1972   56396  2346002  476206\n",
       "23  1973   58156  2572287  458915\n",
       "24  1974   59931  2522580  433104\n",
       "25  1975   61708  2254497  435888\n",
       "26  1976   63486  2366305  455660\n",
       "27  1977   65261  2379327  450454\n",
       "28  1978   67013  2346862  418381\n",
       "29  1979   68715  2274267  428217\n",
       "..   ...     ...      ...     ...\n",
       "36  1986   79410  2577045  400079\n",
       "37  1987   80999  2794390  400280\n",
       "38  1988   82635  2622031  412987\n",
       "39  1989   84327  2620262  423304\n",
       "40  1990   86077  2735312  422803\n",
       "41  1991   87890  2756447  411131\n",
       "42  1992   89758  2797397  409814\n",
       "43  1993   91654  2839686  416335\n",
       "44  1994   93542  2904389  419074\n",
       "45  1995   95393  2750444  430278\n",
       "46  1996   97202  2707718  436321\n",
       "47  1997   98969  2698425  440437\n",
       "48  1998  100679  2668429  444665\n",
       "49  1999  102317  2769089  443950\n",
       "50  2000  103874  2798339  437667\n",
       "51  2001  105340  2767610  443127\n",
       "52  2002  106724  2699084  459687\n",
       "53  2003  108056  2655894  472140\n",
       "54  2004  109382  2625056  473417\n",
       "55  2005  110732  2567906  495240\n",
       "56  2006  112117  2505939  494471\n",
       "57  2007  113530  2655083  514420\n",
       "58  2008  114968  2636110  539530\n",
       "59  2009  116423  2577214  564673\n",
       "60  2010  114255  2643908  592018\n",
       "61  2011  115683  2586287  590693\n",
       "62  2012  117054  2498880  602354\n",
       "63  2013  118395  2478889  623599\n",
       "64  2014  119713  2463420  633641\n",
       "65  2015  121005  2353596  655694\n",
       "\n",
       "[66 rows x 4 columns]"
      ]
     },
     "execution_count": 237,
     "metadata": {},
     "output_type": "execute_result"
    }
   ],
   "source": [
    "file_name = 'population_data.csv'\n",
    "data = pd.read_csv(file_name, header=None)\n",
    "data"
   ]
  },
  {
   "cell_type": "markdown",
   "metadata": {},
   "source": [
    "**Punto 2.** Usando los años como variable independiente $x$ y la población como variable dependiente $y$, ajustar polinomios de grado 1 hasta grado 3.\n",
    "\n",
    "Mostrar en un solo gráfico los datos de población contra los años, y los polinomios ajustados.\n",
    "\n",
    "Graficar el error cuadrático acumulado contra el número de términos. ¿Cuál es el polinomio que mejor se ajusta?"
   ]
  },
  {
   "cell_type": "markdown",
   "metadata": {},
   "source": [
    "**Solución punto 2.**"
   ]
  },
  {
   "cell_type": "code",
   "execution_count": 238,
   "metadata": {},
   "outputs": [],
   "source": [
    "import numpy as np\n",
    "import scipy.optimize as opt"
   ]
  },
  {
   "cell_type": "code",
   "execution_count": 239,
   "metadata": {},
   "outputs": [
    {
     "data": {
      "text/plain": [
       "array([1950, 1951, 1952, 1953, 1954, 1955, 1956, 1957, 1958, 1959, 1960,\n",
       "       1961, 1962, 1963, 1964, 1965, 1966, 1967, 1968, 1969, 1970, 1971,\n",
       "       1972, 1973, 1974, 1975, 1976, 1977, 1978, 1979, 1980, 1981, 1982,\n",
       "       1983, 1984, 1985, 1986, 1987, 1988, 1989, 1990, 1991, 1992, 1993,\n",
       "       1994, 1995, 1996, 1997, 1998, 1999, 2000, 2001, 2002, 2003, 2004,\n",
       "       2005, 2006, 2007, 2008, 2009, 2010, 2011, 2012, 2013, 2014, 2015],\n",
       "      dtype=int64)"
      ]
     },
     "execution_count": 239,
     "metadata": {},
     "output_type": "execute_result"
    }
   ],
   "source": [
    "x = data.iloc[:,0].values\n",
    "#y = data.iloc[:,1].values\n",
    "#y\n",
    "x"
   ]
  },
  {
   "cell_type": "code",
   "execution_count": 240,
   "metadata": {},
   "outputs": [],
   "source": [
    "def fun_obj(b, x, y, n):\n",
    "    return np.sum((y-b.dot([x**i for i in range(n+1)]))**2)"
   ]
  },
  {
   "cell_type": "code",
   "execution_count": 241,
   "metadata": {},
   "outputs": [],
   "source": [
    "b01 = np.zeros(2)\n",
    "ajuste1 = opt.minimize(fun_obj, b01, args=(x,y,1))\n",
    "b02 = np.zeros(3)\n",
    "ajuste2 = opt.minimize(fun_obj, b02, args=(x,y,2))\n",
    "b03 = np.zeros(4)\n",
    "ajuste3 = opt.minimize(fun_obj, b03, args=(x,y,3))"
   ]
  },
  {
   "cell_type": "code",
   "execution_count": 242,
   "metadata": {},
   "outputs": [
    {
     "data": {
      "text/plain": [
       "      fun: 212137174.63632533\n",
       " hess_inv: array([[ 2.92700555e+01, -1.47629881e-02],\n",
       "       [-1.47629881e-02,  7.44793490e-06]])\n",
       "      jac: array([-8.000e+00, -1.726e+04])\n",
       "  message: 'Desired error not necessarily achieved due to precision loss.'\n",
       "     nfev: 404\n",
       "      nit: 10\n",
       "     njev: 98\n",
       "   status: 2\n",
       "  success: False\n",
       "        x: array([-2.98663821e+06,  1.54398754e+03])"
      ]
     },
     "execution_count": 242,
     "metadata": {},
     "output_type": "execute_result"
    }
   ],
   "source": [
    "ajuste1"
   ]
  },
  {
   "cell_type": "code",
   "execution_count": 243,
   "metadata": {},
   "outputs": [
    {
     "data": {
      "text/plain": [
       "      fun: 211769769.90544683\n",
       " hess_inv: array([[ 9.99998991e-01, -1.00454308e-03,  2.52361256e-07],\n",
       "       [-1.00454308e-03,  2.18977336e-05, -1.07870980e-08],\n",
       "       [ 2.52361256e-07, -1.07870980e-08,  5.37599157e-12]])\n",
       "      jac: array([-6.0000000e+00, -1.9784000e+04, -3.1335656e+07])\n",
       "  message: 'Desired error not necessarily achieved due to precision loss.'\n",
       "     nfev: 442\n",
       "      nit: 2\n",
       "     njev: 86\n",
       "   status: 2\n",
       "  success: False\n",
       "        x: array([-1.47598124e+00, -1.46914963e+03,  7.59898021e-01])"
      ]
     },
     "execution_count": 243,
     "metadata": {},
     "output_type": "execute_result"
    }
   ],
   "source": [
    "ajuste2"
   ]
  },
  {
   "cell_type": "code",
   "execution_count": 244,
   "metadata": {},
   "outputs": [
    {
     "data": {
      "text/plain": [
       "      fun: 1309320695.3408244\n",
       " hess_inv: array([[ 1.00000000e+00, -7.51366501e-10, -7.65539787e-07,\n",
       "         2.57822340e-10],\n",
       "       [-7.51366501e-10,  9.99999003e-01, -1.00880877e-03,\n",
       "         2.54400554e-07],\n",
       "       [-7.65539787e-07, -1.00880877e-03,  1.01770205e-06,\n",
       "        -2.56644644e-10],\n",
       "       [ 2.57822340e-10,  2.54400554e-07, -2.56644644e-10,\n",
       "         6.47211250e-14]])\n",
       "      jac: array([ 7.79200000e+03,  5.22819200e+06, -9.88784125e+09,  2.42945442e+09])\n",
       "  message: 'Desired error not necessarily achieved due to precision loss.'\n",
       "     nfev: 257\n",
       "      nit: 2\n",
       "     njev: 41\n",
       "   status: 2\n",
       "  success: False\n",
       "        x: array([-5.59810314e-07, -7.08391073e-04, -6.14553870e-01,  3.19475056e-04])"
      ]
     },
     "execution_count": 244,
     "metadata": {},
     "output_type": "execute_result"
    }
   ],
   "source": [
    "ajuste3"
   ]
  },
  {
   "cell_type": "code",
   "execution_count": 245,
   "metadata": {},
   "outputs": [],
   "source": [
    "xpoints = x\n",
    "ypoints = y\n",
    "yhat1 = (ajuste1.x[0]+ajuste1.x[1]*xpoints)\n",
    "yhat2 = (ajuste2.x[0]+ajuste2.x[1]*xpoints+ ajuste2.x[2]*(xpoints)**2)\n",
    "yhat3 = (ajuste3.x[0]+ajuste3.x[1]*xpoints+ ajuste3.x[2]*(xpoints)**2+ ajuste3.x[3]*(xpoints)**3)"
   ]
  },
  {
   "cell_type": "code",
   "execution_count": 246,
   "metadata": {},
   "outputs": [],
   "source": [
    "import matplotlib.pyplot as plt"
   ]
  },
  {
   "cell_type": "code",
   "execution_count": 247,
   "metadata": {},
   "outputs": [
    {
     "data": {
      "text/plain": [
       "<matplotlib.legend.Legend at 0x20123f588d0>"
      ]
     },
     "execution_count": 247,
     "metadata": {},
     "output_type": "execute_result"
    },
    {
     "data": {
      "image/png": "[encoded data removed]",
      "text/plain": [
       "<Figure size 576x432 with 1 Axes>"
      ]
     },
     "metadata": {
      "needs_background": "light"
     },
     "output_type": "display_data"
    }
   ],
   "source": [
    "plt.figure(figsize=(8,6))\n",
    "plt.plot(xpoints, ypoints, 'r*', ms=5, label='Datos')\n",
    "plt.plot(xpoints, yhat1, '-.b', lw=2, label='Ajuste 1')\n",
    "plt.plot(xpoints, yhat2, '-.k', lw=2, label='Ajuste 2')\n",
    "plt.plot(xpoints, yhat3, '-.g', lw=2, label='Ajuste 3')\n",
    "plt.grid()\n",
    "plt.xlabel('Años')\n",
    "plt.ylabel('Población (miles de personas)')\n",
    "plt.legend(loc='best')"
   ]
  },
  {
   "cell_type": "code",
   "execution_count": 253,
   "metadata": {},
   "outputs": [
    {
     "data": {
      "text/latex": [
       "$$\\left [ 212137174.63632533, \\quad 211769769.90544683, \\quad 1309320695.3408244\\right ]$$"
      ],
      "text/plain": [
       "[212137174.63632533, 211769769.90544683, 1309320695.3408244]"
      ]
     },
     "execution_count": 253,
     "metadata": {},
     "output_type": "execute_result"
    },
    {
     "data": {
      "image/png": "[encoded data removed]",
      "text/plain": [
       "<Figure size 576x432 with 1 Axes>"
      ]
     },
     "metadata": {
      "needs_background": "light"
     },
     "output_type": "display_data"
    }
   ],
   "source": [
    "error = [ajuste1.fun, ajuste2.fun, ajuste3.fun]\n",
    "plt.figure(figsize=(8,6))\n",
    "plt.plot(range(1,4), error, 'ro', ms=5)\n",
    "plt.xlabel('Orden del polinomio')\n",
    "plt.ylabel('error')\n",
    "\n",
    "error"
   ]
  },
  {
   "cell_type": "markdown",
   "metadata": {},
   "source": [
    "*Conclusión*"
   ]
  },
  {
   "cell_type": "markdown",
   "metadata": {},
   "source": [
    "Según la gráfica anterior, el polinomio que mejor se ajusta es el de segundo orden."
   ]
  },
  {
   "cell_type": "markdown",
   "metadata": {},
   "source": [
    "**Punto 3.** Con los polinomios ajustados en el punto anterior, estime la población en el año 2016 y compare con el dato real 127,5 millones.\n",
    "\n",
    "¿Cuál polinomio estima mejor este dato? ¿Es el polinomio que mejor se ajusta? Concluya."
   ]
  },
  {
   "cell_type": "markdown",
   "metadata": {
    "collapsed": true
   },
   "source": [
    "**Solución punto 3.**"
   ]
  },
  {
   "cell_type": "code",
   "execution_count": 252,
   "metadata": {},
   "outputs": [
    {
     "data": {
      "text/latex": [
       "$$\\left ( 126040.66539581446, \\quad 126612.95679283561, \\quad 119925.99805995589, \\quad 127500\\right )$$"
      ],
      "text/plain": [
       "(126040.66539581446, 126612.95679283561, 119925.99805995589, 127500)"
      ]
     },
     "execution_count": 252,
     "metadata": {},
     "output_type": "execute_result"
    }
   ],
   "source": [
    "yhat1 = ajuste1.x[0]+ajuste1.x[1]*2016\n",
    "yhat2 = ajuste2.x[0]+ajuste2.x[1]*2016 + ajuste2.x[2]*(2016)**2\n",
    "yhat3 = ajuste3.x[0]+ajuste3.x[1]*2016 + ajuste3.x[2]*(2016)**2 + ajuste3.x[3]*(2016)**3\n",
    "yhat1, yhat2, yhat3, 127500"
   ]
  },
  {
   "cell_type": "markdown",
   "metadata": {},
   "source": [
    "*Conclusión*. El polinomio que mejor estima este dato es el polinomio de grado dos."
   ]
  },
  {
   "cell_type": "code",
   "execution_count": null,
   "metadata": {},
   "outputs": [],
   "source": []
  }
 ],
 "metadata": {
  "kernelspec": {
   "display_name": "Python 3",
   "language": "python",
   "name": "python3"
  },
  "language_info": {
   "codemirror_mode": {
    "name": "ipython",
    "version": 3
   },
   "file_extension": ".py",
   "mimetype": "text/x-python",
   "name": "python",
   "nbconvert_exporter": "python",
   "pygments_lexer": "ipython3",
   "version": "3.7.0"
  }
 },
 "nbformat": 4,
 "nbformat_minor": 2
}
