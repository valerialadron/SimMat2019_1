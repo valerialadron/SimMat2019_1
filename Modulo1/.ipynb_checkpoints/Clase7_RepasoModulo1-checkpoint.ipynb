{
 "cells": [
  {
   "cell_type": "markdown",
   "metadata": {},
   "source": [
    "# Repaso Módulo 1 - Optimización. <font color=blue>Tipo de examen</font>."
   ]
  },
  {
   "cell_type": "markdown",
   "metadata": {},
   "source": [
    "## Primer punto. Optimización de funciones escalares usando `sympy'.\n",
    "\n",
    "**Enunciado**: Un depósito abierto de latón con base cuadrada y capacidad para 4 000 litros, ¿qué dimensiones debe\n",
    "tener para que su fabricación sea lo más económica posible?\n",
    "\n",
    "Punto 1: Escriba la función a minimizar junto con las restricciones, explicando detalladamente cada paso (usando fórmulas en LaTeX, en celdas Markdown). \n",
    "\n",
    "Punto 2: Resuelva el problema utilizando sympy\n"
   ]
  },
  {
   "cell_type": "markdown",
   "metadata": {},
   "source": [
    "## Solución"
   ]
  },
  {
   "cell_type": "markdown",
   "metadata": {},
   "source": [
    "### Planteamiento del problema\n",
    "\n",
    "Llamamos $x$ al lado de la base e $y$ a la altura del depósito. Así, el volumen es:\n",
    "\n",
    "$$V=x^2y=4000$$\n",
    "\n",
    "$$ y= \\frac{4000}{x^2}$$\n",
    "\n",
    "La superficie total del depósito  será: \n",
    "\n",
    "$$A=x^2 + 4xy = x^2 + \\frac{16000}{x}, \\quad x>0$$\n",
    "\n",
    "Buscamos x para que A sea mínima:\n",
    "\n"
   ]
  },
  {
   "cell_type": "markdown",
   "metadata": {},
   "source": [
    "Usando `sympy` "
   ]
  },
  {
   "cell_type": "code",
   "execution_count": 3,
   "metadata": {},
   "outputs": [],
   "source": [
    "import numpy as np\n",
    "import matplotlib.pyplot as plt\n",
    "import sympy as sym\n",
    "sym.init_printing(use_latex='mathjax')"
   ]
  },
  {
   "cell_type": "code",
   "execution_count": 4,
   "metadata": {},
   "outputs": [
    {
     "data": {
      "text/latex": [
       "$$x$$"
      ],
      "text/plain": [
       "x"
      ]
     },
     "execution_count": 4,
     "metadata": {},
     "output_type": "execute_result"
    }
   ],
   "source": [
    "# Declaramos la variable simbolica x\n",
    "sym.var('x',real='true')"
   ]
  },
  {
   "cell_type": "code",
   "execution_count": 5,
   "metadata": {},
   "outputs": [],
   "source": [
    "# Definimos funcion area del rectangulo\n",
    "def A(x):\n",
    "    return x**2 + 16000/x"
   ]
  },
  {
   "cell_type": "code",
   "execution_count": 6,
   "metadata": {},
   "outputs": [
    {
     "data": {
      "text/latex": [
       "$$2 x - \\frac{16000}{x^{2}}$$"
      ],
      "text/plain": [
       "      16000\n",
       "2⋅x - ─────\n",
       "         2 \n",
       "        x  "
      ]
     },
     "execution_count": 6,
     "metadata": {},
     "output_type": "execute_result"
    }
   ],
   "source": [
    "# Derivamos funcion AR(x)\n",
    "dA = sym.diff(A(x), x)\n",
    "dA"
   ]
  },
  {
   "cell_type": "code",
   "execution_count": 7,
   "metadata": {},
   "outputs": [
    {
     "data": {
      "text/latex": [
       "$$\\left [ 20\\right ]$$"
      ],
      "text/plain": [
       "[20]"
      ]
     },
     "execution_count": 7,
     "metadata": {},
     "output_type": "execute_result"
    }
   ],
   "source": [
    "# Hallamos puntos criticos\n",
    "xc = sym.solve(dA, x)\n",
    "xc"
   ]
  },
  {
   "cell_type": "code",
   "execution_count": 8,
   "metadata": {},
   "outputs": [
    {
     "data": {
      "text/latex": [
       "$$1200$$"
      ],
      "text/plain": [
       "1200"
      ]
     },
     "execution_count": 8,
     "metadata": {},
     "output_type": "execute_result"
    }
   ],
   "source": [
    "# Evaluamos en puntos criticos\n",
    "A(xc[0])"
   ]
  },
  {
   "cell_type": "markdown",
   "metadata": {},
   "source": [
    "Veamos que es un mínimo: "
   ]
  },
  {
   "cell_type": "code",
   "execution_count": 9,
   "metadata": {},
   "outputs": [
    {
     "data": {
      "text/latex": [
       "$$2 \\left(1 + \\frac{16000}{x^{3}}\\right)$$"
      ],
      "text/plain": [
       "  ⎛    16000⎞\n",
       "2⋅⎜1 + ─────⎟\n",
       "  ⎜       3 ⎟\n",
       "  ⎝      x  ⎠"
      ]
     },
     "execution_count": 9,
     "metadata": {},
     "output_type": "execute_result"
    }
   ],
   "source": [
    "# Derivamos funcion AR(x)\n",
    "d2A = sym.diff(A(x), x,2)\n",
    "d2A"
   ]
  },
  {
   "cell_type": "markdown",
   "metadata": {},
   "source": [
    "Si $x=20$, d2A>0, por tanto, hay un mínimo."
   ]
  },
  {
   "cell_type": "code",
   "execution_count": 10,
   "metadata": {},
   "outputs": [
    {
     "data": {
      "text/latex": [
       "$$6$$"
      ],
      "text/plain": [
       "6"
      ]
     },
     "execution_count": 10,
     "metadata": {},
     "output_type": "execute_result"
    }
   ],
   "source": [
    "d2Anum=sym.lambdify(x,d2A)\n",
    "d2Anum(xc[0])"
   ]
  },
  {
   "cell_type": "markdown",
   "metadata": {},
   "source": [
    "**Conclusión:**\n",
    "\n",
    "Por tanto, el lado de la base debe medir, $x = 20 dm$ y la altura, $y = 10 dm$. "
   ]
  },
  {
   "cell_type": "markdown",
   "metadata": {},
   "source": [
    "## Segundo punto. Programación lineal."
   ]
  },
  {
   "cell_type": "markdown",
   "metadata": {},
   "source": [
    "**Enunciado.** \n",
    "\n",
    "Una compañía tiene dos minas: la mina $A$ produce diariamente 1 tonelada de carbón de antracita de alta calidad, 2 toneladas de carbón de calidad media y 4 toneladas de carbón de baja calidad; la mina $B$ produce 2 toneladas de cada una de las tres clases. Esta compañía necesita 70 toneladas de carbón de alta calidad, 130 de calidad media y 150 de baja calidad. \n",
    "\n",
    "Los gastos diarios de la mina $A$ ascienden a 500 u.m. y los de la mina $B$ a 750 u.m. ¿Cuántos días deberán trabajar en cada mina para que los costos sean mínimos? \n",
    "\n",
    "**Punto 1 (20 puntos).** Escriba la función a minimizar junto con las restricciones, explicando detalladamente cada paso (usando fórmulas en LaTeX, en celdas Markdown). Además escriba el problema en la forma \n",
    "\\begin{equation}\n",
    "\\begin{array}{ll}\n",
    "\\min_{\\boldsymbol{x}} & \\boldsymbol{c}^T\\boldsymbol{x} \\\\\n",
    "\\text{s. a. }        & \\boldsymbol{A}_{eq}\\boldsymbol{x}=\\boldsymbol{b}_{eq} \\\\\n",
    "                     & \\boldsymbol{A}\\boldsymbol{x}\\leq\\boldsymbol{b},\n",
    "\\end{array}\n",
    "\\end{equation}\n",
    "\n",
    "proporcionando $\\boldsymbol{c}$, $\\boldsymbol{A}$ y $\\boldsymbol{b}$ ($\\boldsymbol{A}_{eq}$ y $\\boldsymbol{b}_{eq}$, de ser necesario) como arreglos de `NumPy` (no es necesario escribir en LaTeX el problema en la forma indicada, solo proporcionar las matrices como arreglos de `NumPy`).\n",
    "\n",
    "**Punto 2**: Resuelva el problema utilizando la función linprog. ¿Cuántos días deberán trabajar en cada mina para que los costos sean mínimos?\n",
    "\n"
   ]
  },
  {
   "cell_type": "markdown",
   "metadata": {},
   "source": [
    "## Solución"
   ]
  },
  {
   "cell_type": "markdown",
   "metadata": {},
   "source": [
    "Como se quiere minimizar el costo total, entonces el problema es\n",
    "\n",
    "\n",
    "$$\\min_{x_1,x_2} 500x_1 + 750x_2,$$\n",
    "\n",
    "donde \n",
    "\n",
    "$x_1=$Número de días a explotar la mina $A$, \n",
    "\n",
    "$x_2=$Número de días a explotar la mina $B$. \n",
    "\n",
    "\n",
    "Además, las restricciones son:\n",
    "\n",
    "$$   x_1 + 2 x_2 \\geq 70$$\n",
    "$$ 2 x_1 + 2 x_2 \\geq 130$$\n",
    "$$ 4 x_1 + 2 x_2 \\geq 150$$\n",
    "\n",
    "$$x_1\\geq0, \\quad x_2 \\geq0$$"
   ]
  },
  {
   "cell_type": "code",
   "execution_count": 11,
   "metadata": {},
   "outputs": [],
   "source": [
    "# Escriba acá las matrices como arreglos de Numpy\n",
    "c = np.array([500, 750])\n",
    "A = -np.array([[1, 2],\n",
    "               [2, 2],\n",
    "               [4, 2],\n",
    "               [1, 0],\n",
    "               [0, 1]])\n",
    "b = -np.array([70,130,150,0,0])"
   ]
  },
  {
   "cell_type": "markdown",
   "metadata": {},
   "source": [
    "**Punto 2 (15 puntos).** Resuelva el problema utilizando la función `linprog`. ¿Cuántos trabajadores son necesarios en total?"
   ]
  },
  {
   "cell_type": "code",
   "execution_count": 12,
   "metadata": {},
   "outputs": [],
   "source": [
    "import scipy.optimize as opt"
   ]
  },
  {
   "cell_type": "code",
   "execution_count": 13,
   "metadata": {},
   "outputs": [
    {
     "data": {
      "text/plain": [
       "     fun: 33750.0\n",
       " message: 'Optimization terminated successfully.'\n",
       "     nit: 4\n",
       "   slack: array([ 60.,   5., 100.,   0.,   0.])\n",
       "  status: 0\n",
       " success: True\n",
       "       x: array([60.,  5.])"
      ]
     },
     "execution_count": 13,
     "metadata": {},
     "output_type": "execute_result"
    }
   ],
   "source": [
    "trabajadores = opt.linprog(c, A_ub=A, b_ub=b)\n",
    "trabajadores"
   ]
  },
  {
   "cell_type": "markdown",
   "metadata": {},
   "source": [
    "- La mina $A$ se debe explotar 60 días\n",
    "- La mina $B$ se debe explotar 5 días\n",
    "- Los costos mínimos son de 33750 u.m. "
   ]
  },
  {
   "cell_type": "markdown",
   "metadata": {},
   "source": [
    "## Tercer punto. Ajuste de curvas (35 puntos).\n",
    "\n",
    "**Enunciado**. El archivo `population_data.csv` contiene información histórica anual de México relativa a la población con estudios de primaria.\n",
    "\n",
    "\n",
    "**Punto 1.** Importar los datos en un DataFrame de pandas."
   ]
  },
  {
   "cell_type": "markdown",
   "metadata": {},
   "source": [
    "**Solución punto 1.**"
   ]
  },
  {
   "cell_type": "code",
   "execution_count": 14,
   "metadata": {},
   "outputs": [],
   "source": [
    "# Importar libreria pandas\n",
    "import pandas as pd"
   ]
  },
  {
   "cell_type": "code",
   "execution_count": 15,
   "metadata": {},
   "outputs": [
    {
     "data": {
      "text/html": [
       "<div>\n",
       "<style scoped>\n",
       "    .dataframe tbody tr th:only-of-type {\n",
       "        vertical-align: middle;\n",
       "    }\n",
       "\n",
       "    .dataframe tbody tr th {\n",
       "        vertical-align: top;\n",
       "    }\n",
       "\n",
       "    .dataframe thead th {\n",
       "        text-align: right;\n",
       "    }\n",
       "</style>\n",
       "<table border=\"1\" class=\"dataframe\">\n",
       "  <thead>\n",
       "    <tr style=\"text-align: right;\">\n",
       "      <th></th>\n",
       "      <th>0</th>\n",
       "      <th>1</th>\n",
       "      <th>2</th>\n",
       "      <th>3</th>\n",
       "    </tr>\n",
       "  </thead>\n",
       "  <tbody>\n",
       "    <tr>\n",
       "      <th>0</th>\n",
       "      <td>1.950</td>\n",
       "      <td>28.296</td>\n",
       "      <td>1174947</td>\n",
       "      <td>418430</td>\n",
       "    </tr>\n",
       "    <tr>\n",
       "      <th>1</th>\n",
       "      <td>1.951</td>\n",
       "      <td>29.110</td>\n",
       "      <td>1183788</td>\n",
       "      <td>458238</td>\n",
       "    </tr>\n",
       "    <tr>\n",
       "      <th>2</th>\n",
       "      <td>1.952</td>\n",
       "      <td>29.980</td>\n",
       "      <td>1195209</td>\n",
       "      <td>408823</td>\n",
       "    </tr>\n",
       "    <tr>\n",
       "      <th>3</th>\n",
       "      <td>1.953</td>\n",
       "      <td>30.904</td>\n",
       "      <td>1261775</td>\n",
       "      <td>446127</td>\n",
       "    </tr>\n",
       "    <tr>\n",
       "      <th>4</th>\n",
       "      <td>1.954</td>\n",
       "      <td>31.880</td>\n",
       "      <td>1339837</td>\n",
       "      <td>378752</td>\n",
       "    </tr>\n",
       "    <tr>\n",
       "      <th>5</th>\n",
       "      <td>1.955</td>\n",
       "      <td>32.906</td>\n",
       "      <td>1377917</td>\n",
       "      <td>407522</td>\n",
       "    </tr>\n",
       "    <tr>\n",
       "      <th>6</th>\n",
       "      <td>1.956</td>\n",
       "      <td>33.978</td>\n",
       "      <td>1427722</td>\n",
       "      <td>368740</td>\n",
       "    </tr>\n",
       "    <tr>\n",
       "      <th>7</th>\n",
       "      <td>1.957</td>\n",
       "      <td>35.095</td>\n",
       "      <td>1485202</td>\n",
       "      <td>414545</td>\n",
       "    </tr>\n",
       "    <tr>\n",
       "      <th>8</th>\n",
       "      <td>1.958</td>\n",
       "      <td>36.253</td>\n",
       "      <td>1447578</td>\n",
       "      <td>404529</td>\n",
       "    </tr>\n",
       "    <tr>\n",
       "      <th>9</th>\n",
       "      <td>1.959</td>\n",
       "      <td>37.448</td>\n",
       "      <td>1589606</td>\n",
       "      <td>396924</td>\n",
       "    </tr>\n",
       "    <tr>\n",
       "      <th>10</th>\n",
       "      <td>1.960</td>\n",
       "      <td>38.677</td>\n",
       "      <td>1608174</td>\n",
       "      <td>402545</td>\n",
       "    </tr>\n",
       "    <tr>\n",
       "      <th>11</th>\n",
       "      <td>1.961</td>\n",
       "      <td>39.939</td>\n",
       "      <td>1647006</td>\n",
       "      <td>388857</td>\n",
       "    </tr>\n",
       "    <tr>\n",
       "      <th>12</th>\n",
       "      <td>1.962</td>\n",
       "      <td>41.234</td>\n",
       "      <td>1705481</td>\n",
       "      <td>403046</td>\n",
       "    </tr>\n",
       "    <tr>\n",
       "      <th>13</th>\n",
       "      <td>1.963</td>\n",
       "      <td>42.564</td>\n",
       "      <td>1756624</td>\n",
       "      <td>412834</td>\n",
       "    </tr>\n",
       "    <tr>\n",
       "      <th>14</th>\n",
       "      <td>1.964</td>\n",
       "      <td>43.931</td>\n",
       "      <td>1849408</td>\n",
       "      <td>408275</td>\n",
       "    </tr>\n",
       "    <tr>\n",
       "      <th>15</th>\n",
       "      <td>1.965</td>\n",
       "      <td>45.339</td>\n",
       "      <td>1888171</td>\n",
       "      <td>404163</td>\n",
       "    </tr>\n",
       "    <tr>\n",
       "      <th>16</th>\n",
       "      <td>1.966</td>\n",
       "      <td>46.784</td>\n",
       "      <td>1954340</td>\n",
       "      <td>424141</td>\n",
       "    </tr>\n",
       "    <tr>\n",
       "      <th>17</th>\n",
       "      <td>1.967</td>\n",
       "      <td>48.264</td>\n",
       "      <td>1981363</td>\n",
       "      <td>420298</td>\n",
       "    </tr>\n",
       "    <tr>\n",
       "      <th>18</th>\n",
       "      <td>1.968</td>\n",
       "      <td>49.788</td>\n",
       "      <td>2058251</td>\n",
       "      <td>452910</td>\n",
       "    </tr>\n",
       "    <tr>\n",
       "      <th>19</th>\n",
       "      <td>1.969</td>\n",
       "      <td>51.361</td>\n",
       "      <td>2037561</td>\n",
       "      <td>458886</td>\n",
       "    </tr>\n",
       "    <tr>\n",
       "      <th>20</th>\n",
       "      <td>1.970</td>\n",
       "      <td>52.988</td>\n",
       "      <td>2132630</td>\n",
       "      <td>485656</td>\n",
       "    </tr>\n",
       "    <tr>\n",
       "      <th>21</th>\n",
       "      <td>1.971</td>\n",
       "      <td>54.669</td>\n",
       "      <td>2231399</td>\n",
       "      <td>458323</td>\n",
       "    </tr>\n",
       "    <tr>\n",
       "      <th>22</th>\n",
       "      <td>1.972</td>\n",
       "      <td>56.396</td>\n",
       "      <td>2346002</td>\n",
       "      <td>476206</td>\n",
       "    </tr>\n",
       "    <tr>\n",
       "      <th>23</th>\n",
       "      <td>1.973</td>\n",
       "      <td>58.156</td>\n",
       "      <td>2572287</td>\n",
       "      <td>458915</td>\n",
       "    </tr>\n",
       "    <tr>\n",
       "      <th>24</th>\n",
       "      <td>1.974</td>\n",
       "      <td>59.931</td>\n",
       "      <td>2522580</td>\n",
       "      <td>433104</td>\n",
       "    </tr>\n",
       "    <tr>\n",
       "      <th>25</th>\n",
       "      <td>1.975</td>\n",
       "      <td>61.708</td>\n",
       "      <td>2254497</td>\n",
       "      <td>435888</td>\n",
       "    </tr>\n",
       "    <tr>\n",
       "      <th>26</th>\n",
       "      <td>1.976</td>\n",
       "      <td>63.486</td>\n",
       "      <td>2366305</td>\n",
       "      <td>455660</td>\n",
       "    </tr>\n",
       "    <tr>\n",
       "      <th>27</th>\n",
       "      <td>1.977</td>\n",
       "      <td>65.261</td>\n",
       "      <td>2379327</td>\n",
       "      <td>450454</td>\n",
       "    </tr>\n",
       "    <tr>\n",
       "      <th>28</th>\n",
       "      <td>1.978</td>\n",
       "      <td>67.013</td>\n",
       "      <td>2346862</td>\n",
       "      <td>418381</td>\n",
       "    </tr>\n",
       "    <tr>\n",
       "      <th>29</th>\n",
       "      <td>1.979</td>\n",
       "      <td>68.715</td>\n",
       "      <td>2274267</td>\n",
       "      <td>428217</td>\n",
       "    </tr>\n",
       "    <tr>\n",
       "      <th>30</th>\n",
       "      <td>1.980</td>\n",
       "      <td>70.353</td>\n",
       "      <td>2446238</td>\n",
       "      <td>434465</td>\n",
       "    </tr>\n",
       "    <tr>\n",
       "      <th>31</th>\n",
       "      <td>1.981</td>\n",
       "      <td>71.916</td>\n",
       "      <td>2530662</td>\n",
       "      <td>424274</td>\n",
       "    </tr>\n",
       "    <tr>\n",
       "      <th>32</th>\n",
       "      <td>1.982</td>\n",
       "      <td>73.416</td>\n",
       "      <td>2392849</td>\n",
       "      <td>412345</td>\n",
       "    </tr>\n",
       "    <tr>\n",
       "      <th>33</th>\n",
       "      <td>1.983</td>\n",
       "      <td>74.880</td>\n",
       "      <td>2609088</td>\n",
       "      <td>413403</td>\n",
       "    </tr>\n",
       "    <tr>\n",
       "      <th>34</th>\n",
       "      <td>1.984</td>\n",
       "      <td>76.351</td>\n",
       "      <td>2511894</td>\n",
       "      <td>410550</td>\n",
       "    </tr>\n",
       "    <tr>\n",
       "      <th>35</th>\n",
       "      <td>1.985</td>\n",
       "      <td>77.859</td>\n",
       "      <td>2655671</td>\n",
       "      <td>414003</td>\n",
       "    </tr>\n",
       "    <tr>\n",
       "      <th>36</th>\n",
       "      <td>1.986</td>\n",
       "      <td>79.410</td>\n",
       "      <td>2577045</td>\n",
       "      <td>400079</td>\n",
       "    </tr>\n",
       "    <tr>\n",
       "      <th>37</th>\n",
       "      <td>1.987</td>\n",
       "      <td>80.999</td>\n",
       "      <td>2794390</td>\n",
       "      <td>400280</td>\n",
       "    </tr>\n",
       "    <tr>\n",
       "      <th>38</th>\n",
       "      <td>1.988</td>\n",
       "      <td>82.635</td>\n",
       "      <td>2622031</td>\n",
       "      <td>412987</td>\n",
       "    </tr>\n",
       "    <tr>\n",
       "      <th>39</th>\n",
       "      <td>1.989</td>\n",
       "      <td>84.327</td>\n",
       "      <td>2620262</td>\n",
       "      <td>423304</td>\n",
       "    </tr>\n",
       "    <tr>\n",
       "      <th>40</th>\n",
       "      <td>1.990</td>\n",
       "      <td>86.077</td>\n",
       "      <td>2735312</td>\n",
       "      <td>422803</td>\n",
       "    </tr>\n",
       "    <tr>\n",
       "      <th>41</th>\n",
       "      <td>1.991</td>\n",
       "      <td>87.890</td>\n",
       "      <td>2756447</td>\n",
       "      <td>411131</td>\n",
       "    </tr>\n",
       "    <tr>\n",
       "      <th>42</th>\n",
       "      <td>1.992</td>\n",
       "      <td>89.758</td>\n",
       "      <td>2797397</td>\n",
       "      <td>409814</td>\n",
       "    </tr>\n",
       "    <tr>\n",
       "      <th>43</th>\n",
       "      <td>1.993</td>\n",
       "      <td>91.654</td>\n",
       "      <td>2839686</td>\n",
       "      <td>416335</td>\n",
       "    </tr>\n",
       "    <tr>\n",
       "      <th>44</th>\n",
       "      <td>1.994</td>\n",
       "      <td>93.542</td>\n",
       "      <td>2904389</td>\n",
       "      <td>419074</td>\n",
       "    </tr>\n",
       "    <tr>\n",
       "      <th>45</th>\n",
       "      <td>1.995</td>\n",
       "      <td>95.393</td>\n",
       "      <td>2750444</td>\n",
       "      <td>430278</td>\n",
       "    </tr>\n",
       "    <tr>\n",
       "      <th>46</th>\n",
       "      <td>1.996</td>\n",
       "      <td>97.202</td>\n",
       "      <td>2707718</td>\n",
       "      <td>436321</td>\n",
       "    </tr>\n",
       "    <tr>\n",
       "      <th>47</th>\n",
       "      <td>1.997</td>\n",
       "      <td>98.969</td>\n",
       "      <td>2698425</td>\n",
       "      <td>440437</td>\n",
       "    </tr>\n",
       "    <tr>\n",
       "      <th>48</th>\n",
       "      <td>1.998</td>\n",
       "      <td>100.679</td>\n",
       "      <td>2668429</td>\n",
       "      <td>444665</td>\n",
       "    </tr>\n",
       "    <tr>\n",
       "      <th>49</th>\n",
       "      <td>1.999</td>\n",
       "      <td>102.317</td>\n",
       "      <td>2769089</td>\n",
       "      <td>443950</td>\n",
       "    </tr>\n",
       "    <tr>\n",
       "      <th>50</th>\n",
       "      <td>2.000</td>\n",
       "      <td>103.874</td>\n",
       "      <td>2798339</td>\n",
       "      <td>437667</td>\n",
       "    </tr>\n",
       "  </tbody>\n",
       "</table>\n",
       "</div>"
      ],
      "text/plain": [
       "        0        1        2       3\n",
       "0   1.950   28.296  1174947  418430\n",
       "1   1.951   29.110  1183788  458238\n",
       "2   1.952   29.980  1195209  408823\n",
       "3   1.953   30.904  1261775  446127\n",
       "4   1.954   31.880  1339837  378752\n",
       "5   1.955   32.906  1377917  407522\n",
       "6   1.956   33.978  1427722  368740\n",
       "7   1.957   35.095  1485202  414545\n",
       "8   1.958   36.253  1447578  404529\n",
       "9   1.959   37.448  1589606  396924\n",
       "10  1.960   38.677  1608174  402545\n",
       "11  1.961   39.939  1647006  388857\n",
       "12  1.962   41.234  1705481  403046\n",
       "13  1.963   42.564  1756624  412834\n",
       "14  1.964   43.931  1849408  408275\n",
       "15  1.965   45.339  1888171  404163\n",
       "16  1.966   46.784  1954340  424141\n",
       "17  1.967   48.264  1981363  420298\n",
       "18  1.968   49.788  2058251  452910\n",
       "19  1.969   51.361  2037561  458886\n",
       "20  1.970   52.988  2132630  485656\n",
       "21  1.971   54.669  2231399  458323\n",
       "22  1.972   56.396  2346002  476206\n",
       "23  1.973   58.156  2572287  458915\n",
       "24  1.974   59.931  2522580  433104\n",
       "25  1.975   61.708  2254497  435888\n",
       "26  1.976   63.486  2366305  455660\n",
       "27  1.977   65.261  2379327  450454\n",
       "28  1.978   67.013  2346862  418381\n",
       "29  1.979   68.715  2274267  428217\n",
       "30  1.980   70.353  2446238  434465\n",
       "31  1.981   71.916  2530662  424274\n",
       "32  1.982   73.416  2392849  412345\n",
       "33  1.983   74.880  2609088  413403\n",
       "34  1.984   76.351  2511894  410550\n",
       "35  1.985   77.859  2655671  414003\n",
       "36  1.986   79.410  2577045  400079\n",
       "37  1.987   80.999  2794390  400280\n",
       "38  1.988   82.635  2622031  412987\n",
       "39  1.989   84.327  2620262  423304\n",
       "40  1.990   86.077  2735312  422803\n",
       "41  1.991   87.890  2756447  411131\n",
       "42  1.992   89.758  2797397  409814\n",
       "43  1.993   91.654  2839686  416335\n",
       "44  1.994   93.542  2904389  419074\n",
       "45  1.995   95.393  2750444  430278\n",
       "46  1.996   97.202  2707718  436321\n",
       "47  1.997   98.969  2698425  440437\n",
       "48  1.998  100.679  2668429  444665\n",
       "49  1.999  102.317  2769089  443950\n",
       "50  2.000  103.874  2798339  437667"
      ]
     },
     "execution_count": 15,
     "metadata": {},
     "output_type": "execute_result"
    }
   ],
   "source": [
    "file_name = 'population_data.csv'\n",
    "data = pd.read_csv(file_name, header=None)\n",
    "data"
   ]
  },
  {
   "cell_type": "markdown",
   "metadata": {},
   "source": [
    "**Punto 2.** Usando los años como variable independiente $x$ y la población como variable dependiente $y$, ajustar polinomios de grado 1 hasta grado 3.\n",
    "\n",
    "Mostrar en un solo gráfico los datos de población contra los años, y los polinomios ajustados.\n",
    "\n",
    "Graficar el error cuadrático acumulado contra el número de términos. ¿Cuál es el polinomio que mejor se ajusta?"
   ]
  },
  {
   "cell_type": "markdown",
   "metadata": {},
   "source": [
    "**Solución punto 2.**"
   ]
  },
  {
   "cell_type": "code",
   "execution_count": 16,
   "metadata": {},
   "outputs": [],
   "source": [
    "import numpy as np\n",
    "import scipy.optimize as opt"
   ]
  },
  {
   "cell_type": "code",
   "execution_count": 21,
   "metadata": {},
   "outputs": [],
   "source": [
    "x = data.iloc[:,0].values\n",
    "y = data.iloc[:,1].values"
   ]
  },
  {
   "cell_type": "code",
   "execution_count": 22,
   "metadata": {},
   "outputs": [],
   "source": [
    "def fun_obj(b, x, y, n):\n",
    "    return np.sum((y-b.dot([x**i for i in range(n+1)]))**2)"
   ]
  },
  {
   "cell_type": "code",
   "execution_count": 23,
   "metadata": {},
   "outputs": [],
   "source": [
    "b01 = np.zeros(2)\n",
    "ajuste1 = opt.minimize(fun_obj, b01, args=(x,y,1))\n",
    "b02 = np.zeros(3)\n",
    "ajuste2 = opt.minimize(fun_obj, b02, args=(x,y,2))\n",
    "b03 = np.zeros(4)\n",
    "ajuste3 = opt.minimize(fun_obj, b03, args=(x,y,3))"
   ]
  },
  {
   "cell_type": "code",
   "execution_count": 24,
   "metadata": {},
   "outputs": [
    {
     "data": {
      "text/plain": [
       "      fun: 126.02915465318614\n",
       " hess_inv: array([[ 95.24449179, -48.22882913],\n",
       "       [-48.22882913,  24.4242114 ]])\n",
       "      jac: array([3.81469727e-06, 1.90734863e-06])\n",
       "  message: 'Optimization terminated successfully.'\n",
       "     nfev: 68\n",
       "      nit: 12\n",
       "     njev: 17\n",
       "   status: 0\n",
       "  success: True\n",
       "        x: array([-3023.15374377,  1562.49586432])"
      ]
     },
     "execution_count": 24,
     "metadata": {},
     "output_type": "execute_result"
    }
   ],
   "source": [
    "ajuste1"
   ]
  },
  {
   "cell_type": "code",
   "execution_count": 25,
   "metadata": {},
   "outputs": [
    {
     "data": {
      "text/plain": [
       "      fun: 23.915476255709507\n",
       " hess_inv: array([[ 148564.63738869, -150407.53944746,   38066.21121988],\n",
       "       [-150407.53944587,  152318.5177714 ,  -38561.30189762],\n",
       "       [  38066.2112195 ,  -38561.30189734,    9765.16436363]])\n",
       "      jac: array([-0.00107574, -0.0026722 , -0.00626159])\n",
       "  message: 'Desired error not necessarily achieved due to precision loss.'\n",
       "     nfev: 635\n",
       "      nit: 38\n",
       "     njev: 125\n",
       "   status: 2\n",
       "  success: False\n",
       "        x: array([ 25283.39191427, -27103.93114074,   7257.317801  ])"
      ]
     },
     "execution_count": 25,
     "metadata": {},
     "output_type": "execute_result"
    }
   ],
   "source": [
    "ajuste2"
   ]
  },
  {
   "cell_type": "code",
   "execution_count": 26,
   "metadata": {},
   "outputs": [
    {
     "data": {
      "text/plain": [
       "      fun: 24.24749875604926\n",
       " hess_inv: array([[ 2.68120664,  0.11912189,  0.08927102, -0.41384456],\n",
       "       [ 0.11912191,  0.1576892 ,  0.11575468, -0.10084626],\n",
       "       [ 0.08927103,  0.11575468,  0.08497316, -0.07426713],\n",
       "       [-0.41384455, -0.10084626, -0.07426713,  0.10866814]])\n",
       "      jac: array([0.00118589, 0.00293851, 0.00548911, 0.01001573])\n",
       "  message: 'Desired error not necessarily achieved due to precision loss.'\n",
       "     nfev: 768\n",
       "      nit: 38\n",
       "     njev: 126\n",
       "   status: 2\n",
       "  success: False\n",
       "        x: array([ 6897.25346033,   865.16940318, -6924.44853822,  2396.87819616])"
      ]
     },
     "execution_count": 26,
     "metadata": {},
     "output_type": "execute_result"
    }
   ],
   "source": [
    "ajuste3"
   ]
  },
  {
   "cell_type": "code",
   "execution_count": 27,
   "metadata": {},
   "outputs": [],
   "source": [
    "xpoints = x\n",
    "ypoints = y\n",
    "yhat1 = (ajuste1.x[0]+ajuste1.x[1]*xpoints)\n",
    "yhat2 = (ajuste2.x[0]+ajuste2.x[1]*xpoints+ ajuste2.x[2]*(xpoints)**2)\n",
    "yhat3 = (ajuste3.x[0]+ajuste3.x[1]*xpoints+ ajuste3.x[2]*(xpoints)**2+ ajuste3.x[3]*(xpoints)**3)"
   ]
  },
  {
   "cell_type": "code",
   "execution_count": 28,
   "metadata": {},
   "outputs": [],
   "source": [
    "import matplotlib.pyplot as plt"
   ]
  },
  {
   "cell_type": "code",
   "execution_count": 29,
   "metadata": {},
   "outputs": [
    {
     "data": {
      "text/plain": [
       "<matplotlib.legend.Legend at 0x220a3e21a90>"
      ]
     },
     "execution_count": 29,
     "metadata": {},
     "output_type": "execute_result"
    },
    {
     "data": {
      "image/png": "[encoded data removed]",
      "text/plain": [
       "<Figure size 576x432 with 1 Axes>"
      ]
     },
     "metadata": {
      "needs_background": "light"
     },
     "output_type": "display_data"
    }
   ],
   "source": [
    "plt.figure(figsize=(8,6))\n",
    "plt.plot(xpoints, ypoints, 'r*', ms=5, label='Datos')\n",
    "plt.plot(xpoints, yhat1, '-.b', lw=2, label='Ajuste 1')\n",
    "plt.plot(xpoints, yhat2, '-.k', lw=2, label='Ajuste 2')\n",
    "plt.plot(xpoints, yhat3, '-.g', lw=2, label='Ajuste 3')\n",
    "plt.grid()\n",
    "plt.xlabel('Años')\n",
    "plt.ylabel('Población (miles de personas)')\n",
    "plt.legend(loc='best')"
   ]
  },
  {
   "cell_type": "code",
   "execution_count": 30,
   "metadata": {},
   "outputs": [
    {
     "data": {
      "text/latex": [
       "$$\\left [ 126.02915465318614, \\quad 23.915476255709507, \\quad 24.24749875604926\\right ]$$"
      ],
      "text/plain": [
       "[126.02915465318614, 23.915476255709507, 24.24749875604926]"
      ]
     },
     "execution_count": 30,
     "metadata": {},
     "output_type": "execute_result"
    },
    {
     "data": {
      "image/png": "[encoded data removed]",
      "text/plain": [
       "<Figure size 576x432 with 1 Axes>"
      ]
     },
     "metadata": {
      "needs_background": "light"
     },
     "output_type": "display_data"
    }
   ],
   "source": [
    "error = [ajuste1.fun, ajuste2.fun, ajuste3.fun]\n",
    "plt.figure(figsize=(8,6))\n",
    "plt.plot(range(1,4), error, 'ro', ms=5)\n",
    "plt.xlabel('Orden del polinomio')\n",
    "plt.ylabel('error')\n",
    "\n",
    "error"
   ]
  },
  {
   "cell_type": "markdown",
   "metadata": {},
   "source": [
    "*Conclusión*"
   ]
  },
  {
   "cell_type": "markdown",
   "metadata": {},
   "source": [
    "Según la gráfica anterior, el polinomio que mejor se ajusta es el de segundo orden."
   ]
  },
  {
   "cell_type": "markdown",
   "metadata": {},
   "source": [
    "**Punto 3.** Con los polinomios ajustados en el punto anterior, estime la población en el año 2016 y compare con el dato real 127,5 millones.\n",
    "\n",
    "¿Cuál polinomio estima mejor este dato? ¿Es el polinomio que mejor se ajusta? Concluya."
   ]
  },
  {
   "cell_type": "markdown",
   "metadata": {
    "collapsed": true
   },
   "source": [
    "**Solución punto 3.**"
   ]
  },
  {
   "cell_type": "code",
   "execution_count": 31,
   "metadata": {},
   "outputs": [
    {
     "data": {
      "text/latex": [
       "$$\\left ( 3146968.508729555, \\quad 29440981174.82236, \\quad 19610776625002.27, \\quad 127500\\right )$$"
      ],
      "text/plain": [
       "(3146968.508729555, 29440981174.82236, 19610776625002.27, 127500)"
      ]
     },
     "execution_count": 31,
     "metadata": {},
     "output_type": "execute_result"
    }
   ],
   "source": [
    "yhat1 = ajuste1.x[0]+ajuste1.x[1]*2016\n",
    "yhat2 = ajuste2.x[0]+ajuste2.x[1]*2016 + ajuste2.x[2]*(2016)**2\n",
    "yhat3 = ajuste3.x[0]+ajuste3.x[1]*2016 + ajuste3.x[2]*(2016)**2 + ajuste3.x[3]*(2016)**3\n",
    "yhat1, yhat2, yhat3, 127500"
   ]
  },
  {
   "cell_type": "markdown",
   "metadata": {},
   "source": [
    "*Conclusión*. El polinomio que mejor estima este dato es el polinomio de grado dos."
   ]
  },
  {
   "cell_type": "code",
   "execution_count": null,
   "metadata": {},
   "outputs": [],
   "source": []
  }
 ],
 "metadata": {
  "kernelspec": {
   "display_name": "Python 3",
   "language": "python",
   "name": "python3"
  },
  "language_info": {
   "codemirror_mode": {
    "name": "ipython",
    "version": 3
   },
   "file_extension": ".py",
   "mimetype": "text/x-python",
   "name": "python",
   "nbconvert_exporter": "python",
   "pygments_lexer": "ipython3",
   "version": "3.7.0"
  }
 },
 "nbformat": 4,
 "nbformat_minor": 2
}
