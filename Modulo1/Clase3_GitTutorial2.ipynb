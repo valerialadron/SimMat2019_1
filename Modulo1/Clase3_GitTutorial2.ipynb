{
 "cells": [
  {
   "cell_type": "markdown",
   "metadata": {},
   "source": [
    "# **git, GitHub, GitKraken (continuación)**\n",
    "\n",
    "\n",
    "<div id=\"apDiv1\">\n",
    "<table width=\"90%\" border=\"0\">\n",
    "<tr>\n",
    "<td><img src=\"http://conociendogithub.readthedocs.io/en/latest/_images/Git.png\" align=\"left\"></td>\n",
    "<td><img src=\"https://c1.staticflickr.com/3/2238/13158675193_2892abac95_z.jpg\" align=\"left\"></td>\n",
    "<td><img src=\"https://www.gitkraken.com/downloads/brand-assets/gitkraken-keif-teal-sq.png\" align=\"left\"></td>\n",
    "</tr>\n",
    "</table>\n",
    "</div>\n",
    "\n",
    "\n"
   ]
  },
  {
   "cell_type": "markdown",
   "metadata": {},
   "source": [
    "# [Resumen interesante de Python](https://drive.google.com/file/d/192sEpb_1c0gztHXviRKnu6yJN8pbk7TE/view?usp=sharing)"
   ]
  },
  {
   "cell_type": "markdown",
   "metadata": {},
   "source": [
    "## Recuento de la clase pasada\n",
    "\n",
    "En la clase pasada vimos como sincronizar el repositorio remoto con los cambios que hemos realizado y documentado localmente. *En la práctica, esto se da cuando nosotros mismos editamos alguna parte de un proyecto en el que estamos trabajando*.\n",
    "\n",
    "Ahora aprenderemos a hacer lo contrario. Es decir, como sincronizar el repositorio local con los cambios que se hayan hecho en el repositorio remoto. *En la práctica, esto se da cuando otros colaboradores del proyecto hacen algún cambio y nosotros queremos ver esos cambios*."
   ]
  },
  {
   "cell_type": "markdown",
   "metadata": {},
   "source": [
    "### Receta (continuación)\n",
    "\n",
    "1. Estando en `GitHub` en el repositorio `hello-world`, picar en *Create new file*.\n",
    "    - Normalmente la gente no crea ni edita archivos en `GitHub`, sin embargo esta será nuestra forma de emular que alguien incluyó un nuevo archivo en nuestro proyecto.\n",
    "    - Darle algún nombre al archivo y poner algo en el cuerpo de texto.\n",
    "    - Poner un mensaje describiendo que se añadió un nuevo archivo.\n",
    "    - Picar en *Commit new file*.\n",
    "    - Ver que en el repositorio remoto en `GitHub` ya existe el nuevo archivo, pero en el repositorio local no.\n",
    "2. Revisar el arbol de cambios en `GitKraken`. Vemos que ahora el ícono que revela los cambios en `GitHub` va un paso adelante del ícono que revela los cambios en el repositorio local.\n",
    "3. Para incorporar los cambios del repositorio remoto en el repositorio local debemos picar en *Pull* en la parte superior. De nuevo, los íconos deberían juntarse.\n",
    "4. Revisar el repositorio local para ver que el nuevo archivo ya está ahí."
   ]
  },
  {
   "cell_type": "markdown",
   "metadata": {},
   "source": [
    "### Hasta ahora...\n",
    "Hemos aprendido como manejar repositorios remotos de forma básica con `GitKraken`:\n",
    "\n",
    "1. Teniendo un repositorio remoto guardado en `GitHub`, *jalamos* (pulled) esos archivos a nuestro disco local para trabajar. El tipo de operaciones que llevamos a cabo fueron:\n",
    "    1. Clone\n",
    "    2. Pull\n",
    "2. También hicimos lo opuesto. Si hacemos cambios en nustro repositorio local, pudimos actualizar nuestro repositorio de `GitHub`. El tipo de operación que llevamos a cabo fue:\n",
    "    1. Push"
   ]
  },
  {
   "cell_type": "markdown",
   "metadata": {
    "collapsed": true
   },
   "source": [
    "## ¿Y si cometemos algún error?\n",
    "Los errores son inherentes a nuestra condición humana. Por tanto, es muy probable que en el desarrollo de un proyecto cometamos algún error.\n",
    "\n",
    "Una de las características de gestionar versiones con `git` (y por ende con `GitKraken`), es que podemos volver a un commit anterior si cometimos algún error."
   ]
  },
  {
   "cell_type": "markdown",
   "metadata": {
    "collapsed": true
   },
   "source": [
    "## Branching\n",
    "Cuando hicimos el ejercicio *hello-world* al abrir la cuenta en `GitHub`, nos dieron una pequeña introducción al *branching* (creamos una rama de edición, editamos el archivo `README`, para finalmente fusionar los cambios en la rama *master*).\n",
    "\n",
    "*Branching*: \n",
    "- Es una forma <font color=green>segura</font> de realizar cambios importantes en un proyecto con `git`.\n",
    "- Consiste en crear ramas adicionales para hacer modificaciones en el proyecto sin modificar la rama *master* hasta que se esté completamente seguro de las modificaciones.\n",
    "- Una vez se esté seguro de que las modificaciones están bien, dichas modificaciones se incluyen en la rama *master*\n",
    "\n",
    "### Ejemplo\n",
    "1. En `GitKraken`, en el repositorio *hello-world*, crear una rama llamada *add_file*.\n",
    "    - Click derecho sobre el icono master, y picar en *Create branch here*.\n",
    "    - Dar nombre *add_file* y presionar la tecla enter.\n",
    "    - Notar que automáticamente `GitKraken` nos pone en la rama recién creada.\n",
    "2. Ir al directorio local del repositorio y añadir un archivo nuevo.\n",
    "3. Hacer el proceso de *stage* y *commit* en la rama.\n",
    "4. Revisar que pasa con el directorio cuando cambiamos de rama (para cambiar de rama, dar doble click sobre la rama a la que se quiere pasar).\n",
    "5. Incluir los cambios en la rama *master* (arrastrar una rama sobre la otra, y picar en la opción *Merge add_file into master*).\n",
    "6. Cambiar a la rama *master* y borrar la rama *add_file*.\n",
    "7. Hacer un *push* para actualizar el repositorio remoto."
   ]
  },
  {
   "cell_type": "markdown",
   "metadata": {},
   "source": [
    "## Forking\n",
    "Una bifurcación (*fork*) es una copia de un repositorio. Bifurcar un repositorio te permite experimentar cambios libremente sin afectar el proyecto original.\n",
    "\n",
    "Existen varias aplicaciones del *Forking*:\n",
    "\n",
    "### Seguir un proyecto de otra persona\n",
    "Como ejemplo, van a seguir el proyecto de la asignatura **SimMat2018-1**.\n",
    "\n",
    "Los siguientes pasos nos enseñarán como mantener nuestro repositorio local actualizado con el repositorio de la asignatura.\n",
    "1. Entrar al repositorio https://github.com/CarlosJVega/SimMat2019_1\n",
    "2. En la esquina superior derecha, dar click en *fork* y esperar un momento. Esta acción copia en su cuenta de `GitHub` un repositorio idéntico al de la materia (con el mismo nombre).\n",
    "3. Desde `GitKraken`, clonar el repositorio (el que ya está en su cuenta).\n",
    "4. En la pestaña *REMOTE* dar click en el signo `+`.\n",
    "    - Picar en `GitHub`.\n",
    "    - Desplegar la pestaña y elegir CarlosJVega/SimMat2019_1.\n",
    "    - Picar en *Add remote*.\n",
    "5. Añadiré un nuevo archvo en el repositorio de la materia y ustedes verán qué pasa en `GitKraken`.\n",
    "6. Arrastrar el repositorio remoto ajeno a la rama *master* y dar click en la opción *Merge CarlosJVega/master into master*. Ya el repositorio local está actualizado.\n",
    "7. Para actualizar el repositorio remoto propio hacer un *push*.\n",
    "\n",
    "### Proyectos colaborativos\n",
    "Normalmente, los *forks* se usan para proponer cambios en el proyecto de otra persona (hacer proyectos colaborativos).\n",
    "\n",
    "**Referencias:**\n",
    "- https://help.github.com/articles/fork-a-repo/\n",
    "- https://guides.github.com/activities/forking/"
   ]
  },
  {
   "cell_type": "markdown",
   "metadata": {},
   "source": [
    "# Introducción a Python"
   ]
  },
  {
   "cell_type": "markdown",
   "metadata": {},
   "source": [
    "## Comentarios:\n",
    "En python los comentarios se pueden poner de dos formas:\n",
    "\n",
    "- Escribiendo el símbolo # delante de la línea de texto donde está el comentario.\n",
    "- Escribiendo triple comilla doble (“””) al principio y al final del comentario (que puede ocupar más de una línea)."
   ]
  },
  {
   "cell_type": "code",
   "execution_count": 10,
   "metadata": {
    "scrolled": true
   },
   "outputs": [
    {
     "data": {
      "text/plain": [
       "'Este es un comentario multilinea.\\n Se puede usar para dar varias descripciones.\\n Aunque estos no son ignorados por Python, \\n es preferible usar #'"
      ]
     },
     "execution_count": 10,
     "metadata": {},
     "output_type": "execute_result"
    }
   ],
   "source": [
    "# Esto es un Comentario\n",
    "\"\"\"Este es un comentario multilinea.\n",
    " Se puede usar para dar varias descripciones.\n",
    " Aunque estos no son ignorados por Python, \n",
    " es preferible usar #\"\"\""
   ]
  },
  {
   "cell_type": "markdown",
   "metadata": {},
   "source": [
    "## Print"
   ]
  },
  {
   "cell_type": "markdown",
   "metadata": {},
   "source": [
    "El comando print es de gran utilidad para que el programa pueda comunicarse con nosotros. Como veremos más adelante, este comando muestra el texto que pongamos, o incluso el valor que hay dentro de una variable."
   ]
  },
  {
   "cell_type": "code",
   "execution_count": 1,
   "metadata": {},
   "outputs": [
    {
     "name": "stdout",
     "output_type": "stream",
     "text": [
      "Esto es un texto\n",
      "Esto es un comentario\n"
     ]
    }
   ],
   "source": [
    "print(\"Esto es un texto\")\n",
    "print (\"Esto es un comentario\")\n"
   ]
  },
  {
   "cell_type": "markdown",
   "metadata": {},
   "source": [
    "## Variables"
   ]
  },
  {
   "cell_type": "markdown",
   "metadata": {},
   "source": [
    "Una variable es un sitio donde guardamos una determinada información. En función del tipo de información que guardemos (texto, números, booleanas, etc.), la variable será de uno u otro tipo.\n",
    "\n",
    "Cada variable tiene que tener un nombre con el que referirnos a ella. **Python tiene en cuenta si escribimos en mayúsculas o minúsculas la variable (lo que se conoce como case sensitive)**. No es lo mismo una variable que se llame f1 que una que se llame F1.\n",
    "\n",
    "Como es lógico y, para evitar confusiones, el nombre de la variable **no puede coincidir con los nombres de los “comandos” de python (if, for, etc.)**. Tampoco podremos usar **nombres de variables con tildes o con ñ**.\n"
   ]
  },
  {
   "cell_type": "markdown",
   "metadata": {},
   "source": [
    " ###  1. Números\n",
    "\n",
    "En números hay dos tipos principales, los números enteros (llamados int) y los reales (llamados float). El separador decimal que tenemos que usar es el punto.\n",
    "\n",
    "Aunque si no decimos el tipo de número que va a contener, Python intentará decidir por si mismo cuál es el más apropiado, esto en ocasiones produce errores.\n",
    "\n",
    "Para saber de qué tipo es una determinada variable, basta con preguntarle a Python type(variable)."
   ]
  },
  {
   "cell_type": "code",
   "execution_count": 13,
   "metadata": {},
   "outputs": [
    {
     "name": "stdout",
     "output_type": "stream",
     "text": [
      "2\n",
      "2.5\n"
     ]
    },
    {
     "data": {
      "text/plain": [
       "float"
      ]
     },
     "execution_count": 13,
     "metadata": {},
     "output_type": "execute_result"
    }
   ],
   "source": [
    "# Definimos dos variables llamadas numero1 y\n",
    "# numero2, y asociaremos un número a cada una\n",
    "numero1=int(2)\n",
    "numero2=float(2.5)\n",
    "print (numero1)\n",
    "print (numero2)\n",
    "type(numero2)"
   ]
  },
  {
   "cell_type": "markdown",
   "metadata": {},
   "source": [
    "### 2. Texto\n",
    "\n",
    "Las variables que almacenan texto se denominan strings (str). Tienen que estar entre comillas sencillas(‘) o dobles (“), o si el texto ocupa varias líneas, entre triples comillas dobles (“””) .\n",
    "\n",
    "Siempre podemos forzar a Python a interpretar como texto una cadena usando el comando str."
   ]
  },
  {
   "cell_type": "code",
   "execution_count": 17,
   "metadata": {},
   "outputs": [
    {
     "name": "stdout",
     "output_type": "stream",
     "text": [
      "Esto es un texto\n",
      "Esto es otro texto\n",
      "Hola\n",
      "Gracias\n",
      "54\n"
     ]
    }
   ],
   "source": [
    "# Definimos dos variables llamadas texto y\n",
    "# texto2, y asociaremos un texto a cada una\n",
    "texto=\"Esto es un texto\"\n",
    "texto2='Esto es otro texto'\n",
    "print (texto)\n",
    "print (texto2)\n",
    "# Definimos una nueva variable texto3 que\n",
    "# incluye un texto multilinea.\n",
    "texto3=\"\"\"Hola\n",
    "Gracias\"\"\"\n",
    "print (texto3)\n",
    "texto4=str(54)\n",
    "print(texto4)"
   ]
  },
  {
   "cell_type": "code",
   "execution_count": 20,
   "metadata": {},
   "outputs": [
    {
     "name": "stdout",
     "output_type": "stream",
     "text": [
      "Esto es un texto 15\n"
     ]
    }
   ],
   "source": [
    "# Juntar texto y números.\n",
    "texto=\"Esto es un texto\"\n",
    "numero=15\n",
    "print(texto+\" \"+str(numero))"
   ]
  },
  {
   "cell_type": "markdown",
   "metadata": {},
   "source": [
    "## if en Python\n",
    "**La indentación (sangría) en python es importante.**\n",
    "\n",
    "En Python, las líneas de código que están dentro de un mismo deben estar agrupadas, teniendo el mismo número de espacios a la izquierda de cada línea.\n",
    "\n",
    "### Correcto\n",
    "\n",
    "- Tienda 1\n",
    "  - Seccion 1\n",
    "     - Producto 1\n",
    "     - Producto 2\n",
    "  - Seccion 2\n",
    "- Tienda 2\n",
    "  - Seccion 1\n",
    "  - Seccion 2\n",
    "       - Producto 1\n",
    "       - Producto 2\n",
    "\n",
    "### Incorrecto       \n",
    "\n",
    "- Tienda 1\n",
    "  - Seccion 1\n",
    "     - Producto 1\n",
    "  - Producto 2\n",
    "  - Seccion 2\n",
    "- Tienda 2\n",
    "  - Seccion 1\n",
    "  - Seccion 2\n",
    "       - Producto 1\n",
    "       - Producto 2\n",
    "\n",
    "\n",
    "El comando es **if (condición principal)**, con los opcionales **elif (condiciones adicionales, se pueden poner tantas como se quiera)** y **else (si no se ha cumplido ninguna de las anteriores, sólo se puede poner una vez y al final)**.\n"
   ]
  },
  {
   "cell_type": "code",
   "execution_count": 32,
   "metadata": {},
   "outputs": [
    {
     "name": "stdout",
     "output_type": "stream",
     "text": [
      "El alumno paso la materia\n"
     ]
    }
   ],
   "source": [
    "Alumno=15\n",
    "if (Alumno>=6):\n",
    "    print(\"El alumno paso la materia\")\n",
    "elif (Alumno<6 and Alumno>0):\n",
    "    print(\"El alumno perdio la materia\")\n",
    "else:\n",
    "    print(\"El alumno no se presento a Clases\")\n"
   ]
  },
  {
   "cell_type": "markdown",
   "metadata": {},
   "source": [
    "Condiciones en Python\n",
    "Las condiciones que se suelen usar con más frecuencia son:\n",
    "\n",
    "- a == b –> Indica si a es igual a b\n",
    "- a < b\n",
    "- a > b\n",
    "- not –> NO: niega la condición que le sigue.\n",
    "- and –> Y: junta dos condiciones que tienen que cumplirse las dos\n",
    "- or –> O: junta dos condiciones y tienen que cumplirse alguna de las dos."
   ]
  },
  {
   "cell_type": "markdown",
   "metadata": {},
   "source": [
    "## while en Python\n",
    "El comando es **while ...** "
   ]
  },
  {
   "cell_type": "code",
   "execution_count": 34,
   "metadata": {},
   "outputs": [
    {
     "name": "stdout",
     "output_type": "stream",
     "text": [
      "paso 1\n",
      "paso 2\n",
      "paso 3\n",
      "paso 4\n",
      "paso 5\n",
      "paso 6\n",
      "paso 7\n",
      "paso 8\n",
      "paso 9\n"
     ]
    }
   ],
   "source": [
    "paso=1\n",
    "while paso<10:\n",
    "    print(\"paso \"+str(paso))\n",
    "    paso=paso+1"
   ]
  },
  {
   "cell_type": "markdown",
   "metadata": {},
   "source": [
    "## for en Python\n",
    "El comando es **for ...** "
   ]
  },
  {
   "cell_type": "code",
   "execution_count": 42,
   "metadata": {},
   "outputs": [
    {
     "name": "stdout",
     "output_type": "stream",
     "text": [
      "iteración 1\n",
      "iteración 2\n",
      "iteración 3\n",
      "iteración 4\n",
      "iteración 5\n",
      "iteración 6\n",
      "iteración 7\n",
      "iteración 8\n",
      "iteración 9\n"
     ]
    }
   ],
   "source": [
    "for iteracion in range(1,10): \n",
    "    # función range(min_value, max_value) genera una secuencia con números \n",
    "    # min_value , min_value + 1 , ..., max_value - 1 . El último número no está incluido.\n",
    "    print(\"iteración \" + str(iteracion))"
   ]
  },
  {
   "cell_type": "markdown",
   "metadata": {},
   "source": [
    "## Listas en Python"
   ]
  },
  {
   "cell_type": "markdown",
   "metadata": {},
   "source": [
    "Son listados de datos en los que **hay un orden**, por lo que tiene en cuenta la posición en la que está el elemento. El primer elemento es **el número 0**, y no el número 1. En las listas se pueden modificar sus elementos, y puede haber elementos duplicados. Se crean poniendo sus elementos entre corchetes *[a,b,c,]*.\n",
    "\n",
    "Las listas pueden contener no sólo texto, si no también números o cualquier otro tipo de variables."
   ]
  },
  {
   "cell_type": "code",
   "execution_count": 44,
   "metadata": {},
   "outputs": [
    {
     "name": "stdout",
     "output_type": "stream",
     "text": [
      "['a', 'b', 'c', 'd']\n",
      "['a b', 'b c', 'c d', 'd e']\n"
     ]
    }
   ],
   "source": [
    "lista1=[\"a\",\"b\",\"c\",\"d\"]\n",
    "print(lista1)\n",
    "lista2=[\"a b\",\"b c\",\"c d\",\"d e\"]\n",
    "print(lista2)"
   ]
  },
  {
   "cell_type": "markdown",
   "metadata": {},
   "source": [
    "Las operaciones más habituales que se realizan en Python son las siguientes:\n",
    "\n",
    " - lista[i]: Devuelve el elemento que está en la posición i de la lista.\n",
    " - lista.pop(i): Devuelve el elemento en la posición i de una lista y luego lo borra.\n",
    " - lista.append(elemento): Añade elemento al final de la lista.\n",
    " - lista.insert(i, elemento): Inserta elemento en la posición i.\n",
    " - lista.extend(lista2): Fusiona lista con lista2.\n",
    " - lista.remove(elemento): Elimina la primera vez que aparece elemento."
   ]
  },
  {
   "cell_type": "markdown",
   "metadata": {},
   "source": [
    "## Diccionarios en Python\n",
    "\n",
    "Un diccionario en Python es una palabra que tiene asociado algo. Al contrario de lo que sucedía en las listas, los diccionarios **no tienen orden**.\n",
    "\n",
    "Se crean poniendo sus elementos entre llaves {“a”:”Ana”, “b”:”Bernardo”,>>>}. Se denominan keys a las **“palabras”** y values a las **“definiciones”**.  Lógicamente, no puede haber dos keys iguales, aunque sí dos values iguales."
   ]
  },
  {
   "cell_type": "code",
   "execution_count": 50,
   "metadata": {},
   "outputs": [
    {
     "name": "stdout",
     "output_type": "stream",
     "text": [
      "{'a': 'Ana', 'b': 'Bernardo'}\n"
     ]
    }
   ],
   "source": [
    "diccionario1={\"a\":\"Ana\",\"b\":\"Bernardo\"}\n",
    "print(diccionario1)"
   ]
  },
  {
   "cell_type": "markdown",
   "metadata": {},
   "source": [
    "Operaciones más habituales con diccionarios en Python\n",
    "\n",
    "- diccionario.get(‘key’): Devuelve el valor que corresponde con la key introducida.\n",
    "- diccionario.pop(‘key’): Devuelve el valor que corresponde con la key introducida, y luego borra la key y el valor.\n",
    "- diccionario.update({‘key’:’valor’}): Inserta una determinada key o actualiza su valor si ya existiera.\n",
    "- “key” in diccionario: Devuelve verdadero (True) o falso (False) si la key (no los valores) existe en el diccionario.\n",
    "- “definicion” in diccionario.values(): Devuelve verdadero (True) o falso (False) si definición existe en el diccionario (no como key)."
   ]
  },
  {
   "cell_type": "code",
   "execution_count": null,
   "metadata": {},
   "outputs": [],
   "source": []
  }
 ],
 "metadata": {
  "anaconda-cloud": {},
  "kernelspec": {
   "display_name": "Python 3",
   "language": "python",
   "name": "python3"
  },
  "language_info": {
   "codemirror_mode": {
    "name": "ipython",
    "version": 3
   },
   "file_extension": ".py",
   "mimetype": "text/x-python",
   "name": "python",
   "nbconvert_exporter": "python",
   "pygments_lexer": "ipython3",
   "version": "3.6.6"
  }
 },
 "nbformat": 4,
 "nbformat_minor": 1
}
