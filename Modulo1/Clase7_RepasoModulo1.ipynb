{
 "cells": [
  {
   "cell_type": "markdown",
   "metadata": {},
   "source": [
    "# Repaso Módulo 1 - Optimización. <font color=blue>Tipo de examen</font>."
   ]
  },
  {
   "cell_type": "markdown",
   "metadata": {},
   "source": [
    "## Primer punto. Optimización de funciones escalares usando `sympy'.\n",
    "\n",
    "**Enunciado**: Un depósito abierto de latón con base cuadrada y capacidad para 4 000 litros, ¿qué dimensiones debe\n",
    "tener para que su fabricación sea lo más económica posible?\n",
    "\n",
    "Punto 1: Escriba la función a minimizar junto con las restricciones, explicando detalladamente cada paso (usando fórmulas en LaTeX, en celdas Markdown). \n",
    "\n",
    "Punto 2: Resuelva el problema utilizando sympy\n"
   ]
  },
  {
   "cell_type": "markdown",
   "metadata": {},
   "source": [
    "## Solución"
   ]
  },
  {
   "cell_type": "markdown",
   "metadata": {},
   "source": [
    "### Planteamiento del problema\n",
    "\n",
    "Llamamos $x$ al lado de la base e $y$ a la altura del depósito. Así, el volumen es:\n",
    "\n",
    "$$V=x^2y=4000$$\n",
    "\n",
    "$$ y= \\frac{4000}{x^2}$$\n",
    "\n",
    "La superficie total del depósito  será: \n",
    "\n",
    "$$A=x^2 + 4xy = x^2 + \\frac{16000}{x}, \\quad x>0$$\n",
    "\n",
    "Buscamos x para que A sea mínima:\n",
    "\n"
   ]
  },
  {
   "cell_type": "markdown",
   "metadata": {},
   "source": [
    "Usando `sympy` "
   ]
  },
  {
   "cell_type": "code",
   "execution_count": 118,
   "metadata": {},
   "outputs": [],
   "source": [
    "import numpy as np\n",
    "import matplotlib.pyplot as plt\n",
    "import sympy as sym\n",
    "sym.init_printing(use_latex='mathjax')"
   ]
  },
  {
   "cell_type": "code",
   "execution_count": 119,
   "metadata": {},
   "outputs": [
    {
     "data": {
      "text/latex": [
       "$$x$$"
      ],
      "text/plain": [
       "x"
      ]
     },
     "execution_count": 119,
     "metadata": {},
     "output_type": "execute_result"
    }
   ],
   "source": [
    "# Declaramos la variable simbolica x\n",
    "sym.var('x',real='true')"
   ]
  },
  {
   "cell_type": "code",
   "execution_count": 120,
   "metadata": {},
   "outputs": [],
   "source": [
    "# Definimos funcion area del rectangulo\n",
    "def A(x):\n",
    "    return x**2 + 16000/x"
   ]
  },
  {
   "cell_type": "code",
   "execution_count": 121,
   "metadata": {},
   "outputs": [
    {
     "data": {
      "text/latex": [
       "$$2 x - \\frac{16000}{x^{2}}$$"
      ],
      "text/plain": [
       "      16000\n",
       "2⋅x - ─────\n",
       "         2 \n",
       "        x  "
      ]
     },
     "execution_count": 121,
     "metadata": {},
     "output_type": "execute_result"
    }
   ],
   "source": [
    "# Derivamos funcion AR(x)\n",
    "dA = sym.diff(A(x), x)\n",
    "dA"
   ]
  },
  {
   "cell_type": "code",
   "execution_count": 122,
   "metadata": {},
   "outputs": [
    {
     "data": {
      "text/latex": [
       "$$\\left [ 20\\right ]$$"
      ],
      "text/plain": [
       "[20]"
      ]
     },
     "execution_count": 122,
     "metadata": {},
     "output_type": "execute_result"
    }
   ],
   "source": [
    "# Hallamos puntos criticos\n",
    "xc = sym.solve(dA, x)\n",
    "xc"
   ]
  },
  {
   "cell_type": "code",
   "execution_count": 123,
   "metadata": {},
   "outputs": [
    {
     "data": {
      "text/latex": [
       "$$1200$$"
      ],
      "text/plain": [
       "1200"
      ]
     },
     "execution_count": 123,
     "metadata": {},
     "output_type": "execute_result"
    }
   ],
   "source": [
    "# Evaluamos en puntos criticos\n",
    "A(xc[0])"
   ]
  },
  {
   "cell_type": "markdown",
   "metadata": {},
   "source": [
    "Veamos que es un mínimo: "
   ]
  },
  {
   "cell_type": "code",
   "execution_count": 124,
   "metadata": {},
   "outputs": [
    {
     "data": {
      "text/latex": [
       "$$2 \\left(1 + \\frac{16000}{x^{3}}\\right)$$"
      ],
      "text/plain": [
       "  ⎛    16000⎞\n",
       "2⋅⎜1 + ─────⎟\n",
       "  ⎜       3 ⎟\n",
       "  ⎝      x  ⎠"
      ]
     },
     "execution_count": 124,
     "metadata": {},
     "output_type": "execute_result"
    }
   ],
   "source": [
    "# Derivamos funcion AR(x)\n",
    "d2A = sym.diff(A(x), x,2)\n",
    "d2A"
   ]
  },
  {
   "cell_type": "markdown",
   "metadata": {},
   "source": [
    "Si $x=20$, d2A>0, por tanto, hay un mínimo."
   ]
  },
  {
   "cell_type": "code",
   "execution_count": 125,
   "metadata": {},
   "outputs": [
    {
     "data": {
      "text/latex": [
       "$$6$$"
      ],
      "text/plain": [
       "6"
      ]
     },
     "execution_count": 125,
     "metadata": {},
     "output_type": "execute_result"
    }
   ],
   "source": [
    "d2Anum=sym.lambdify(x,d2A)\n",
    "d2Anum(xc[0])"
   ]
  },
  {
   "cell_type": "markdown",
   "metadata": {},
   "source": [
    "**Conclusión:**\n",
    "\n",
    "Por tanto, el lado de la base debe medir, $x = 20 dm$ y la altura, $y = 10 dm$. "
   ]
  },
  {
   "cell_type": "markdown",
   "metadata": {},
   "source": [
    "## Segundo punto. Programación lineal."
   ]
  },
  {
   "cell_type": "markdown",
   "metadata": {},
   "source": [
    "**Enunciado.** \n",
    "\n",
    "Una compañía tiene dos minas: la mina $A$ produce diariamente 1 tonelada de carbón de antracita de alta calidad, 2 toneladas de carbón de calidad media y 4 toneladas de carbón de baja calidad; la mina $B$ produce 2 toneladas de cada una de las tres clases. Esta compañía necesita 70 toneladas de carbón de alta calidad, 130 de calidad media y 150 de baja calidad. \n",
    "\n",
    "Los gastos diarios de la mina $A$ ascienden a 500 u.m. y los de la mina $B$ a 750 u.m. ¿Cuántos días deberán trabajar en cada mina para que los costos sean mínimos? \n",
    "\n",
    "**Punto 1 (20 puntos).** Escriba la función a minimizar junto con las restricciones, explicando detalladamente cada paso (usando fórmulas en LaTeX, en celdas Markdown). Además escriba el problema en la forma \n",
    "\\begin{equation}\n",
    "\\begin{array}{ll}\n",
    "\\min_{\\boldsymbol{x}} & \\boldsymbol{c}^T\\boldsymbol{x} \\\\\n",
    "\\text{s. a. }        & \\boldsymbol{A}_{eq}\\boldsymbol{x}=\\boldsymbol{b}_{eq} \\\\\n",
    "                     & \\boldsymbol{A}\\boldsymbol{x}\\leq\\boldsymbol{b},\n",
    "\\end{array}\n",
    "\\end{equation}\n",
    "\n",
    "proporcionando $\\boldsymbol{c}$, $\\boldsymbol{A}$ y $\\boldsymbol{b}$ ($\\boldsymbol{A}_{eq}$ y $\\boldsymbol{b}_{eq}$, de ser necesario) como arreglos de `NumPy` (no es necesario escribir en LaTeX el problema en la forma indicada, solo proporcionar las matrices como arreglos de `NumPy`).\n",
    "\n",
    "**Punto 2**: Resuelva el problema utilizando la función linprog. ¿Cuántos días deberán trabajar en cada mina para que los costos sean mínimos?\n",
    "\n"
   ]
  },
  {
   "cell_type": "markdown",
   "metadata": {},
   "source": [
    "## Solución"
   ]
  },
  {
   "cell_type": "markdown",
   "metadata": {},
   "source": [
    "Como se quiere minimizar el costo total, entonces el problema es\n",
    "\n",
    "\n",
    "$$\\min_{x_1,x_2} 500x_1 + 750x_2,$$\n",
    "\n",
    "donde \n",
    "\n",
    "$x_1=$Número de días a explotar la mina $A$, \n",
    "\n",
    "$x_2=$Número de días a explotar la mina $B$. \n",
    "\n",
    "\n",
    "Además, las restricciones son:\n",
    "\n",
    "$$   x_1 + 2 x_2 \\geq 70$$\n",
    "$$ 2 x_1 + 2 x_2 \\geq 130$$\n",
    "$$ 4 x_1 + 2 x_2 \\geq 150$$\n",
    "\n",
    "$$x_1\\geq0, \\quad x_2 \\geq0$$"
   ]
  },
  {
   "cell_type": "code",
   "execution_count": 126,
   "metadata": {},
   "outputs": [],
   "source": [
    "# Escriba acá las matrices como arreglos de Numpy\n",
    "c = np.array([500, 750])\n",
    "A = -np.array([[1, 2],\n",
    "               [2, 2],\n",
    "               [4, 2],\n",
    "               [1, 0],\n",
    "               [0, 1]])\n",
    "b = -np.array([70,130,150,0,0])"
   ]
  },
  {
   "cell_type": "markdown",
   "metadata": {},
   "source": [
    "**Punto 2 (15 puntos).** Resuelva el problema utilizando la función `linprog`. ¿Cuántos trabajadores son necesarios en total?"
   ]
  },
  {
   "cell_type": "code",
   "execution_count": 127,
   "metadata": {},
   "outputs": [],
   "source": [
    "import scipy.optimize as opt"
   ]
  },
  {
   "cell_type": "code",
   "execution_count": 128,
   "metadata": {},
   "outputs": [
    {
     "data": {
      "text/plain": [
       "     fun: 33750.0\n",
       " message: 'Optimization terminated successfully.'\n",
       "     nit: 4\n",
       "   slack: array([ 60.,   5., 100.,   0.,   0.])\n",
       "  status: 0\n",
       " success: True\n",
       "       x: array([60.,  5.])"
      ]
     },
     "execution_count": 128,
     "metadata": {},
     "output_type": "execute_result"
    }
   ],
   "source": [
    "trabajadores = opt.linprog(c, A_ub=A, b_ub=b)\n",
    "trabajadores"
   ]
  },
  {
   "cell_type": "markdown",
   "metadata": {},
   "source": [
    "- La mina $A$ se debe explotar 60 días\n",
    "- La mina $B$ se debe explotar 5 días\n",
    "- Los costos mínimos son de 33750 u.m. "
   ]
  },
  {
   "cell_type": "markdown",
   "metadata": {},
   "source": [
    "## Tercer punto. Ajuste de curvas (35 puntos).\n",
    "\n",
    "**Enunciado**. El archivo `population_data.csv` contiene información histórica anual de México relativa a la población con educacion terciaria.\n",
    "\n",
    "\n",
    "**Punto 1.** Importar los datos en un DataFrame de pandas."
   ]
  },
  {
   "cell_type": "markdown",
   "metadata": {},
   "source": [
    "**Solución punto 1.**"
   ]
  },
  {
   "cell_type": "code",
   "execution_count": 129,
   "metadata": {},
   "outputs": [],
   "source": [
    "# Importar libreria pandas\n",
    "import pandas as pd"
   ]
  },
  {
   "cell_type": "code",
   "execution_count": 147,
   "metadata": {},
   "outputs": [
    {
     "data": {
      "text/html": [
       "<div>\n",
       "<style scoped>\n",
       "    .dataframe tbody tr th:only-of-type {\n",
       "        vertical-align: middle;\n",
       "    }\n",
       "\n",
       "    .dataframe tbody tr th {\n",
       "        vertical-align: top;\n",
       "    }\n",
       "\n",
       "    .dataframe thead th {\n",
       "        text-align: right;\n",
       "    }\n",
       "</style>\n",
       "<table border=\"1\" class=\"dataframe\">\n",
       "  <thead>\n",
       "    <tr style=\"text-align: right;\">\n",
       "      <th></th>\n",
       "      <th>0</th>\n",
       "      <th>1</th>\n",
       "      <th>2</th>\n",
       "    </tr>\n",
       "  </thead>\n",
       "  <tbody>\n",
       "    <tr>\n",
       "      <th>0</th>\n",
       "      <td>1</td>\n",
       "      <td>1971</td>\n",
       "      <td>4.29087</td>\n",
       "    </tr>\n",
       "    <tr>\n",
       "      <th>1</th>\n",
       "      <td>2</td>\n",
       "      <td>1972</td>\n",
       "      <td>5.66648</td>\n",
       "    </tr>\n",
       "    <tr>\n",
       "      <th>2</th>\n",
       "      <td>3</td>\n",
       "      <td>1973</td>\n",
       "      <td>6.65540</td>\n",
       "    </tr>\n",
       "    <tr>\n",
       "      <th>3</th>\n",
       "      <td>4</td>\n",
       "      <td>1974</td>\n",
       "      <td>7.46832</td>\n",
       "    </tr>\n",
       "    <tr>\n",
       "      <th>4</th>\n",
       "      <td>5</td>\n",
       "      <td>1975</td>\n",
       "      <td>8.76624</td>\n",
       "    </tr>\n",
       "    <tr>\n",
       "      <th>5</th>\n",
       "      <td>6</td>\n",
       "      <td>1976</td>\n",
       "      <td>9.56276</td>\n",
       "    </tr>\n",
       "    <tr>\n",
       "      <th>6</th>\n",
       "      <td>7</td>\n",
       "      <td>1977</td>\n",
       "      <td>9.45010</td>\n",
       "    </tr>\n",
       "    <tr>\n",
       "      <th>7</th>\n",
       "      <td>8</td>\n",
       "      <td>1978</td>\n",
       "      <td>10.60069</td>\n",
       "    </tr>\n",
       "    <tr>\n",
       "      <th>8</th>\n",
       "      <td>9</td>\n",
       "      <td>1979</td>\n",
       "      <td>11.72961</td>\n",
       "    </tr>\n",
       "    <tr>\n",
       "      <th>9</th>\n",
       "      <td>10</td>\n",
       "      <td>1980</td>\n",
       "      <td>13.09215</td>\n",
       "    </tr>\n",
       "    <tr>\n",
       "      <th>10</th>\n",
       "      <td>11</td>\n",
       "      <td>1981</td>\n",
       "      <td>13.89211</td>\n",
       "    </tr>\n",
       "    <tr>\n",
       "      <th>11</th>\n",
       "      <td>12</td>\n",
       "      <td>1982</td>\n",
       "      <td>14.50532</td>\n",
       "    </tr>\n",
       "    <tr>\n",
       "      <th>12</th>\n",
       "      <td>13</td>\n",
       "      <td>1983</td>\n",
       "      <td>14.78158</td>\n",
       "    </tr>\n",
       "    <tr>\n",
       "      <th>13</th>\n",
       "      <td>14</td>\n",
       "      <td>1984</td>\n",
       "      <td>15.27040</td>\n",
       "    </tr>\n",
       "    <tr>\n",
       "      <th>14</th>\n",
       "      <td>15</td>\n",
       "      <td>1985</td>\n",
       "      <td>15.56380</td>\n",
       "    </tr>\n",
       "    <tr>\n",
       "      <th>15</th>\n",
       "      <td>16</td>\n",
       "      <td>1986</td>\n",
       "      <td>15.82362</td>\n",
       "    </tr>\n",
       "    <tr>\n",
       "      <th>16</th>\n",
       "      <td>17</td>\n",
       "      <td>1987</td>\n",
       "      <td>18.58139</td>\n",
       "    </tr>\n",
       "    <tr>\n",
       "      <th>17</th>\n",
       "      <td>18</td>\n",
       "      <td>1988</td>\n",
       "      <td>18.21126</td>\n",
       "    </tr>\n",
       "    <tr>\n",
       "      <th>18</th>\n",
       "      <td>19</td>\n",
       "      <td>1989</td>\n",
       "      <td>16.62265</td>\n",
       "    </tr>\n",
       "    <tr>\n",
       "      <th>19</th>\n",
       "      <td>20</td>\n",
       "      <td>1990</td>\n",
       "      <td>18.04582</td>\n",
       "    </tr>\n",
       "    <tr>\n",
       "      <th>20</th>\n",
       "      <td>21</td>\n",
       "      <td>1991</td>\n",
       "      <td>19.33101</td>\n",
       "    </tr>\n",
       "    <tr>\n",
       "      <th>21</th>\n",
       "      <td>22</td>\n",
       "      <td>1992</td>\n",
       "      <td>20.95454</td>\n",
       "    </tr>\n",
       "    <tr>\n",
       "      <th>22</th>\n",
       "      <td>23</td>\n",
       "      <td>1993</td>\n",
       "      <td>21.05118</td>\n",
       "    </tr>\n",
       "    <tr>\n",
       "      <th>23</th>\n",
       "      <td>24</td>\n",
       "      <td>1994</td>\n",
       "      <td>23.23489</td>\n",
       "    </tr>\n",
       "    <tr>\n",
       "      <th>24</th>\n",
       "      <td>25</td>\n",
       "      <td>1995</td>\n",
       "      <td>24.60487</td>\n",
       "    </tr>\n",
       "    <tr>\n",
       "      <th>25</th>\n",
       "      <td>26</td>\n",
       "      <td>1996</td>\n",
       "      <td>24.58871</td>\n",
       "    </tr>\n",
       "    <tr>\n",
       "      <th>26</th>\n",
       "      <td>27</td>\n",
       "      <td>1997</td>\n",
       "      <td>25.39558</td>\n",
       "    </tr>\n",
       "    <tr>\n",
       "      <th>27</th>\n",
       "      <td>28</td>\n",
       "      <td>1998</td>\n",
       "      <td>26.59718</td>\n",
       "    </tr>\n",
       "    <tr>\n",
       "      <th>28</th>\n",
       "      <td>29</td>\n",
       "      <td>1999</td>\n",
       "      <td>27.75318</td>\n",
       "    </tr>\n",
       "    <tr>\n",
       "      <th>29</th>\n",
       "      <td>30</td>\n",
       "      <td>2000</td>\n",
       "      <td>29.05062</td>\n",
       "    </tr>\n",
       "    <tr>\n",
       "      <th>30</th>\n",
       "      <td>31</td>\n",
       "      <td>2001</td>\n",
       "      <td>29.95269</td>\n",
       "    </tr>\n",
       "    <tr>\n",
       "      <th>31</th>\n",
       "      <td>32</td>\n",
       "      <td>2002</td>\n",
       "      <td>31.01709</td>\n",
       "    </tr>\n",
       "    <tr>\n",
       "      <th>32</th>\n",
       "      <td>33</td>\n",
       "      <td>2003</td>\n",
       "      <td>31.97108</td>\n",
       "    </tr>\n",
       "    <tr>\n",
       "      <th>33</th>\n",
       "      <td>34</td>\n",
       "      <td>2004</td>\n",
       "      <td>32.84649</td>\n",
       "    </tr>\n",
       "    <tr>\n",
       "      <th>34</th>\n",
       "      <td>35</td>\n",
       "      <td>2005</td>\n",
       "      <td>33.41172</td>\n",
       "    </tr>\n",
       "    <tr>\n",
       "      <th>35</th>\n",
       "      <td>36</td>\n",
       "      <td>2006</td>\n",
       "      <td>33.86968</td>\n",
       "    </tr>\n",
       "    <tr>\n",
       "      <th>36</th>\n",
       "      <td>37</td>\n",
       "      <td>2007</td>\n",
       "      <td>34.34877</td>\n",
       "    </tr>\n",
       "    <tr>\n",
       "      <th>37</th>\n",
       "      <td>38</td>\n",
       "      <td>2008</td>\n",
       "      <td>34.90479</td>\n",
       "    </tr>\n",
       "    <tr>\n",
       "      <th>38</th>\n",
       "      <td>39</td>\n",
       "      <td>2009</td>\n",
       "      <td>35.32290</td>\n",
       "    </tr>\n",
       "    <tr>\n",
       "      <th>39</th>\n",
       "      <td>40</td>\n",
       "      <td>2010</td>\n",
       "      <td>36.29703</td>\n",
       "    </tr>\n",
       "    <tr>\n",
       "      <th>40</th>\n",
       "      <td>41</td>\n",
       "      <td>2011</td>\n",
       "      <td>37.19712</td>\n",
       "    </tr>\n",
       "    <tr>\n",
       "      <th>41</th>\n",
       "      <td>42</td>\n",
       "      <td>2012</td>\n",
       "      <td>38.51312</td>\n",
       "    </tr>\n",
       "    <tr>\n",
       "      <th>42</th>\n",
       "      <td>43</td>\n",
       "      <td>2013</td>\n",
       "      <td>39.46160</td>\n",
       "    </tr>\n",
       "    <tr>\n",
       "      <th>43</th>\n",
       "      <td>44</td>\n",
       "      <td>2014</td>\n",
       "      <td>40.22978</td>\n",
       "    </tr>\n",
       "    <tr>\n",
       "      <th>44</th>\n",
       "      <td>45</td>\n",
       "      <td>2015</td>\n",
       "      <td>40.79432</td>\n",
       "    </tr>\n",
       "    <tr>\n",
       "      <th>45</th>\n",
       "      <td>46</td>\n",
       "      <td>2016</td>\n",
       "      <td>46.85074</td>\n",
       "    </tr>\n",
       "  </tbody>\n",
       "</table>\n",
       "</div>"
      ],
      "text/plain": [
       "     0     1         2\n",
       "0    1  1971   4.29087\n",
       "1    2  1972   5.66648\n",
       "2    3  1973   6.65540\n",
       "3    4  1974   7.46832\n",
       "4    5  1975   8.76624\n",
       "5    6  1976   9.56276\n",
       "6    7  1977   9.45010\n",
       "7    8  1978  10.60069\n",
       "8    9  1979  11.72961\n",
       "9   10  1980  13.09215\n",
       "10  11  1981  13.89211\n",
       "11  12  1982  14.50532\n",
       "12  13  1983  14.78158\n",
       "13  14  1984  15.27040\n",
       "14  15  1985  15.56380\n",
       "15  16  1986  15.82362\n",
       "16  17  1987  18.58139\n",
       "17  18  1988  18.21126\n",
       "18  19  1989  16.62265\n",
       "19  20  1990  18.04582\n",
       "20  21  1991  19.33101\n",
       "21  22  1992  20.95454\n",
       "22  23  1993  21.05118\n",
       "23  24  1994  23.23489\n",
       "24  25  1995  24.60487\n",
       "25  26  1996  24.58871\n",
       "26  27  1997  25.39558\n",
       "27  28  1998  26.59718\n",
       "28  29  1999  27.75318\n",
       "29  30  2000  29.05062\n",
       "30  31  2001  29.95269\n",
       "31  32  2002  31.01709\n",
       "32  33  2003  31.97108\n",
       "33  34  2004  32.84649\n",
       "34  35  2005  33.41172\n",
       "35  36  2006  33.86968\n",
       "36  37  2007  34.34877\n",
       "37  38  2008  34.90479\n",
       "38  39  2009  35.32290\n",
       "39  40  2010  36.29703\n",
       "40  41  2011  37.19712\n",
       "41  42  2012  38.51312\n",
       "42  43  2013  39.46160\n",
       "43  44  2014  40.22978\n",
       "44  45  2015  40.79432\n",
       "45  46  2016  46.85074"
      ]
     },
     "execution_count": 147,
     "metadata": {},
     "output_type": "execute_result"
    }
   ],
   "source": [
    "file_name = 'population_data.csv'\n",
    "data = pd.read_csv(file_name,header=None)\n",
    "data"
   ]
  },
  {
   "cell_type": "markdown",
   "metadata": {},
   "source": [
    "**Punto 2.** Usando los años como variable independiente $x$ y la población como variable dependiente $y$, ajustar polinomios de grado 1 hasta grado 3.\n",
    "\n",
    "Mostrar en un solo gráfico los datos de población contra los años, y los polinomios ajustados.\n",
    "\n",
    "Graficar el error cuadrático acumulado contra el número de términos. ¿Cuál es el polinomio que mejor se ajusta?"
   ]
  },
  {
   "cell_type": "markdown",
   "metadata": {},
   "source": [
    "**Solución punto 2.**"
   ]
  },
  {
   "cell_type": "code",
   "execution_count": 149,
   "metadata": {},
   "outputs": [],
   "source": [
    "import numpy as np\n",
    "import scipy.optimize as opt"
   ]
  },
  {
   "cell_type": "code",
   "execution_count": 150,
   "metadata": {},
   "outputs": [],
   "source": [
    "x = data.iloc[:,0].values\n",
    "y = data.iloc[:,2].values"
   ]
  },
  {
   "cell_type": "code",
   "execution_count": 151,
   "metadata": {},
   "outputs": [],
   "source": [
    "def fun_obj(b, x, y, n):\n",
    "    return np.sum((y-b.dot([x**i for i in range(n+1)]))**2)"
   ]
  },
  {
   "cell_type": "code",
   "execution_count": 152,
   "metadata": {},
   "outputs": [],
   "source": [
    "b01 = np.zeros(2)\n",
    "ajuste1 = opt.minimize(fun_obj, b01, args=(x,y,1))\n",
    "b02 = np.zeros(3)\n",
    "ajuste2 = opt.minimize(fun_obj, b02, args=(x,y,2))\n",
    "b03 = np.zeros(4)\n",
    "ajuste3 = opt.minimize(fun_obj, b03, args=(x,y,3))"
   ]
  },
  {
   "cell_type": "code",
   "execution_count": 153,
   "metadata": {},
   "outputs": [
    {
     "data": {
      "text/plain": [
       "      fun: 58.96790781978354\n",
       " hess_inv: array([[ 4.49275370e-02, -1.44927541e-03],\n",
       "       [-1.44927541e-03,  6.16712943e-05]])\n",
       "      jac: array([0., 0.])\n",
       "  message: 'Optimization terminated successfully.'\n",
       "     nfev: 24\n",
       "      nit: 4\n",
       "     njev: 6\n",
       "   status: 0\n",
       "  success: True\n",
       "        x: array([3.59202795, 0.83524326])"
      ]
     },
     "execution_count": 153,
     "metadata": {},
     "output_type": "execute_result"
    }
   ],
   "source": [
    "ajuste1"
   ]
  },
  {
   "cell_type": "code",
   "execution_count": 154,
   "metadata": {},
   "outputs": [
    {
     "data": {
      "text/plain": [
       "      fun: 47.92284947152279\n",
       " hess_inv: array([[ 1.06851119e-01, -9.18972322e-03,  1.64690380e-04],\n",
       "       [-9.18972322e-03,  1.02922728e-03, -2.05862976e-05],\n",
       "       [ 1.64690380e-04, -2.05862976e-05,  4.38006332e-07]])\n",
       "      jac: array([-0.00015259, -0.00499725,  0.06955624])\n",
       "  message: 'Desired error not necessarily achieved due to precision loss.'\n",
       "     nfev: 476\n",
       "      nit: 3\n",
       "     njev: 93\n",
       "   status: 2\n",
       "  success: False\n",
       "        x: array([4.76153841e+00, 6.89054413e-01, 3.11039915e-03])"
      ]
     },
     "execution_count": 154,
     "metadata": {},
     "output_type": "execute_result"
    }
   ],
   "source": [
    "ajuste2"
   ]
  },
  {
   "cell_type": "code",
   "execution_count": 155,
   "metadata": {},
   "outputs": [
    {
     "data": {
      "text/plain": [
       "      fun: 47.31560781798522\n",
       " hess_inv: array([[ 2.05640846e-01, -3.31346848e-02,  1.42476336e-03,\n",
       "        -1.78733754e-05],\n",
       "       [-3.31346848e-02,  6.83308275e-03, -3.26006796e-04,\n",
       "         4.33220583e-06],\n",
       "       [ 1.42476336e-03, -3.26006796e-04,  1.65103715e-05,\n",
       "        -2.27976827e-07],\n",
       "       [-1.78733754e-05,  4.33220583e-06, -2.27976827e-07,\n",
       "         3.23371412e-09]])\n",
       "      jac: array([ -0.08245707,  -0.78220844, -18.22581482,   1.71277952])\n",
       "  message: 'Desired error not necessarily achieved due to precision loss.'\n",
       "     nfev: 480\n",
       "      nit: 4\n",
       "     njev: 78\n",
       "   status: 2\n",
       "  success: False\n",
       "        x: array([ 4.41508421e+00,  7.72231383e-01, -1.25472362e-03,  6.18376493e-05])"
      ]
     },
     "execution_count": 155,
     "metadata": {},
     "output_type": "execute_result"
    }
   ],
   "source": [
    "ajuste3"
   ]
  },
  {
   "cell_type": "code",
   "execution_count": 156,
   "metadata": {},
   "outputs": [],
   "source": [
    "xpoints = x\n",
    "ypoints = y\n",
    "yhat1 = (ajuste1.x[0]+ajuste1.x[1]*xpoints)\n",
    "yhat2 = (ajuste2.x[0]+ajuste2.x[1]*xpoints+ ajuste2.x[2]*(xpoints)**2)\n",
    "yhat3 = (ajuste3.x[0]+ajuste3.x[1]*xpoints+ ajuste3.x[2]*(xpoints)**2+ ajuste3.x[3]*(xpoints)**3)"
   ]
  },
  {
   "cell_type": "code",
   "execution_count": 157,
   "metadata": {},
   "outputs": [],
   "source": [
    "import matplotlib.pyplot as plt"
   ]
  },
  {
   "cell_type": "code",
   "execution_count": 158,
   "metadata": {},
   "outputs": [
    {
     "data": {
      "text/plain": [
       "<matplotlib.legend.Legend at 0x220a5870550>"
      ]
     },
     "execution_count": 158,
     "metadata": {},
     "output_type": "execute_result"
    },
    {
     "data": {
      "image/png": "[encoded data removed]",
      "text/plain": [
       "<Figure size 576x432 with 1 Axes>"
      ]
     },
     "metadata": {
      "needs_background": "light"
     },
     "output_type": "display_data"
    }
   ],
   "source": [
    "plt.figure(figsize=(8,6))\n",
    "plt.plot(xpoints+1970, ypoints, 'r*', ms=5, label='Datos')\n",
    "plt.plot(xpoints+1970, yhat1, '-.b', lw=2, label='Ajuste 1')\n",
    "plt.plot(xpoints+1970, yhat2, '-.k', lw=2, label='Ajuste 2')\n",
    "plt.plot(xpoints+1970, yhat3, '-.g', lw=2, label='Ajuste 3')\n",
    "plt.grid()\n",
    "plt.xlabel('Años')\n",
    "plt.ylabel('Población (miles de personas)')\n",
    "plt.legend(loc='best')"
   ]
  },
  {
   "cell_type": "code",
   "execution_count": 141,
   "metadata": {},
   "outputs": [
    {
     "data": {
      "text/latex": [
       "$$\\left [ 58.96790781978354, \\quad 47.92284947152279, \\quad 47.31560781798522\\right ]$$"
      ],
      "text/plain": [
       "[58.96790781978354, 47.92284947152279, 47.31560781798522]"
      ]
     },
     "execution_count": 141,
     "metadata": {},
     "output_type": "execute_result"
    },
    {
     "data": {
      "image/png": "[encoded data removed]",
      "text/plain": [
       "<Figure size 576x432 with 1 Axes>"
      ]
     },
     "metadata": {
      "needs_background": "light"
     },
     "output_type": "display_data"
    }
   ],
   "source": [
    "error = [ajuste1.fun, ajuste2.fun, ajuste3.fun]\n",
    "plt.figure(figsize=(8,6))\n",
    "plt.plot(range(1,4), error, 'ro', ms=5)\n",
    "plt.xlabel('Orden del polinomio')\n",
    "plt.ylabel('error')\n",
    "\n",
    "error"
   ]
  },
  {
   "cell_type": "markdown",
   "metadata": {},
   "source": [
    "*Conclusión*"
   ]
  },
  {
   "cell_type": "markdown",
   "metadata": {},
   "source": [
    "Según la gráfica anterior, el polinomio que mejor se ajusta es el de segundo orden."
   ]
  },
  {
   "attachments": {},
   "cell_type": "markdown",
   "metadata": {},
   "source": [
    "**Punto 3.** Con los polinomios ajustados en el punto anterior, estime la población en el año 2017 y compare con el dato real 46.85074\n",
    "\n",
    "¿Cuál polinomio estima mejor este dato? ¿Es el polinomio que mejor se ajusta? Concluya."
   ]
  },
  {
   "cell_type": "markdown",
   "metadata": {
    "collapsed": true
   },
   "source": [
    "**Solución punto 3.**"
   ]
  },
  {
   "cell_type": "code",
   "execution_count": 142,
   "metadata": {},
   "outputs": [
    {
     "data": {
      "text/latex": [
       "$$\\left ( 42.84846117356673, \\quad 44.017967550979186, \\quad 44.35844499105859, \\quad 46.85074\\right )$$"
      ],
      "text/plain": [
       "(42.84846117356673, 44.017967550979186, 44.35844499105859, 46.85074)"
      ]
     },
     "execution_count": 142,
     "metadata": {},
     "output_type": "execute_result"
    }
   ],
   "source": [
    "yhat1 = ajuste1.x[0]+ajuste1.x[1]*47\n",
    "yhat2 = ajuste2.x[0]+ajuste2.x[1]*47 + ajuste2.x[2]*(47)**2\n",
    "yhat3 = ajuste3.x[0]+ajuste3.x[1]*47 + ajuste3.x[2]*(47)**2 + ajuste3.x[3]*(47)**3\n",
    "yhat1, yhat2, yhat3, 46.85074\n"
   ]
  },
  {
   "cell_type": "markdown",
   "metadata": {},
   "source": [
    "*Conclusión*. El polinomio que mejor estima este dato es el polinomio de grado dos."
   ]
  },
  {
   "cell_type": "code",
   "execution_count": null,
   "metadata": {},
   "outputs": [],
   "source": []
  },
  {
   "cell_type": "code",
   "execution_count": null,
   "metadata": {},
   "outputs": [],
   "source": []
  },
  {
   "cell_type": "code",
   "execution_count": null,
   "metadata": {},
   "outputs": [],
   "source": []
  }
 ],
 "metadata": {
  "kernelspec": {
   "display_name": "Python 3",
   "language": "python",
   "name": "python3"
  },
  "language_info": {
   "codemirror_mode": {
    "name": "ipython",
    "version": 3
   },
   "file_extension": ".py",
   "mimetype": "text/x-python",
   "name": "python",
   "nbconvert_exporter": "python",
   "pygments_lexer": "ipython3",
   "version": "3.7.0"
  }
 },
 "nbformat": 4,
 "nbformat_minor": 2
}
