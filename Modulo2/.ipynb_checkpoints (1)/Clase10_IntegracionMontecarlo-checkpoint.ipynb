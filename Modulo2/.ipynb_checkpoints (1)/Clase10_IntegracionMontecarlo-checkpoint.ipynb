{
 "cells": [
  {
   "cell_type": "markdown",
   "metadata": {},
   "source": [
    "# Integración numérica Montecarlo\n",
    "\n",
    "**Referencia:**\n",
    "- https://ocw.mit.edu/courses/mechanical-engineering/2-086-numerical-computation-for-mechanical-engineers-fall-2014/nutshells-guis/MIT2_086F14_Monte_Carlo.pdf\n",
    "- http://ta.twi.tudelft.nl/mf/users/oosterle/oosterlee/lec8-hit-2009.pdf\n",
    "- Sauer, Timothy. *Análisis Numérico*, 2da. Edición, ISBN: 978-607-32-2059-0.\n",
    "\n",
    "<img style=\"float: center; margin: 0px 0px 15px 15px;\" src=\"https://upload.wikimedia.org/wikipedia/commons/f/f2/Integral_as_region_under_curve.svg\" width=\"300px\" height=\"100px\" />\n",
    "\n"
   ]
  },
  {
   "cell_type": "markdown",
   "metadata": {},
   "source": [
    "## Motivación\n",
    "\n",
    "En análisis de ingeniería, normalmente debemos evaluar integrales definidas sobre un dominio complejo o en un espacio de dimensión alta.\n",
    "\n",
    "> Por ejemplo, podríamos querer calcular:\n",
    "> - la deflexión en una viga de geometría complicada, \n",
    "> - el volumen de una parte tridimensional de una aeronave,\n",
    "> - o evaluar alguna medida de rendimiento (rentabilidad) en algún proceso que sea expresada como una integral de alguna función sin antiderivada primitiva (que se pueda expresar en términos de funciones elementales).\n",
    "\n",
    "A la mano tenemos herramientas de integración analítica cuando tanto el espacio de integración como la función a integrar son simples. Cuando la función a integrar es difícil (incluso, imposible) de integrar podemos aún recurrir a métodos numéricos de integración. \n",
    "\n",
    "> Desafortunadamente, los métodos determinísiticos de integración fallan cuando:\n",
    "> - la región es demasiado compleja para discretizarla,\n",
    "> - o la función a integrar es demasiado irregular,\n",
    "> - o la convergencia es demasiado lenta debido a la alta dimensionalidad del espacio de integración (ver [Maldición de la dimensionalidad](https://es.wikipedia.org/wiki/Maldici%C3%B3n_de_la_dimensi%C3%B3n)).\n",
    "\n",
    "Por eso en esta clase veremos una *técnica alternativa de integración numérica*: **Integración Montecarlo**."
   ]
  },
  {
   "cell_type": "markdown",
   "metadata": {},
   "source": [
    "### Ejemplos de funciones sin antiderivada primitiva.\n",
    "\n",
    "Existen funciones cuya integral no tiene primitiva. Es decir, **que no podemos encontrar una función que se pueda expresar en forma de funciones elementales cuya derivada sea tal función**.\n",
    "\n",
    "Esto **no significa que dicha función no se pueda integrar**, ya que sabemos que cualquier función continua es integrable (y la mayoría de funciones que vemos a ese nivel, lo son). Lo que ocurre es que no podemos expresar dicha integral de una forma sencilla (por ejemplo, en función de exponenciales, senos, cosenos, logaritmos...).\n",
    "\n",
    "Algunas integrales que no son elementales son:\n",
    "- $\\int e^{p(x)}\\text{d}x$, donde $p(x)$ es un polinomio de grado mayor o igual a dos.\n",
    "- $\\int \\frac{1}{log(x)}\\text{d}x$.\n",
    "- $\\int \\frac{sin(x)}{x}\\text{d}x$\n",
    "\n",
    "**Referencia:**\n",
    "- https://www.gaussianos.com/funciones-sin-primitiva-elemental/"
   ]
  },
  {
   "cell_type": "markdown",
   "metadata": {},
   "source": [
    "### Ejemplos de regiones difíciles de discretizar."
   ]
  },
  {
   "cell_type": "code",
   "execution_count": 2,
   "metadata": {},
   "outputs": [],
   "source": [
    "from IPython.display import YouTubeVideo\n"
   ]
  },
  {
   "cell_type": "code",
   "execution_count": 3,
   "metadata": {},
   "outputs": [
    {
     "data": {
      "text/html": [
       "\n",
       "        <iframe\n",
       "            width=\"400\"\n",
       "            height=\"300\"\n",
       "            src=\"https://www.youtube.com/embed/jmsFC0mNayM\"\n",
       "            frameborder=\"0\"\n",
       "            allowfullscreen\n",
       "        ></iframe>\n",
       "        "
      ],
      "text/plain": [
       "<IPython.lib.display.YouTubeVideo at 0x2859e62ecc0>"
      ]
     },
     "execution_count": 3,
     "metadata": {},
     "output_type": "execute_result"
    }
   ],
   "source": [
    "YouTubeVideo('jmsFC0mNayM')"
   ]
  },
  {
   "cell_type": "markdown",
   "metadata": {},
   "source": [
    "___\n",
    "## Integración Montecarlo tipo 1\n",
    "Se basa en la definición de *valor promedio* de una función y en el *valor esperado* de una *variable aleatoria uniforme*.\n",
    "\n",
    "Presentamos esto mediante un ejemplo.\n",
    "\n",
    "**Ejemplo.** Aproxime el área bajo la curva $y=x^2$ en el intervalo $\\left[0,1\\right]$.\n",
    "\n",
    "Veamos primero cómo luce dicha área."
   ]
  },
  {
   "cell_type": "code",
   "execution_count": 4,
   "metadata": {},
   "outputs": [],
   "source": [
    "# Importamos librería para graficar y numpy\n",
    "import matplotlib.pyplot as plt\n",
    "%matplotlib inline\n",
    "import numpy as np"
   ]
  },
  {
   "cell_type": "code",
   "execution_count": 5,
   "metadata": {},
   "outputs": [],
   "source": [
    "# Función f(x)=x**2\n",
    "def f1(x):\n",
    "    return x**2"
   ]
  },
  {
   "cell_type": "code",
   "execution_count": 6,
   "metadata": {},
   "outputs": [
    {
     "data": {
      "image/png": "[encoded data removed]",
      "text/plain": [
       "<Figure size 576x432 with 1 Axes>"
      ]
     },
     "metadata": {
      "needs_background": "light"
     },
     "output_type": "display_data"
    }
   ],
   "source": [
    "# Dibujamos la región\n",
    "x=np.linspace(0,1,1000)\n",
    "y=f1(x)\n",
    "\n",
    "plt.figure(figsize=(8,6))\n",
    "plt.fill_between(x,y)\n",
    "plt.text(0.8,0.2,'$D$',fontsize=20)\n",
    "plt.show()"
   ]
  },
  {
   "cell_type": "markdown",
   "metadata": {},
   "source": [
    "Entonces, lo que queremos es aproximar el área de la región $\\mathcal{D}$. Llamaremos esta área $A(\\mathcal{D})$.\n",
    "\n",
    "De cálculo integral, sabemos que\n",
    "\n",
    "$$A(\\mathcal{D})=\\int_{0}^{1}y\\text{d}x=\\int_{0}^{1}x^2\\text{d}x$$."
   ]
  },
  {
   "cell_type": "markdown",
   "metadata": {},
   "source": [
    "Por *definición*, el **valor promedio** de una función $f:\\left[a,b\\right]\\to\\mathbb{R}$ en un intervalo $\\left[a,b\\right]$ es\n",
    "\n",
    "$$\\frac{1}{b-a}\\int_{a}^{b}f(x)\\text{d}x.$$\n",
    "\n",
    "Entonces, el área bajo la curva $y=x^2$ es exactamente el valor promedio de $f(x)=x^2$ en $\\left[0,1\\right]$. Este valor promedio puede aproximarse mediante el promedio de los valores de la función en puntos aleatorios **uniformemente distribuidos** en el intervalo $\\left[0,1\\right]$. Es decir,\n",
    "\n",
    "$$A(\\mathcal{D})=\\int_{0}^{1}x^2\\text{d}x=\\int_{0}^{1}f(x)\\text{d}x\\approx \\frac{1}{N}\\sum_{i=1}^{N}f(u_i)=\\frac{1}{N}\\sum_{i=1}^{N}u_i^2$$,"
   ]
  },
  {
   "cell_type": "markdown",
   "metadata": {},
   "source": [
    "donde $u_i$ son realizaciones de la variable aleatoria $U\\sim\\mathcal{U}\\left[0,1\\right]$ ($U$ distribuye uniformemente en el intervalo $\\left[0,1\\right]$)."
   ]
  },
  {
   "cell_type": "markdown",
   "metadata": {},
   "source": [
    "**¿Cómo construit vectores de números aleatorios?**\n",
    "- Ver [numpy.random](https://docs.scipy.org/doc/numpy-1.10.0/reference/routines.random.html).\n",
    "\n",
    "En este caso necesitamos $N$ números aleatorios uniformemente distribuidos..."
   ]
  },
  {
   "cell_type": "code",
   "execution_count": 7,
   "metadata": {},
   "outputs": [
    {
     "name": "stdout",
     "output_type": "stream",
     "text": [
      "Help on built-in function rand:\n",
      "\n",
      "rand(...) method of mtrand.RandomState instance\n",
      "    rand(d0, d1, ..., dn)\n",
      "    \n",
      "    Random values in a given shape.\n",
      "    \n",
      "    Create an array of the given shape and populate it with\n",
      "    random samples from a uniform distribution\n",
      "    over ``[0, 1)``.\n",
      "    \n",
      "    Parameters\n",
      "    ----------\n",
      "    d0, d1, ..., dn : int, optional\n",
      "        The dimensions of the returned array, should all be positive.\n",
      "        If no argument is given a single Python float is returned.\n",
      "    \n",
      "    Returns\n",
      "    -------\n",
      "    out : ndarray, shape ``(d0, d1, ..., dn)``\n",
      "        Random values.\n",
      "    \n",
      "    See Also\n",
      "    --------\n",
      "    random\n",
      "    \n",
      "    Notes\n",
      "    -----\n",
      "    This is a convenience function. If you want an interface that\n",
      "    takes a shape-tuple as the first argument, refer to\n",
      "    np.random.random_sample .\n",
      "    \n",
      "    Examples\n",
      "    --------\n",
      "    >>> np.random.rand(3,2)\n",
      "    array([[ 0.14022471,  0.96360618],  #random\n",
      "           [ 0.37601032,  0.25528411],  #random\n",
      "           [ 0.49313049,  0.94909878]]) #random\n",
      "\n"
     ]
    }
   ],
   "source": [
    "# ayuda en la funcion uniform de la libreria numpy.random\n",
    "help(np.random.rand)"
   ]
  },
  {
   "cell_type": "code",
   "execution_count": 8,
   "metadata": {},
   "outputs": [
    {
     "data": {
      "text/plain": [
       "0.33337389961683245"
      ]
     },
     "execution_count": 8,
     "metadata": {},
     "output_type": "execute_result"
    }
   ],
   "source": [
    "# Número de puntos par aproximar\n",
    "N=10000000\n",
    "# Secuencia de N números aleatorios entre 0 y 1\n",
    "u= np.random.rand(N)\n",
    "# Aproximación del área\n",
    "AD_approx=np.mean(u**2)\n",
    "AD_approx"
   ]
  },
  {
   "cell_type": "markdown",
   "metadata": {},
   "source": [
    "En este caso, la integral se puede hacer fácilmente. Comparemos el resultado con el valor real:\n",
    "\n",
    "$$A(\\mathcal{D})=\\int_{0}^{1}x^2\\text{d}x=\\left.\\frac{x^3}{3}\\right|_{x=0}^{x=1}=\\frac{1}{3}$$"
   ]
  },
  {
   "cell_type": "markdown",
   "metadata": {},
   "source": [
    "Hagamos una tabla viendo:\n",
    "- cantidad de terminos\n",
    "- valor de la aproximacion\n",
    "- error relativo"
   ]
  },
  {
   "cell_type": "code",
   "execution_count": 9,
   "metadata": {},
   "outputs": [],
   "source": [
    "# Importamos pandas\n",
    "import pandas as pd"
   ]
  },
  {
   "cell_type": "code",
   "execution_count": 10,
   "metadata": {},
   "outputs": [
    {
     "data": {
      "text/html": [
       "<div>\n",
       "<style scoped>\n",
       "    .dataframe tbody tr th:only-of-type {\n",
       "        vertical-align: middle;\n",
       "    }\n",
       "\n",
       "    .dataframe tbody tr th {\n",
       "        vertical-align: top;\n",
       "    }\n",
       "\n",
       "    .dataframe thead th {\n",
       "        text-align: right;\n",
       "    }\n",
       "</style>\n",
       "<table border=\"1\" class=\"dataframe\">\n",
       "  <thead>\n",
       "    <tr style=\"text-align: right;\">\n",
       "      <th></th>\n",
       "      <th>Aprox</th>\n",
       "      <th>Error</th>\n",
       "    </tr>\n",
       "  </thead>\n",
       "  <tbody>\n",
       "    <tr>\n",
       "      <th>10.0</th>\n",
       "      <td>0.166154</td>\n",
       "      <td>50.1539</td>\n",
       "    </tr>\n",
       "    <tr>\n",
       "      <th>100.0</th>\n",
       "      <td>0.3663</td>\n",
       "      <td>9.88988</td>\n",
       "    </tr>\n",
       "    <tr>\n",
       "      <th>1000.0</th>\n",
       "      <td>0.338344</td>\n",
       "      <td>1.50332</td>\n",
       "    </tr>\n",
       "    <tr>\n",
       "      <th>10000.0</th>\n",
       "      <td>0.33142</td>\n",
       "      <td>0.573866</td>\n",
       "    </tr>\n",
       "    <tr>\n",
       "      <th>100000.0</th>\n",
       "      <td>0.332921</td>\n",
       "      <td>0.123581</td>\n",
       "    </tr>\n",
       "    <tr>\n",
       "      <th>1000000.0</th>\n",
       "      <td>0.333772</td>\n",
       "      <td>0.131547</td>\n",
       "    </tr>\n",
       "    <tr>\n",
       "      <th>10000000.0</th>\n",
       "      <td>0.333464</td>\n",
       "      <td>0.0390701</td>\n",
       "    </tr>\n",
       "  </tbody>\n",
       "</table>\n",
       "</div>"
      ],
      "text/plain": [
       "               Aprox      Error\n",
       "10.0        0.166154    50.1539\n",
       "100.0         0.3663    9.88988\n",
       "1000.0      0.338344    1.50332\n",
       "10000.0      0.33142   0.573866\n",
       "100000.0    0.332921   0.123581\n",
       "1000000.0   0.333772   0.131547\n",
       "10000000.0  0.333464  0.0390701"
      ]
     },
     "execution_count": 10,
     "metadata": {},
     "output_type": "execute_result"
    }
   ],
   "source": [
    "# Valor exacto del area AD\n",
    "AD=1/3\n",
    "# Cantidades de términos 10, 100, ..., 10**7 (numpy.logspace)\n",
    "N=np.logspace(1,7,7)\n",
    "# Crear un DataFrame cuyo índice sea la cantidad de términos\n",
    "# y sus columnas sean el valor aproximado de la integral y\n",
    "# el error absoluto\n",
    "tabla= pd.DataFrame(index=N,columns=['Aprox','Error'])\n",
    "\n",
    "for n in N:\n",
    "    u=np.random.rand(n.astype(int))\n",
    "    tabla.loc[n,'Aprox']=np.mean(u**2)\n",
    "tabla['Error']=(np.abs(tabla['Aprox']-AD)/AD)*100\n",
    "tabla"
   ]
  },
  {
   "cell_type": "markdown",
   "metadata": {},
   "source": [
    "Ver que los resultados son distintos cada vez (¿porqué?). Sin embargo, se aproximan más o menos en la misma medida."
   ]
  },
  {
   "cell_type": "markdown",
   "metadata": {},
   "source": [
    "**Aproximación de integrales en intervalos distintos a $\\left[0,1\\right]$.**\n",
    "\n",
    "Sin embargo, no todas las integrales que hacemos son en el intervalo $\\left[0,1\\right]$. En general, podemos integrar cualquier función continua en el intervalo $\\left[a,b\\right]$, donde $a,b\\in\\mathbb{R}$ con $a<b$.\n",
    "\n",
    "Sea $f:\\left[a,b\\right]\\to\\mathbb{R}$ una función continua en el intervalo $\\left(a,b\\right)$ (por lo tanto es integrable endicho intervalo). Queremos resolver:\n",
    "\n",
    "$$\\int_{a}^{b}f(x)\\text{d}x.$$\n",
    "\n",
    "¿Cómo podemos usar la idea del valor promedio para resolver esto?"
   ]
  },
  {
   "cell_type": "markdown",
   "metadata": {},
   "source": [
    "El valor promedio de $f$ en $\\left[a,b\\right]$ es:\n",
    "\n",
    "$$\\frac{1}{b-a}\\int_{a}^{b}f(x)\\text{d}x.$$\n",
    "\n",
    "Este valor promedio puede aproximarse mediante el promedio de $N$ valores de la función en puntos aleatorios **uniformemente distribuidos** en el intervalo $\\left[a,b\\right]$. Es decir,\n",
    "\n",
    "$$\\frac{1}{b-a}\\int_{a}^{b}f(x)\\text{d}x\\approx \\frac{1}{N}\\sum_{i=1}^{N}f(u_i)$$,\n",
    "\n",
    "donde $u_i$ son realizaciones de la variable aleatoria $U\\sim\\mathcal{U}\\left[a,b\\right]$ ($U$ distribuye uniformemente en el intervalo $\\left[a,b\\right]$).\n",
    "\n",
    "Finalmente, la aproximación montecarlo tipo 1 con $N$ términos es \n",
    "\n",
    "$$\\int_{a}^{b}f(x)\\text{d}x\\approx \\frac{b-a}{N}\\sum_{i=1}^{N}f(u_i)$$,"
   ]
  },
  {
   "cell_type": "markdown",
   "metadata": {},
   "source": [
    "Escribamos una función que tenga como entradas:\n",
    "- la función a integrar $f$,\n",
    "- los límites de integración $a$ y $b$, y\n",
    "- el número de términos que se usará en la aproximación $N$,\n",
    "\n",
    "y que devuelva la aproximación montecarlo tipo 1 de la integral $\\int_{a}^{b}f(x)\\text{d}x$."
   ]
  },
  {
   "cell_type": "code",
   "execution_count": 11,
   "metadata": {},
   "outputs": [],
   "source": [
    "# Escribir la función acá\n",
    "def montecarlo1(f,a,b,N):\n",
    "    u=(b-a)*np.random.rand(N)+a\n",
    "    return (b-a)*np.mean(f(u))"
   ]
  },
  {
   "cell_type": "markdown",
   "metadata": {},
   "source": [
    "Con la anterior función realizaremos las siguientes integrales. Poner los resultados en una tabla cuyas filas correspondan a la cantidad de términos utilizados en la aproximación (usar 10, 100, 1000, 10000 y 100000 términos) y cuyas columnas correspondan a las funciones.\n",
    "- $\\int_{2}^{2.1} e^{x^2}\\text{d}x$.\n",
    "- $\\int_{2}^{2.1} \\frac{1}{log(x)}\\text{d}x$.\n",
    "- $\\int_{2}^{2.1} \\frac{sin(x)}{x}\\text{d}x$."
   ]
  },
  {
   "cell_type": "code",
   "execution_count": 12,
   "metadata": {},
   "outputs": [],
   "source": [
    "# Resolver\n",
    "# 1. Definir las funciones que vamos a integrar\n",
    "def f2(x):\n",
    "    return np.exp(x**2)\n",
    "def f3(x):\n",
    "    return 1/np.log(x)\n",
    "def f4(x):\n",
    "    return np.sin(x)/x\n",
    "\n",
    "# 2. Definimos los limites de integracion\n",
    "a , b = 2, 2.1\n",
    "# 3. Definimos cantidades de terminos\n",
    "N=np.logspace(1,5,5)"
   ]
  },
  {
   "cell_type": "code",
   "execution_count": 13,
   "metadata": {},
   "outputs": [
    {
     "data": {
      "text/html": [
       "<div>\n",
       "<style scoped>\n",
       "    .dataframe tbody tr th:only-of-type {\n",
       "        vertical-align: middle;\n",
       "    }\n",
       "\n",
       "    .dataframe tbody tr th {\n",
       "        vertical-align: top;\n",
       "    }\n",
       "\n",
       "    .dataframe thead th {\n",
       "        text-align: right;\n",
       "    }\n",
       "</style>\n",
       "<table border=\"1\" class=\"dataframe\">\n",
       "  <thead>\n",
       "    <tr style=\"text-align: right;\">\n",
       "      <th></th>\n",
       "      <th>Aproxf2</th>\n",
       "      <th>Aproxf3</th>\n",
       "      <th>Aproxf4</th>\n",
       "    </tr>\n",
       "  </thead>\n",
       "  <tbody>\n",
       "    <tr>\n",
       "      <th>10.0</th>\n",
       "      <td>6.62368</td>\n",
       "      <td>0.139245</td>\n",
       "      <td>0.0429729</td>\n",
       "    </tr>\n",
       "    <tr>\n",
       "      <th>100.0</th>\n",
       "      <td>6.88543</td>\n",
       "      <td>0.13908</td>\n",
       "      <td>0.0433814</td>\n",
       "    </tr>\n",
       "    <tr>\n",
       "      <th>1000.0</th>\n",
       "      <td>6.70887</td>\n",
       "      <td>0.139384</td>\n",
       "      <td>0.0432887</td>\n",
       "    </tr>\n",
       "    <tr>\n",
       "      <th>10000.0</th>\n",
       "      <td>6.73394</td>\n",
       "      <td>0.139428</td>\n",
       "      <td>0.0432896</td>\n",
       "    </tr>\n",
       "    <tr>\n",
       "      <th>100000.0</th>\n",
       "      <td>6.73665</td>\n",
       "      <td>0.139372</td>\n",
       "      <td>0.0432897</td>\n",
       "    </tr>\n",
       "  </tbody>\n",
       "</table>\n",
       "</div>"
      ],
      "text/plain": [
       "          Aproxf2   Aproxf3    Aproxf4\n",
       "10.0      6.62368  0.139245  0.0429729\n",
       "100.0     6.88543   0.13908  0.0433814\n",
       "1000.0    6.70887  0.139384  0.0432887\n",
       "10000.0   6.73394  0.139428  0.0432896\n",
       "100000.0  6.73665  0.139372  0.0432897"
      ]
     },
     "execution_count": 13,
     "metadata": {},
     "output_type": "execute_result"
    }
   ],
   "source": [
    "tabla= pd.DataFrame(index=N,columns=['Aproxf2','Aproxf3','Aproxf4'])\n",
    "\n",
    "for n in N:\n",
    "    tabla.loc[n,'Aproxf2']=montecarlo1(f2,a,b,n.astype(int))\n",
    "    tabla.loc[n,'Aproxf3']=montecarlo1(f3,a,b,n.astype(int))\n",
    "    tabla.loc[n,'Aproxf4']=montecarlo1(f4,a,b,n.astype(int))\n",
    "tabla"
   ]
  },
  {
   "cell_type": "markdown",
   "metadata": {},
   "source": [
    "___\n",
    "## Integración Montecarlo tipo 2\n",
    "Con la integración montecarlo tipo 1 pudimos aproximar integrales de funciones continuas de una variable en un intervalo dado. En realidad este mismo análisis se puede ampliar para aproximar integrales definidas de funciones continuas de varias variables (integrales sobre áreas, volúmenes e hipervolúmenes) dado que la noción de valor promedio de una función se extiende a cualquier dimensión.\n",
    "\n",
    "**Este es en realidad el caso interesante, pues las integrales de funciones complicadas también se pueden aproximar por métodos numéricos clásicos, pero cuando la dimensión aumenta es cuando montecarlo se vuelve una herramienta relevante. Dado que no lo veremos en clase por la limitación de que la mayoría no han visto cálculo en varias variables, este tema puede ser elegido como proyecto de módulo, donde se exploraría también como mejorar la aproximación de integrales montecarlo.**\n",
    "\n",
    "Como vimos en el ejemplo (y como debe ser claro de su curso de cálculo integral) una de las aplicaciones más importantes de la integración es hallar áreas. Y no solo el área bajo una curva, sino áreas entre curvas y áreas de regiones más complicadas."
   ]
  },
  {
   "cell_type": "markdown",
   "metadata": {},
   "source": [
    "Antes de ver la integración montecarlo tipo 2, ¿cómo podemos usar la integración montecarlo tipo 1 para aproximar el área entre curvas?\n",
    "\n",
    "**Ejemplo.** Aproxime el área entre las curvas $y=x$, y $y=x^2$ en el intervalo $\\left[0,1\\right]$.\n",
    "\n",
    "Veamos primero cómo luce dicha área."
   ]
  },
  {
   "cell_type": "code",
   "execution_count": 14,
   "metadata": {},
   "outputs": [
    {
     "data": {
      "image/png": "[encoded data removed]",
      "text/plain": [
       "<Figure size 432x288 with 1 Axes>"
      ]
     },
     "metadata": {
      "needs_background": "light"
     },
     "output_type": "display_data"
    }
   ],
   "source": [
    "x=np.linspace(-0.5,1.5)\n",
    "y=x**2\n",
    "\n",
    "plt.plot(x,y,'k--')\n",
    "plt.plot(x,x,'k-.')\n",
    "plt.fill_between(x,x,y)\n",
    "plt.text(0.5,0.4,'$D$',fontsize=20)\n",
    "plt.show()"
   ]
  },
  {
   "cell_type": "markdown",
   "metadata": {},
   "source": [
    "De cálculo integral, sabemos que\n",
    "\n",
    "$$A(\\mathcal{D})=\\int_{0}^{1}(x-x^2)\\text{d}x.$$\n",
    "\n",
    "Entonces..."
   ]
  },
  {
   "cell_type": "code",
   "execution_count": 15,
   "metadata": {},
   "outputs": [
    {
     "data": {
      "text/plain": [
       "0.1667120724887201"
      ]
     },
     "execution_count": 15,
     "metadata": {},
     "output_type": "execute_result"
    }
   ],
   "source": [
    "# Usar la funcion montecarlo1\n",
    "def f5(x):\n",
    "    return x-x**2\n",
    "montecarlo1(f5,0,1,10**6)"
   ]
  },
  {
   "cell_type": "markdown",
   "metadata": {},
   "source": [
    "De modo que si la región se puede describir fácilmente, entonces podemos aproximar la integral sin problema."
   ]
  },
  {
   "cell_type": "markdown",
   "metadata": {},
   "source": [
    "Pero, ¿qué pasa si la geometría de la región no se puede describir fácilmente?"
   ]
  },
  {
   "cell_type": "markdown",
   "metadata": {},
   "source": [
    "Como en el caso anterior, motivaremos el método con un caso conocido. Recordemos el caso de aproximar el valor de $\\pi$ usando el área de un círculo unitario.\n",
    "\n",
    "Dibujemos el círculo unitario en la región $\\mathcal{R}=\\left[-1,1\\right]\\times\\left[-1,1\\right]$."
   ]
  },
  {
   "cell_type": "markdown",
   "metadata": {},
   "source": [
    "Si aproximamos $A(\\mathcal{D})$ aproximamos el valor de $\\pi$, pues el área del círculo unitario es:\n",
    "\n",
    "$$A(\\mathcal{D})=\\pi(1)^2=\\pi.$$\n",
    "\n",
    "Por otra parte es claro que el área de la región $\\mathcal{R}=\\left[-1,1\\right]\\times\\left[-1,1\\right]$ es\n",
    "\n",
    "$$A(\\mathcal{R})=4.$$"
   ]
  },
  {
   "cell_type": "markdown",
   "metadata": {},
   "source": [
    " Supongamos que escogemos un punto aleatorio en la región $\\mathcal{R}=\\left[-1,1\\right]\\times\\left[-1,1\\right]$. Describimos este punto como $(X,Y)$ para $X$ e $Y$ variables aleatorias uniformes sobre el intervalo $\\left[-1,1\\right]$."
   ]
  },
  {
   "cell_type": "markdown",
   "metadata": {},
   "source": [
    "La probabilidad de que el punto $(X,Y)$ esté en el círculo unitario $\\mathcal{D}$ es\n",
    "\n",
    "$$P((X,Y)\\in\\mathcal{D})=\\frac{A(\\mathcal{D})}{A(\\mathcal{R})}=\\frac{\\pi}{4}.$$"
   ]
  },
  {
   "cell_type": "markdown",
   "metadata": {},
   "source": [
    "Luego, definimos una variable aleatoria de Bernoulli $B$ de manera que\n",
    "\n",
    "$$B=\\left\\lbrace\\begin{array}{ccc}0 & \\text{si} & (X,Y)\\notin\\mathcal{D}\\\\1 & \\text{si} & (X,Y)\\in\\mathcal{D} \\end{array}\\right.=\\left\\lbrace\\begin{array}{ccc}0 & \\text{si} & X^2+Y^2>1\\\\1 & \\text{si} & X^2+Y^2\\leq 1 \\end{array}\\right..$$\n",
    "\n",
    "Entonces, el valor esperado de la variable aleatoria $B$ es\n",
    "\n",
    "$$E\\left[B\\right]=\\theta=P((X,Y)\\in\\mathcal{D})=\\frac{A(\\mathcal{D})}{A(\\mathcal{R})}.$$"
   ]
  },
  {
   "cell_type": "markdown",
   "metadata": {},
   "source": [
    "De lo anterior, una estimación de theta se puede obtener como\n",
    "\n",
    "$$\\theta=\\frac{A(\\mathcal{D})}{A(\\mathcal{R})}\\approx \\frac{1}{N}\\sum_{i=1}^{N}b_i,$$\n",
    "\n",
    "donde \n",
    "\n",
    "$$b_i=\\left\\lbrace\\begin{array}{ccc}0 & \\text{si} & x_i^2+y_i^2>1\\\\1 & \\text{si} & x_i^2+y_i^2\\leq 1 \\end{array}\\right.$$\n",
    "\n",
    "son realizaciones de la variable aleatoria $B$, que a su vez es producto de las realizaciones $x_i$ e $y_i$ de las variables aleatorias $X$ e $Y$, respectivamente."
   ]
  },
  {
   "cell_type": "markdown",
   "metadata": {},
   "source": [
    "Finalmente, la aproximación montecarlo tipo 2 con $N$ términos es \n",
    "\n",
    "$$A(\\mathcal{D})\\approx \\frac{A(\\mathcal{R})}{N}\\sum_{i=1}^{N}b_i.$$"
   ]
  },
  {
   "cell_type": "markdown",
   "metadata": {},
   "source": [
    "Escribamos una función que tenga como entradas:\n",
    "- la función que describe la region $region$,\n",
    "- los límites de la region $a_1$, $b_1$, $a_2$ y $b_2$, con $R=\\left[a_1,b_1\\right]\\times\\left[a_2,b_2\\right]$ y\n",
    "- el número de términos que se usará en la aproximación $N$,\n",
    "\n",
    "y que devuelva la aproximación montecarlo tipo 2 del area de la region."
   ]
  },
  {
   "cell_type": "code",
   "execution_count": 16,
   "metadata": {},
   "outputs": [],
   "source": [
    "# Escribir la función acá\n",
    "def montecarlo2(R,a1,b1,a2,b2,N):\n",
    "    A_R=(b1-a1)*(b2-a2)\n",
    "    x= np.random.uniform(a1,b1, N.astype(int))\n",
    "    y= np.random.uniform(a2,b2, N.astype(int))\n",
    "    return A_R*np.sum(R(x,y))/N\n"
   ]
  },
  {
   "cell_type": "markdown",
   "metadata": {},
   "source": [
    "**Actividad.** Utilizar la anterior función para aproximar el área de la región descrita por\n",
    "\n",
    "$$4(2x-1)^4+8(2y-1)^8<1+2(2y-1)^3(3x-2)^2$$\n",
    "\n",
    "Poner los resultados en una tabla cuyas filas correspondan a la cantidad de términos utilizados en la aproximación (usar 10, 100, 1000, 10000 y 100000 términos)."
   ]
  },
  {
   "cell_type": "code",
   "execution_count": 17,
   "metadata": {},
   "outputs": [],
   "source": [
    "N= 100\n",
    "x=np.linspace(0,1,N)\n",
    "y=np.linspace(0,1,N)"
   ]
  },
  {
   "cell_type": "code",
   "execution_count": 18,
   "metadata": {},
   "outputs": [],
   "source": [
    "def R1(x,y):\n",
    "    return 4*(2*x-1)**4+8*(2*y-1)**8<1 + 2*(2*y-1)**3*(3*x-2)**2\n"
   ]
  },
  {
   "cell_type": "code",
   "execution_count": 19,
   "metadata": {},
   "outputs": [
    {
     "data": {
      "image/png": "[encoded data removed]",
      "text/plain": [
       "<Figure size 360x360 with 1 Axes>"
      ]
     },
     "metadata": {
      "needs_background": "light"
     },
     "output_type": "display_data"
    }
   ],
   "source": [
    "X , Y= np.meshgrid(x,y)\n",
    "plt.figure(figsize=(5,5))\n",
    "plt.scatter(X,Y,c=~R1(X,Y),cmap='bone')\n",
    "plt.show()"
   ]
  },
  {
   "cell_type": "code",
   "execution_count": 20,
   "metadata": {},
   "outputs": [
    {
     "data": {
      "text/html": [
       "<div>\n",
       "<style scoped>\n",
       "    .dataframe tbody tr th:only-of-type {\n",
       "        vertical-align: middle;\n",
       "    }\n",
       "\n",
       "    .dataframe tbody tr th {\n",
       "        vertical-align: top;\n",
       "    }\n",
       "\n",
       "    .dataframe thead th {\n",
       "        text-align: right;\n",
       "    }\n",
       "</style>\n",
       "<table border=\"1\" class=\"dataframe\">\n",
       "  <thead>\n",
       "    <tr style=\"text-align: right;\">\n",
       "      <th></th>\n",
       "      <th>Approx</th>\n",
       "    </tr>\n",
       "  </thead>\n",
       "  <tbody>\n",
       "    <tr>\n",
       "      <th>10.0</th>\n",
       "      <td>0.4</td>\n",
       "    </tr>\n",
       "    <tr>\n",
       "      <th>100.0</th>\n",
       "      <td>0.54</td>\n",
       "    </tr>\n",
       "    <tr>\n",
       "      <th>1000.0</th>\n",
       "      <td>0.535</td>\n",
       "    </tr>\n",
       "    <tr>\n",
       "      <th>10000.0</th>\n",
       "      <td>0.5412</td>\n",
       "    </tr>\n",
       "    <tr>\n",
       "      <th>100000.0</th>\n",
       "      <td>0.54896</td>\n",
       "    </tr>\n",
       "  </tbody>\n",
       "</table>\n",
       "</div>"
      ],
      "text/plain": [
       "           Approx\n",
       "10.0          0.4\n",
       "100.0        0.54\n",
       "1000.0      0.535\n",
       "10000.0    0.5412\n",
       "100000.0  0.54896"
      ]
     },
     "execution_count": 20,
     "metadata": {},
     "output_type": "execute_result"
    }
   ],
   "source": [
    "# Resolver\n",
    "a1,a2,b1,b2=0,0,1,1\n",
    "N=np.logspace(1,5,5)\n",
    "\n",
    "df= pd.DataFrame(index=N,columns=['Approx'])\n",
    "\n",
    "for n in N:\n",
    "    df.loc[n,'Approx'] = montecarlo2(R1,a1,b1,a2,b2,n)\n",
    "df"
   ]
  },
  {
   "cell_type": "markdown",
   "metadata": {},
   "source": [
    "___\n",
    "## Error de aproximación de integrales por montecarlo\n",
    "Ver [documento mit](https://ocw.mit.edu/courses/mechanical-engineering/2-086-numerical-computation-for-mechanical-engineers-fall-2014/nutshells-guis/MIT2_086F14_Monte_Carlo.pdf), página 5."
   ]
  },
  {
   "cell_type": "markdown",
   "metadata": {},
   "source": [
    "# Actividad 6\n",
    "\n",
    "Realizar las siguientes integrales. Poner los resultados en una tabla cuyas filas correspondan a la cantidad de términos utilizados en la aproximación (usar 10, 100, 1000, 10000 y 100000 términos) y cuyas columnas correspondan a las funciones.\n",
    "- $\\int_{0}^{1} e^{x}log(x)\\text{d}x$.\n",
    "- $\\int_{0}^{1} {sin(x^2+2x+1)}\\text{d}x$."
   ]
  },
  {
   "cell_type": "code",
   "execution_count": null,
   "metadata": {},
   "outputs": [],
   "source": []
  }
 ],
 "metadata": {
  "kernelspec": {
   "display_name": "Python 3",
   "language": "python",
   "name": "python3"
  },
  "language_info": {
   "codemirror_mode": {
    "name": "ipython",
    "version": 3
   },
   "file_extension": ".py",
   "mimetype": "text/x-python",
   "name": "python",
   "nbconvert_exporter": "python",
   "pygments_lexer": "ipython3",
   "version": "3.7.0"
  }
 },
 "nbformat": 4,
 "nbformat_minor": 2
}
