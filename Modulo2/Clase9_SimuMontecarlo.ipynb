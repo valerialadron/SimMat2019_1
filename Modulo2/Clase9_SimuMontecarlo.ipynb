{
 "cells": [
  {
   "cell_type": "markdown",
   "metadata": {},
   "source": [
    "# Simulación Montecarlo\n",
    "> El método de Montecarlo es un método no determinista o estadístico numérico, usado para aproximar expresiones matemáticas complejas y costosas de evaluar con exactitud. El método se llamó así en referencia al Casino de Montecarlo (Mónaco) por ser “la capital del juego de azar”, al ser la ruleta un generador simple de números aleatorios. El nombre y el desarrollo sistemático de los métodos de Montecarlo datan aproximadamente de 1944 y se mejoraron enormemente con el desarrollo de la computadora.\n",
    "\n",
    "Referencia:\n",
    "- https://es.wikipedia.org/wiki/M%C3%A9todo_de_Montecarlo"
   ]
  },
  {
   "cell_type": "markdown",
   "metadata": {},
   "source": [
    "___\n",
    "## 1. Introducción\n",
    "\n",
    "- Inventado por Stanislaw Ulam y a John von Neumann. Ulam ha explicado cómo se le ocurrió la idea mientras jugaba un solitario durante una enfermedad en 1946. \n",
    "- Advirtió que resulta mucho más simple tener una idea del resultado general del solitario haciendo pruebas múltiples con las cartas y contando las proporciones de los resultados que computar todas las posibilidades de combinación formalmente.\n",
    "- Se le ocurrió que esta misma observación debía aplicarse a su trabajo de Los Álamos sobre difusión de neutrones, para la cual resulta prácticamente imposible solucionar las ecuaciones íntegro-diferenciales que gobiernan la dispersión, la absorción y la fisión.\n",
    "- Dado que ya  empezaban a estar disponibles máquinas de computación para efectuar las pruebas numéricas, el método cobró  mucha fuerza.\n",
    "- El método de Montecarlo proporciona soluciones aproximadas a una gran variedad de problemas matemáticos posibilitando la realización de experimentos con muestreos de números pseudoaleatorios en una computadora. El método es aplicable a cualquier tipo de problema, ya sea estocástico o determinista. \n",
    "- El método de Montecarlo tiene un error absoluto de la estimación que decrece como $\\frac{1}{\\sqrt{N}}$ en virtud del teorema del límite central.\n",
    "\n",
    "### Ejemplo\n",
    "Todos alguna vez hemos aplicado el método Montecarlo (inconscientemente). Como ejemplo, consideremos el juego de Astucia Naval.\n",
    "\n",
    "Normalmente, primero se realizan una serie de tiros a puntos aleatorios. Una vez se impacta en un barco, se puede utilizar un algoritmo determinista para identificar la posición del barco y así terminar de derrumbarlo.\n",
    "\n",
    "<img src=\"https://upload.wikimedia.org/wikipedia/commons/5/54/Monte_carlo_method.svg\" width=\"300px\" height=\"100px\" />\n",
    "\n"
   ]
  },
  {
   "cell_type": "code",
   "execution_count": 61,
   "metadata": {},
   "outputs": [],
   "source": [
    "# Importar librerías\n",
    "\n",
    "#Calculo de pi\n",
    "\n"
   ]
  },
  {
   "cell_type": "markdown",
   "metadata": {},
   "source": [
    "___\n",
    "## 2. Caminata aleatoria\n",
    "<img style=\"float: right; margin: 0px 0px 15px 15px;\" src=\"https://upload.wikimedia.org/wikipedia/commons/d/da/Random_Walk_example.svg\" width=\"300px\" height=\"100px\" />\n",
    "\n",
    "Una caminata aleatoria (*random walk* en inglés) es ua formalización matemática de la trayectoria que resulta al hacer pasos sucesivos aleatorios. Un ejemplo elemental de caminata aleatoria es la caminata aleatoria en la línea de números enteros $\\mathbb{Z}$, la cual comienza en $0$ y en cada paso se mueve $+1$ o $-1$ con igual probabilidad.\n",
    "\n",
    "Otros ejemplos:\n",
    "- Trayectoria de una molécula al viajar en un fluido (líquido o gas).\n",
    "- El camino que sigue un animal en su búsqueda de comida.\n",
    "- El precio fluctuante de una acción.\n",
    "- La situación de un apostador en un juego de azar.\n",
    "\n",
    "Todos pueden ser aproximados por caminatas aleatorias, aunque no sean en verdad procesos aleatorios."
   ]
  },
  {
   "cell_type": "markdown",
   "metadata": {},
   "source": [
    "### Caminata aleatoria en una dimensión\n",
    "Como dijimos, un ejemplo elemental de caminata aleatoria es la caminata aleatoria en la línea de números enteros $\\mathbb{Z}$, la cual comienza en $0$ y a cada paso se mueve $+1$ o $-1$ con igual probabilidad.\n",
    "\n",
    "Esta caminata se puede ilustrar como sigue:\n",
    "- Se posiciona en $0$ en la línea de números enteros y una moneda justa se tira.\n",
    "- Si cae en **sol** nos moveremos una unidad a la derecha.\n",
    "- Si cae en **águila** nos moveremos una unidad a la izquierda.\n",
    "\n",
    "Notemos que después de $5$ pasos podremos estar en 1, −1, 3, −3, 5, or −5. Las posibilidades son las siguientes:\n",
    "\n",
    "<img style=\"float: center; margin: 0px 0px 15px 15px;\" src=\"https://upload.wikimedia.org/wikipedia/commons/0/05/Flips.svg\" width=\"900px\" height=\"300px\" />\n",
    "\n",
    "\n",
    "Referencia:\n",
    "- https://en.wikipedia.org/wiki/Random_walk\n",
    "\n",
    "**Importante:** librería random.\n",
    "\n",
    "Referencia:\n",
    "- https://docs.python.org/3/library/random.html"
   ]
  },
  {
   "cell_type": "code",
   "execution_count": 62,
   "metadata": {},
   "outputs": [],
   "source": [
    "# Importar librería random\n",
    "import random"
   ]
  },
  {
   "cell_type": "code",
   "execution_count": 63,
   "metadata": {},
   "outputs": [
    {
     "name": "stdout",
     "output_type": "stream",
     "text": [
      "Help on method choice in module random:\n",
      "\n",
      "choice(seq) method of random.Random instance\n",
      "    Choose a random element from a non-empty sequence.\n",
      "\n"
     ]
    }
   ],
   "source": [
    "help(random.choice)"
   ]
  },
  {
   "cell_type": "code",
   "execution_count": 64,
   "metadata": {},
   "outputs": [],
   "source": [
    "# Escribir una función que genere el resultado \n",
    "# de una caminata aleatoria de N pasos\n"
   ]
  },
  {
   "cell_type": "markdown",
   "metadata": {},
   "source": [
    "**Actividad.** Graficar, en una misma ventana de gráficos, al menos ocho caminatas aleatorias de 100 pasos."
   ]
  },
  {
   "cell_type": "code",
   "execution_count": 65,
   "metadata": {},
   "outputs": [],
   "source": [
    "# Solucionar acá\n",
    "# Número de pasos N\n",
    "\n",
    "# Ventana para graficar\n",
    "\n",
    "# Generar y graficar las caminatas de N pasos\n",
    "\n",
    "# Demás elementos del gráfico\n"
   ]
  },
  {
   "cell_type": "markdown",
   "metadata": {},
   "source": [
    "### Usamos montecarlo para evaluar el resultado de la caminata aleatoria\n",
    "\n",
    "- Describir, de nuevo, el proceso de la caminata aleatoria en el pizarrón y ver el valor esperado de la caminata después de N pasos.\n",
    "\n",
    "- Luego, evaluar el proceso utilizando montecarlo y comparar resultados."
   ]
  },
  {
   "cell_type": "code",
   "execution_count": 66,
   "metadata": {},
   "outputs": [],
   "source": [
    "# Número de pasos\n",
    "\n",
    "# Número de caminatas aleatorias\n",
    "\n",
    "# Inicializar lista con último valor de la\n",
    "# caminata aleatoria\n",
    "\n",
    "# Realizar varias caminatas aleatorias y guardar\n",
    "# último valor\n",
    "\n",
    "# Media del último valor\n"
   ]
  },
  {
   "cell_type": "markdown",
   "metadata": {},
   "source": [
    "## Ejemplo\n",
    "\n",
    "Ahora, para comprender el alcance de la simulación Montecarlo, tomaremos el ejemplo de un apostador básico.\n",
    "\n",
    "Referencia:\n",
    "- https://pythonprogramming.net/monte-carlo-simulator-python/\n",
    "\n",
    "Supongamos que estamos en un casino especial, donde el usuario puede tirar un *dado metafórico* que puede dar como resultado del número uno (1) al número cien (100).\n",
    "\n",
    "Si el usuario tira cualquier número entre 1 y 50, el casino gana. Si el usuario tira cualquier número entre 51 y 99, el usuario gana. Si el usuario tira 100, pierde.\n",
    "\n",
    "Con esto, el casino mantiene un margen del 1%, el cual es mucho más pequeño que el margen típico en casinos, al igual que el margen de mercado cuando se incorporan costos por transacción.\n",
    "\n",
    "Por ejemplo, [Scottrade](https://www.scottrade.com/) cobra $\\$7$ USD por transacción. Si se invierten $\\$1000$ USD por acción, esto significa que tienes que pagar $\\$7$ USD para entrar, y $\\$7$ USD para salir, para un total de $\\$14$ USD.\n",
    "\n",
    "Esto pone el margen en 1.4\\%. Esto significa, que a largo plazo, las ganancias tienen que ser mayores a 1.4\\% en promedio, de otra manera se estará perdiendo dinero. Aunque este porcentaje es pequeño, las probabilidades ya están en contra. La comercialización de acciones es un juego 50/50, especialmente en el corto plazo.\n",
    "\n",
    "De nuevo, con nuestro ejemplo en mente, 1-50, la casa gana. 51-99 el usuario gana. Un 100 significa que la casa gana.\n",
    "\n",
    "Ahora, comencemos. Primero tenemos que crear nuestro dado."
   ]
  },
  {
   "cell_type": "code",
   "execution_count": 67,
   "metadata": {},
   "outputs": [],
   "source": [
    "# Explorar función randint de la librería random y \n",
    "# crear una función que simule la tirada de un dado\n"
   ]
  },
  {
   "cell_type": "code",
   "execution_count": 68,
   "metadata": {},
   "outputs": [],
   "source": [
    "# Tirar el dado 100 veces para comprobar que nuestra \n",
    "# función si trabaja correctamente (print)\n"
   ]
  },
  {
   "cell_type": "markdown",
   "metadata": {},
   "source": [
    "Sin embargo, el dado por si solo no nos es útil. Necesitamos una función que nos devuelva sólamente si ganamos o perdemos."
   ]
  },
  {
   "cell_type": "code",
   "execution_count": 69,
   "metadata": {},
   "outputs": [],
   "source": [
    "# Cambiar/usar la anterior función para obtener una \n",
    "# que devuelva simplemente ganar(true) o perder(false)\n"
   ]
  },
  {
   "cell_type": "code",
   "execution_count": 70,
   "metadata": {},
   "outputs": [],
   "source": [
    "# Probar la función creada para ver que funcione.\n",
    "# Crear contadores para ver la cantidad de veces que \n",
    "# ganamos y la cantidad de veces que perdemos\n"
   ]
  },
  {
   "cell_type": "markdown",
   "metadata": {},
   "source": [
    "Ahora, necesitamos crear un apostador. Empezaremos con uno extremadamente básico por ahora. Veremos, que aún con un apostador muy básico, veremos cosas muy reveladoras usando un simulador montecarlo."
   ]
  },
  {
   "cell_type": "code",
   "execution_count": null,
   "metadata": {},
   "outputs": [],
   "source": [
    "# Crearemos un apostador simple. Las caracterísitcas son:\n",
    "# se empieza con un capital inicial, \n",
    "# siempre se apuesta lo mismo,\n",
    "# y se va a apostar un número determinado de veces.\n",
    "# Si se gana, se añade la apuesta al capital,\n",
    "# si se pierde, se descuenta la apuesta del capital.\n",
    "# La función debe devolver un arreglo con el capital\n",
    "# al final de cada apuesta.\n"
   ]
  },
  {
   "cell_type": "code",
   "execution_count": null,
   "metadata": {},
   "outputs": [],
   "source": [
    "# Ver como evolucionan los fondos de nuestro apostador \n",
    "# al jugar 100 veces, con un capital inicial de 10000 pesos\n",
    "# y con un monto de apuesta de 100 pesos.\n"
   ]
  },
  {
   "cell_type": "markdown",
   "metadata": {},
   "source": [
    "En realidad no nos importa tanto como evolucionan estos fondos. Nos importa más cuáles son los fondos al final (al largo plazo). Modificar la función anterior para ver esto."
   ]
  },
  {
   "cell_type": "code",
   "execution_count": null,
   "metadata": {},
   "outputs": [],
   "source": [
    "# Función de apostador que devuelve los fondos\n",
    "# al final de apostar una cantidad determinadad de veces\n"
   ]
  },
  {
   "cell_type": "code",
   "execution_count": null,
   "metadata": {},
   "outputs": [],
   "source": [
    "# (Montecarlo) Simular varios (100) escenarios \n",
    "# en que se apuestan 50, 100, 1000 y 10000 veces. ¿Qué pasa?\n"
   ]
  },
  {
   "cell_type": "markdown",
   "metadata": {},
   "source": [
    "Vemos que al largo plazo la mayoría de los apostadores quebraron. Sin embargo, esta forma de visualizar los resultados no es adecuada. Utilicemos matplotlib."
   ]
  },
  {
   "cell_type": "code",
   "execution_count": null,
   "metadata": {},
   "outputs": [],
   "source": [
    "# Modificar la función para que no devuelva los fondos al \n",
    "# final, sino que grafique los fondos a través del tiempo\n"
   ]
  },
  {
   "cell_type": "code",
   "execution_count": null,
   "metadata": {},
   "outputs": [],
   "source": [
    "# (Montecarlo) Simular varios (100) escenarios \n",
    "# en que se apuestan 50, 100, 1000 y 10000 veces. ¿Qué pasa?\n"
   ]
  },
  {
   "cell_type": "markdown",
   "metadata": {},
   "source": [
    "Por esto los apostadores pierden. Normalmente las probabilidades no están evidentemente muy en contra de ellos, solo un poco. Los casinos únicamente entienden psicología básica: ganar es extremadamente adictivo. Por ello, los casino se construyen para mantenerte jugando.\n",
    "\n",
    "En el corto plazo, la mayoría de los jugadores no se dan cuenta que son más propensos a perder. Las veces que ganan y pierden son muy parejas. Estadísticamente, casi la mitad de las personas terminarán con ganancias después de jugar unas pocas veces. El problema es la adicción, y que ellos continuarán apostando, y por ende perdiendo sus ganancias. Es matemática extremadamente básica, pero la psicología humana es débil."
   ]
  }
 ],
 "metadata": {
  "kernelspec": {
   "display_name": "Python 3",
   "language": "python",
   "name": "python3"
  },
  "language_info": {
   "codemirror_mode": {
    "name": "ipython",
    "version": 3
   },
   "file_extension": ".py",
   "mimetype": "text/x-python",
   "name": "python",
   "nbconvert_exporter": "python",
   "pygments_lexer": "ipython3",
   "version": "3.7.0"
  }
 },
 "nbformat": 4,
 "nbformat_minor": 2
}
