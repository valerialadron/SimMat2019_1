{
 "cells": [
  {
   "cell_type": "markdown",
   "metadata": {},
   "source": [
    "# ¿Cómo crece una población? \n",
    "\n",
    "## Antes de empezar: llenar la encuesta del Instrumento de Apreciación Estudiantil.\n",
    "\n"
   ]
  },
  {
   "cell_type": "markdown",
   "metadata": {},
   "source": [
    "> El modelo más simple de crecimiento poblacional de organismos es $$\\frac{dx}{dt}=rx,$$ donde $x(t)$ es la población en el tiempo $t$ y $r>0$ es la tasa de crecimiento.\n",
    "\n",
    "> Este modelo predice crecimiento exponencial $x(t)=x_0e^{rt}$ (solución de la ecuación diferencial) donde $x_0=x(0)$ es la población inicial. ¿Es esto válido?\n",
    "- Recordar que $\\lim_{t\\to\\infty}x(t)=x_0\\lim_{t\\to\\infty}e^{rt}=\\infty$.\n",
    "- Este modelo no tiene en cuenta entonces sobrepoblación ni recursos limitados.\n",
    "\n",
    "> En realidad la tasa de crecimiento no es una constante, sino que depende de la población $\\frac{dx}{dt}=\\mu(x)x$. Cuando $x$ es pequeña $\\mu(x)\\approx r$, como antes, pero cuando $x>1$ (población normalizada) $\\mu(x)<0$: la tasa de muerte es mayor a la tasa de nacimiento. Una forma matemática conveniente de modelar lo anterior es con una tasa de crecimiento $\\mu(x)$ decreciendo linealmente con $x$.\n",
    "\n",
    "Referencia:\n",
    "- Strogatz, Steven. *NONLINEAR DYNAMICS AND CHAOS*, ISBN: 9780813349107, (eBook disponible en biblioteca)."
   ]
  },
  {
   "cell_type": "markdown",
   "metadata": {},
   "source": [
    "## Ecuación Logística\n",
    "Primero, veamos como luce $\\mu(x)$ con decrecimiento lineal respecto a la población x.\n",
    "\n",
    "Como queremos que $\\mu(0)=r$ y $\\mu(1)=0$, la línea recta que conecta estos puntos es... (graficar)"
   ]
  },
  {
   "cell_type": "code",
   "execution_count": null,
   "metadata": {},
   "outputs": [],
   "source": [
    "# Importar librerías\n",
    "import matplotlib.pyplot as plt\n",
    "%matplotlib inline\n",
    "import numpy as np"
   ]
  },
  {
   "cell_type": "code",
   "execution_count": null,
   "metadata": {},
   "outputs": [],
   "source": [
    "# Definir función mu(x)\n"
   ]
  },
  {
   "cell_type": "code",
   "execution_count": null,
   "metadata": {},
   "outputs": [],
   "source": [
    "# Graficar\n"
   ]
  },
  {
   "cell_type": "markdown",
   "metadata": {},
   "source": [
    "___\n",
    "Entonces, con esta elección de $\\mu(x)=r(1-x)$, obtenemos la llamada **ecuación lógistica**, publicada por Pierre Verhulst en 1838.\n",
    "\n",
    "$$\\frac{dx}{dt} = r\\; x\\; (1- x)$$"
   ]
  },
  {
   "cell_type": "markdown",
   "metadata": {},
   "source": [
    "** Solución a la ecuación diferencial ** \n",
    "\n",
    "La ecuación diferencial inicial tiene *solución analítica*, \n",
    "$$ x(t) = \\frac{1}{1+ (\\frac{1}{x_{0}}- 1) e^{-rt}}.$$"
   ]
  },
  {
   "cell_type": "markdown",
   "metadata": {},
   "source": [
    "Graficamos varias curvas de la solución analítica para $r = \\left[-1, 1\\right]$."
   ]
  },
  {
   "cell_type": "code",
   "execution_count": null,
   "metadata": {},
   "outputs": [],
   "source": [
    "# Definir la solución analítica x(t,x0)\n",
    "\n",
    "\n",
    "# Vector de tiempo\n",
    "\n",
    "# Condicion inicial\n"
   ]
  },
  {
   "cell_type": "code",
   "execution_count": null,
   "metadata": {},
   "outputs": [],
   "source": [
    "# Graficar para diferentes r entre -1 y 1\n"
   ]
  },
  {
   "cell_type": "markdown",
   "metadata": {},
   "source": [
    "Como podemos ver, la solución a está ecuación en el continuo nos puede ganantizar la extinción o bien un crecimiento descomunal, dependiendo del valor asignado a $r$. "
   ]
  },
  {
   "cell_type": "markdown",
   "metadata": {},
   "source": [
    "*Numéricamente*, ¿cómo resolveríamos esta ecuación? "
   ]
  },
  {
   "cell_type": "code",
   "execution_count": null,
   "metadata": {},
   "outputs": [],
   "source": [
    "# Importamos función para integrar numéricamente ecuaciones diferenciales\n"
   ]
  },
  {
   "cell_type": "code",
   "execution_count": null,
   "metadata": {},
   "outputs": [],
   "source": [
    "help(odeint)"
   ]
  },
  {
   "cell_type": "code",
   "execution_count": null,
   "metadata": {},
   "outputs": [],
   "source": [
    "# Definimos el campo de la ecuación diferencial\n"
   ]
  },
  {
   "cell_type": "code",
   "execution_count": null,
   "metadata": {},
   "outputs": [],
   "source": [
    "# Parámetro r\n",
    "\n",
    "# Condición inicial\n",
    "\n",
    "# Vector de tiempo\n",
    "\n",
    "# Solución\n"
   ]
  },
  {
   "cell_type": "code",
   "execution_count": null,
   "metadata": {},
   "outputs": [],
   "source": [
    "# Gráfico de la solución\n"
   ]
  },
  {
   "cell_type": "markdown",
   "metadata": {},
   "source": [
    "### ¿Qué tan buena es la aproximación de la solución numérica?\n",
    "Hay ecuaciones diferenciales ordinarias no lineales para las cuales es imposible obtener la solución exacta. En estos casos, se evalúa una solución aproximada de forma numérica.\n",
    "\n",
    "Para el caso anterior fue posible obtener la solución exacta, lo cual nos permite comparar ambas soluciones y evaluar qué tan buena es la aproximación que nos brinda la solución numérica.\n",
    "\n",
    "Primero veamos esto gráficamente"
   ]
  },
  {
   "cell_type": "code",
   "execution_count": null,
   "metadata": {},
   "outputs": [],
   "source": [
    "# Solución numérica\n",
    "\n",
    "# Solución exacta\n"
   ]
  },
  {
   "cell_type": "code",
   "execution_count": null,
   "metadata": {},
   "outputs": [],
   "source": []
  },
  {
   "cell_type": "code",
   "execution_count": null,
   "metadata": {},
   "outputs": [],
   "source": [
    "# Gráfica de comparación\n"
   ]
  },
  {
   "cell_type": "markdown",
   "metadata": {},
   "source": [
    "Gráficamente vemos que la solución numérica está cerca (coincide) con la solución exacta. Sin embargo, con esta gráfica no podemos visualizar qué tan cerca están una solución de la otra. ¿Qué tal si evaluamos el error?"
   ]
  },
  {
   "cell_type": "code",
   "execution_count": null,
   "metadata": {},
   "outputs": [],
   "source": [
    "# Error de aproximación\n"
   ]
  },
  {
   "cell_type": "code",
   "execution_count": null,
   "metadata": {},
   "outputs": [],
   "source": [
    "# Gráfica del error\n"
   ]
  },
  {
   "cell_type": "markdown",
   "metadata": {},
   "source": [
    "Entonces, **cualitativamente** ya vimos que la solución numérica es *suficientemente buena*. De todas maneras, es siempre bueno cuantificar *qué tan buena* es la aproximación. Varias formas:\n",
    "- <font color=blue>Norma del error</font>: tenemos el error de aproximación en ciertos puntos (especificados por el vector de tiempo). Este error es entonces un vector y le podemos tomar su norma 2\n",
    "\n",
    "$$||e||_2=\\sqrt{e[0]^2+\\dots+e[n-1]^2}$$"
   ]
  },
  {
   "cell_type": "code",
   "execution_count": null,
   "metadata": {},
   "outputs": [],
   "source": []
  },
  {
   "cell_type": "markdown",
   "metadata": {},
   "source": [
    "- <font color=blue>Error cuadrático medio</font>: otra forma de cuantificar es con el error cuadrático medio\n",
    "\n",
    "$$e_{ms}=\\frac{e[0]^2+\\dots+e[n-1]^2}{n}$$"
   ]
  },
  {
   "cell_type": "code",
   "execution_count": null,
   "metadata": {},
   "outputs": [],
   "source": []
  },
  {
   "cell_type": "markdown",
   "metadata": {},
   "source": [
    "- <font color=blue>Integral del error cuadrático</font>: evalúa la acumulación de error cuadrático. Se puede evaluar cabo con la siguiente aproximación rectangular de la integral\n",
    "\n",
    "$$e_{is}=\\int_{0}^{t_f}e(t)^2\\text{d}t\\approx \\left(e[0]^2+\\dots+e[n-1]^2\\right)h$$\n",
    "\n",
    "donde $h$ es el tamaño de paso del vector de tiempo."
   ]
  },
  {
   "cell_type": "code",
   "execution_count": null,
   "metadata": {},
   "outputs": [],
   "source": []
  },
  {
   "cell_type": "markdown",
   "metadata": {},
   "source": [
    "### Comentarios del modelo logístico\n",
    "El modelo no se debe tomar literalmente. Más bien se debe interpretar metafóricamente como que la población tiene una tendencia a crecer hasta su tope, o bien, desaparecer.\n",
    "\n",
    "La ecuación logística fue probada en experimentos de laboratorio para colonias de bacterias en condiciones de clima constante, abastecimiento de comida y ausencia de predadores. Los experimentos mostraron que la ecuación predecía muy bien el comportamiento real.\n",
    "\n",
    "Por otra parte, la predicción no resultó tan buena para moscas que se alimentan de frutas, escarabajos y otros organismos con ciclos de vida complejos. En esos casos se observaron fluctuaciones (oscilaciones) inmensas de la población."
   ]
  },
  {
   "cell_type": "markdown",
   "metadata": {},
   "source": [
    "___\n",
    "## Mapa logístico\n",
    "> La ecuación logística (curva de crecimiento logístico) es un modelo del crecimiento continuo en el tiempo. Una modificación de la ecuación continua a una ecuación de recurrencia discreta conocida como **mapa logistico** es muy usada.\n",
    "\n",
    "Referencia: \n",
    "- https://es.wikipedia.org/wiki/Aplicación_log%C3%ADstica\n",
    "- https://en.wikipedia.org/wiki/Logistic_map\n",
    "\n",
    "> Si reemplazamos la ecuación logísitica por la ecuación a diferencias: \n",
    "\n",
    "> $$x_{n+1} = r\\; x_{n}(1- x_{n}),$$\n",
    "\n",
    "> donde $r$ es la razón de crecimiento máximo de la población y $x_{n}$ es la n-ésima iteración. Entonces, lo que tenemos que programar es la siguiente relación recursiva\n",
    "\n",
    "> $$x_{n+1}^{(r)} = f_r(x_n^{(r)}) = rx_n^{(r)}(1-x_n^{(r)})$$"
   ]
  },
  {
   "cell_type": "markdown",
   "metadata": {},
   "source": [
    "El siguiente `gif` muestra las primeras 63 iteraciones de la anterior ecuación para diferentes valores de $r$ variando entre 2 y 4.\n",
    "\n",
    "<img style=\"float: center;\" src=\"https://upload.wikimedia.org/wikipedia/commons/1/1f/Logistic_map_animation.gif\" width=\"800px\" height=\"400px\" />\n",
    "\n",
    "Tomado de https://upload.wikimedia.org/wikipedia/commons/1/1f/Logistic_map_animation.gif.\n",
    "\n",
    "Note que:\n",
    "- Para $2<r<3$ el las soluciones se estabilizan en un valor de equilibrio.\n",
    "- Para $3<r<1+\\sqrt{6}\\approx 3.44949$ el las soluciones oscilan entre dos valores.\n",
    "- Para $3.44949<r<3.54409$ las soluciones oscilan entre cuatro valores.\n",
    "- Para $r>3.54409$ las soluciones exhiben un comportamiento **caótico**."
   ]
  },
  {
   "cell_type": "markdown",
   "metadata": {},
   "source": [
    "**Caos: comportamiento determinista aperiódico muy sensible a las condiciones iniciales. Es decir, pequeñas variaciones en dichas condiciones iniciales pueden implicar grandes diferencias en el comportamiento futuro**"
   ]
  },
  {
   "cell_type": "markdown",
   "metadata": {},
   "source": [
    "**¿Cómo podemos capturar este comportamiento en una sola gráfica?**"
   ]
  },
  {
   "cell_type": "code",
   "execution_count": null,
   "metadata": {},
   "outputs": [],
   "source": [
    "# Definición de la función mapa logístico\n"
   ]
  },
  {
   "cell_type": "code",
   "execution_count": null,
   "metadata": {},
   "outputs": [],
   "source": [
    "# Para mil valores de r entre 2.0 y 4.0\n"
   ]
  },
  {
   "cell_type": "code",
   "execution_count": null,
   "metadata": {},
   "outputs": [],
   "source": [
    "# Hacemos 1000 iteraciones y nos quedamos con las ultimas 100 (capturamos el comportamiento final)\n",
    "\n",
    "\n",
    "# La misma condición inicial para todos los casos. \n"
   ]
  },
  {
   "cell_type": "code",
   "execution_count": null,
   "metadata": {},
   "outputs": [],
   "source": [
    "# Gráfico\n"
   ]
  }
 ],
 "metadata": {
  "kernelspec": {
   "display_name": "Python 3",
   "language": "python",
   "name": "python3"
  },
  "language_info": {
   "codemirror_mode": {
    "name": "ipython",
    "version": 3
   },
   "file_extension": ".py",
   "mimetype": "text/x-python",
   "name": "python",
   "nbconvert_exporter": "python",
   "pygments_lexer": "ipython3",
   "version": "3.7.0"
  }
 },
 "nbformat": 4,
 "nbformat_minor": 1
}
